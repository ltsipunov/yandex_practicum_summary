{
 "cells": [
  {
   "cell_type": "markdown",
   "id": "GEqQaHzsZ_bA",
   "metadata": {
    "id": "GEqQaHzsZ_bA"
   },
   "source": [
    "# Предсказание стоимости жилья\n",
    "\n",
    "Нужно обучить модель линейной регрессии на данных о жилье в Калифорнии в 1990 году,\n",
    "и предсказать медианную стоимость дома в жилом массиве.   \n",
    "Для оценки качества модели используйте метрики RMSE, MAE и R2."
   ]
  },
  {
   "cell_type": "markdown",
   "id": "53871372",
   "metadata": {
    "id": "53871372"
   },
   "source": [
    "## Подготовка данных"
   ]
  },
  {
   "cell_type": "code",
   "execution_count": 1,
   "id": "f3aea180",
   "metadata": {
    "id": "df92e3ec"
   },
   "outputs": [],
   "source": [
    "import pandas as pd \n",
    "import numpy as np\n",
    "import pyspark\n",
    "from pyspark.sql import SparkSession\n",
    "from pyspark.sql.types import *\n",
    "import pyspark.sql.functions as F"
   ]
  },
  {
   "cell_type": "code",
   "execution_count": 2,
   "id": "7d940eca",
   "metadata": {},
   "outputs": [],
   "source": [
    "from pyspark.ml import Pipeline\n",
    "from pyspark.ml.regression import RandomForestRegressor,LinearRegression\n",
    "from pyspark.ml.feature import StringIndexer, OneHotEncoder, VectorAssembler\n",
    "from pyspark.mllib.evaluation import RegressionMetrics\n",
    "from pyspark.ml.feature import StandardScaler#,MinMaxScaler\n",
    "from pyspark.ml.stat import Correlation"
   ]
  },
  {
   "cell_type": "code",
   "execution_count": 3,
   "id": "d3d78dbf",
   "metadata": {},
   "outputs": [],
   "source": [
    "import matplotlib.pyplot as plt"
   ]
  },
  {
   "cell_type": "code",
   "execution_count": 4,
   "id": "df92e3ec",
   "metadata": {
    "id": "df92e3ec"
   },
   "outputs": [],
   "source": [
    "spark = SparkSession.builder \\\n",
    "                    .master(\"local\") \\\n",
    "                    .appName(\"EDA California Housing\") \\\n",
    "                    .getOrCreate()"
   ]
  },
  {
   "cell_type": "code",
   "execution_count": 5,
   "id": "bddb08c4",
   "metadata": {
    "id": "bddb08c4"
   },
   "outputs": [
    {
     "name": "stderr",
     "output_type": "stream",
     "text": [
      "[Stage 1:>                                                          (0 + 1) / 1]\r"
     ]
    },
    {
     "name": "stdout",
     "output_type": "stream",
     "text": [
      "root\n",
      " |-- longitude: double (nullable = true)\n",
      " |-- latitude: double (nullable = true)\n",
      " |-- housing_median_age: double (nullable = true)\n",
      " |-- total_rooms: double (nullable = true)\n",
      " |-- total_bedrooms: double (nullable = true)\n",
      " |-- population: double (nullable = true)\n",
      " |-- households: double (nullable = true)\n",
      " |-- median_income: double (nullable = true)\n",
      " |-- median_house_value: double (nullable = true)\n",
      " |-- ocean_proximity: string (nullable = true)\n",
      "\n"
     ]
    },
    {
     "name": "stderr",
     "output_type": "stream",
     "text": [
      "                                                                                \r"
     ]
    }
   ],
   "source": [
    "# schema = StructType([\n",
    "#     StructField(\"longitude\", FloatType(), nullable=True),\n",
    "#     StructField(\"latitude\", FloatType(), nullable=True),\n",
    "#     StructField(\"housing_median_age\", FloatType(), nullable=True),\n",
    "#     StructField(\"total_rooms\", FloatType(), nullable=True),\n",
    "#     StructField(\"total_bedrooms\", FloatType(), nullable=True),\n",
    "#     StructField(\"population\", FloatType(), nullable=True),\n",
    "#     StructField(\"households\", FloatType(), nullable=True),\n",
    "#     StructField(\"median_income\", FloatType(), nullable=True),\n",
    "#     StructField(\"median_house_value\", FloatType(), nullable=True),\n",
    "#     StructField(\"ocean_proximity\", StringType(), nullable=True)]\n",
    "# )\n",
    "\n",
    "df_housing =  spark.read.csv( '/datasets/housing.csv',inferSchema=True,header=True)\n",
    "df_housing.printSchema()"
   ]
  },
  {
   "cell_type": "markdown",
   "id": "1217fabf",
   "metadata": {},
   "source": [
    "Прочитанная из датасета схема соответствует ожидаемой"
   ]
  },
  {
   "cell_type": "markdown",
   "id": "e38c6572",
   "metadata": {},
   "source": [
    "Проверим незаполненные значения"
   ]
  },
  {
   "cell_type": "code",
   "execution_count": 6,
   "id": "48c8d57f",
   "metadata": {
    "scrolled": true
   },
   "outputs": [
    {
     "name": "stdout",
     "output_type": "stream",
     "text": [
      "longitude 20640 0 0 0\n",
      "latitude 20640 0 0 0\n",
      "housing_median_age 20640 0 0 0\n",
      "total_rooms 20640 0 0 0\n",
      "total_bedrooms 20640 207 0 0\n",
      "population 20640 0 0 0\n",
      "households 20640 0 0 0\n",
      "median_income 20640 0 0 0\n",
      "median_house_value 20640 0 0 0\n",
      "ocean_proximity 20640 0 0 0\n"
     ]
    }
   ],
   "source": [
    "for c in df_housing.columns:\n",
    "    print(c,df_housing.select(c).count(),\n",
    "          df_housing.select(c).filter(F.col(c).isNull() ).count(),\n",
    "          df_housing.select(c).filter(F.col(c) ==np.nan).count(),\n",
    "          df_housing.select(c).filter(F.col(c).isin([None]) ).count()\n",
    "         )"
   ]
  },
  {
   "cell_type": "markdown",
   "id": "6ec2609e",
   "metadata": {},
   "source": [
    "Только в одном поле (total_bedrooms) есть пустые значения , их примерно 1% .\n",
    "Можно заменить их медианой,  \n",
    "но количество спален сильно коррелирует с количеством комнат, поэтому ниже вместо него используется \"коэффицент спален\"\n",
    "Поэтому пока заменим на 0 , а после расчета коэффицента поменяем на медиану"
   ]
  },
  {
   "cell_type": "code",
   "execution_count": 7,
   "id": "de78d319",
   "metadata": {},
   "outputs": [
    {
     "data": {
      "text/plain": [
       "(0, 207)"
      ]
     },
     "execution_count": 7,
     "metadata": {},
     "output_type": "execute_result"
    }
   ],
   "source": [
    "df_housing = df_housing.fillna(0,'total_bedrooms')\n",
    "df_housing.filter(F.col('total_bedrooms').isNull()).count(),df_housing.filter(F.col('total_bedrooms')==0).count()"
   ]
  },
  {
   "cell_type": "markdown",
   "id": "ab61c4c0",
   "metadata": {},
   "source": [
    "nulls заменены на 0"
   ]
  },
  {
   "cell_type": "markdown",
   "id": "408105e9",
   "metadata": {},
   "source": [
    "Проверим полные дубликаты "
   ]
  },
  {
   "cell_type": "code",
   "execution_count": 8,
   "id": "a9d04b20",
   "metadata": {
    "scrolled": true
   },
   "outputs": [
    {
     "name": "stderr",
     "output_type": "stream",
     "text": [
      "                                                                                \r"
     ]
    },
    {
     "data": {
      "text/plain": [
       "0"
      ]
     },
     "execution_count": 8,
     "metadata": {},
     "output_type": "execute_result"
    }
   ],
   "source": [
    "df_housing.groupby(df_housing.columns[2:]).count().where('count > 1').count()"
   ]
  },
  {
   "cell_type": "markdown",
   "id": "67c6e7c0",
   "metadata": {},
   "source": [
    "Проверим корреляцию"
   ]
  },
  {
   "cell_type": "code",
   "execution_count": 9,
   "id": "6f9c3c84",
   "metadata": {},
   "outputs": [],
   "source": [
    "num_cols=[\n",
    "    'longitude','latitude','housing_median_age','total_rooms','total_bedrooms','population','households','median_income'\n",
    "]\n",
    "def corr_to_df(df_rdd,cols):\n",
    "    return pd.DataFrame(\n",
    "        Correlation.corr(\n",
    "                VectorAssembler(inputCols=cols,outputCol='v').transform(df_rdd),'v'\n",
    "            ).collect()[0][0].toArray().tolist() ,\n",
    "        index=cols,columns = cols \n",
    "    )    "
   ]
  },
  {
   "cell_type": "code",
   "execution_count": 10,
   "id": "0e7c084e",
   "metadata": {},
   "outputs": [
    {
     "name": "stderr",
     "output_type": "stream",
     "text": [
      "24/02/08 15:33:59 WARN BLAS: Failed to load implementation from: com.github.fommil.netlib.NativeSystemBLAS\n",
      "24/02/08 15:33:59 WARN BLAS: Failed to load implementation from: com.github.fommil.netlib.NativeRefBLAS\n",
      "                                                                                \r"
     ]
    },
    {
     "data": {
      "text/html": [
       "<style  type=\"text/css\" >\n",
       "#T_bcea7_row0_col0,#T_bcea7_row1_col1,#T_bcea7_row2_col2,#T_bcea7_row3_col3,#T_bcea7_row4_col4,#T_bcea7_row5_col5,#T_bcea7_row6_col6,#T_bcea7_row7_col7{\n",
       "            background-color:  #b40426;\n",
       "            color:  #f1f1f1;\n",
       "        }#T_bcea7_row0_col1,#T_bcea7_row1_col0,#T_bcea7_row2_col3,#T_bcea7_row2_col4,#T_bcea7_row2_col5,#T_bcea7_row2_col6,#T_bcea7_row2_col7,#T_bcea7_row3_col2{\n",
       "            background-color:  #3b4cc0;\n",
       "            color:  #f1f1f1;\n",
       "        }#T_bcea7_row0_col2{\n",
       "            background-color:  #7699f6;\n",
       "            color:  #000000;\n",
       "        }#T_bcea7_row0_col3{\n",
       "            background-color:  #9ebeff;\n",
       "            color:  #000000;\n",
       "        }#T_bcea7_row0_col4{\n",
       "            background-color:  #9bbcff;\n",
       "            color:  #000000;\n",
       "        }#T_bcea7_row0_col5{\n",
       "            background-color:  #a1c0ff;\n",
       "            color:  #000000;\n",
       "        }#T_bcea7_row0_col6,#T_bcea7_row1_col2{\n",
       "            background-color:  #96b7ff;\n",
       "            color:  #000000;\n",
       "        }#T_bcea7_row0_col7{\n",
       "            background-color:  #5673e0;\n",
       "            color:  #000000;\n",
       "        }#T_bcea7_row1_col3{\n",
       "            background-color:  #89acfd;\n",
       "            color:  #000000;\n",
       "        }#T_bcea7_row1_col4{\n",
       "            background-color:  #779af7;\n",
       "            color:  #000000;\n",
       "        }#T_bcea7_row1_col5{\n",
       "            background-color:  #688aef;\n",
       "            color:  #000000;\n",
       "        }#T_bcea7_row1_col6,#T_bcea7_row7_col2{\n",
       "            background-color:  #7396f5;\n",
       "            color:  #000000;\n",
       "        }#T_bcea7_row1_col7,#T_bcea7_row4_col2{\n",
       "            background-color:  #445acc;\n",
       "            color:  #f1f1f1;\n",
       "        }#T_bcea7_row2_col0,#T_bcea7_row5_col1{\n",
       "            background-color:  #c7d7f0;\n",
       "            color:  #000000;\n",
       "        }#T_bcea7_row2_col1{\n",
       "            background-color:  #d9dce1;\n",
       "            color:  #000000;\n",
       "        }#T_bcea7_row3_col0{\n",
       "            background-color:  #dddcdc;\n",
       "            color:  #000000;\n",
       "        }#T_bcea7_row3_col1{\n",
       "            background-color:  #d3dbe7;\n",
       "            color:  #000000;\n",
       "        }#T_bcea7_row3_col4,#T_bcea7_row4_col3,#T_bcea7_row6_col3{\n",
       "            background-color:  #ca3b37;\n",
       "            color:  #f1f1f1;\n",
       "        }#T_bcea7_row3_col5{\n",
       "            background-color:  #d95847;\n",
       "            color:  #000000;\n",
       "        }#T_bcea7_row3_col6{\n",
       "            background-color:  #cb3e38;\n",
       "            color:  #f1f1f1;\n",
       "        }#T_bcea7_row3_col7{\n",
       "            background-color:  #98b9ff;\n",
       "            color:  #000000;\n",
       "        }#T_bcea7_row4_col0{\n",
       "            background-color:  #e1dad6;\n",
       "            color:  #000000;\n",
       "        }#T_bcea7_row4_col1{\n",
       "            background-color:  #cedaeb;\n",
       "            color:  #000000;\n",
       "        }#T_bcea7_row4_col5,#T_bcea7_row5_col3{\n",
       "            background-color:  #d75445;\n",
       "            color:  #000000;\n",
       "        }#T_bcea7_row4_col6,#T_bcea7_row6_col4{\n",
       "            background-color:  #bd1f2d;\n",
       "            color:  #f1f1f1;\n",
       "        }#T_bcea7_row4_col7{\n",
       "            background-color:  #5977e3;\n",
       "            color:  #000000;\n",
       "        }#T_bcea7_row5_col0{\n",
       "            background-color:  #e5d8d1;\n",
       "            color:  #000000;\n",
       "        }#T_bcea7_row5_col2{\n",
       "            background-color:  #4961d2;\n",
       "            color:  #f1f1f1;\n",
       "        }#T_bcea7_row5_col4{\n",
       "            background-color:  #d65244;\n",
       "            color:  #000000;\n",
       "        }#T_bcea7_row5_col6,#T_bcea7_row6_col5{\n",
       "            background-color:  #cd423b;\n",
       "            color:  #f1f1f1;\n",
       "        }#T_bcea7_row5_col7{\n",
       "            background-color:  #5d7ce6;\n",
       "            color:  #000000;\n",
       "        }#T_bcea7_row6_col0{\n",
       "            background-color:  #dfdbd9;\n",
       "            color:  #000000;\n",
       "        }#T_bcea7_row6_col1{\n",
       "            background-color:  #cdd9ec;\n",
       "            color:  #000000;\n",
       "        }#T_bcea7_row6_col2{\n",
       "            background-color:  #465ecf;\n",
       "            color:  #f1f1f1;\n",
       "        }#T_bcea7_row6_col7{\n",
       "            background-color:  #5f7fe8;\n",
       "            color:  #000000;\n",
       "        }#T_bcea7_row7_col0{\n",
       "            background-color:  #d5dbe5;\n",
       "            color:  #000000;\n",
       "        }#T_bcea7_row7_col1{\n",
       "            background-color:  #ccd9ed;\n",
       "            color:  #000000;\n",
       "        }#T_bcea7_row7_col3{\n",
       "            background-color:  #c4d5f3;\n",
       "            color:  #000000;\n",
       "        }#T_bcea7_row7_col4{\n",
       "            background-color:  #88abfd;\n",
       "            color:  #000000;\n",
       "        }#T_bcea7_row7_col5{\n",
       "            background-color:  #86a9fc;\n",
       "            color:  #000000;\n",
       "        }#T_bcea7_row7_col6{\n",
       "            background-color:  #8badfd;\n",
       "            color:  #000000;\n",
       "        }</style><table id=\"T_bcea7_\" ><thead>    <tr>        <th class=\"blank level0\" ></th>        <th class=\"col_heading level0 col0\" >longitude</th>        <th class=\"col_heading level0 col1\" >latitude</th>        <th class=\"col_heading level0 col2\" >housing_median_age</th>        <th class=\"col_heading level0 col3\" >total_rooms</th>        <th class=\"col_heading level0 col4\" >total_bedrooms</th>        <th class=\"col_heading level0 col5\" >population</th>        <th class=\"col_heading level0 col6\" >households</th>        <th class=\"col_heading level0 col7\" >median_income</th>    </tr></thead><tbody>\n",
       "                <tr>\n",
       "                        <th id=\"T_bcea7_level0_row0\" class=\"row_heading level0 row0\" >longitude</th>\n",
       "                        <td id=\"T_bcea7_row0_col0\" class=\"data row0 col0\" >1.00</td>\n",
       "                        <td id=\"T_bcea7_row0_col1\" class=\"data row0 col1\" >-0.92</td>\n",
       "                        <td id=\"T_bcea7_row0_col2\" class=\"data row0 col2\" >-0.11</td>\n",
       "                        <td id=\"T_bcea7_row0_col3\" class=\"data row0 col3\" >0.04</td>\n",
       "                        <td id=\"T_bcea7_row0_col4\" class=\"data row0 col4\" >0.07</td>\n",
       "                        <td id=\"T_bcea7_row0_col5\" class=\"data row0 col5\" >0.10</td>\n",
       "                        <td id=\"T_bcea7_row0_col6\" class=\"data row0 col6\" >0.06</td>\n",
       "                        <td id=\"T_bcea7_row0_col7\" class=\"data row0 col7\" >-0.02</td>\n",
       "            </tr>\n",
       "            <tr>\n",
       "                        <th id=\"T_bcea7_level0_row1\" class=\"row_heading level0 row1\" >latitude</th>\n",
       "                        <td id=\"T_bcea7_row1_col0\" class=\"data row1 col0\" >-0.92</td>\n",
       "                        <td id=\"T_bcea7_row1_col1\" class=\"data row1 col1\" >1.00</td>\n",
       "                        <td id=\"T_bcea7_row1_col2\" class=\"data row1 col2\" >0.01</td>\n",
       "                        <td id=\"T_bcea7_row1_col3\" class=\"data row1 col3\" >-0.04</td>\n",
       "                        <td id=\"T_bcea7_row1_col4\" class=\"data row1 col4\" >-0.07</td>\n",
       "                        <td id=\"T_bcea7_row1_col5\" class=\"data row1 col5\" >-0.11</td>\n",
       "                        <td id=\"T_bcea7_row1_col6\" class=\"data row1 col6\" >-0.07</td>\n",
       "                        <td id=\"T_bcea7_row1_col7\" class=\"data row1 col7\" >-0.08</td>\n",
       "            </tr>\n",
       "            <tr>\n",
       "                        <th id=\"T_bcea7_level0_row2\" class=\"row_heading level0 row2\" >housing_median_age</th>\n",
       "                        <td id=\"T_bcea7_row2_col0\" class=\"data row2 col0\" >-0.11</td>\n",
       "                        <td id=\"T_bcea7_row2_col1\" class=\"data row2 col1\" >0.01</td>\n",
       "                        <td id=\"T_bcea7_row2_col2\" class=\"data row2 col2\" >1.00</td>\n",
       "                        <td id=\"T_bcea7_row2_col3\" class=\"data row2 col3\" >-0.36</td>\n",
       "                        <td id=\"T_bcea7_row2_col4\" class=\"data row2 col4\" >-0.32</td>\n",
       "                        <td id=\"T_bcea7_row2_col5\" class=\"data row2 col5\" >-0.30</td>\n",
       "                        <td id=\"T_bcea7_row2_col6\" class=\"data row2 col6\" >-0.30</td>\n",
       "                        <td id=\"T_bcea7_row2_col7\" class=\"data row2 col7\" >-0.12</td>\n",
       "            </tr>\n",
       "            <tr>\n",
       "                        <th id=\"T_bcea7_level0_row3\" class=\"row_heading level0 row3\" >total_rooms</th>\n",
       "                        <td id=\"T_bcea7_row3_col0\" class=\"data row3 col0\" >0.04</td>\n",
       "                        <td id=\"T_bcea7_row3_col1\" class=\"data row3 col1\" >-0.04</td>\n",
       "                        <td id=\"T_bcea7_row3_col2\" class=\"data row3 col2\" >-0.36</td>\n",
       "                        <td id=\"T_bcea7_row3_col3\" class=\"data row3 col3\" >1.00</td>\n",
       "                        <td id=\"T_bcea7_row3_col4\" class=\"data row3 col4\" >0.92</td>\n",
       "                        <td id=\"T_bcea7_row3_col5\" class=\"data row3 col5\" >0.86</td>\n",
       "                        <td id=\"T_bcea7_row3_col6\" class=\"data row3 col6\" >0.92</td>\n",
       "                        <td id=\"T_bcea7_row3_col7\" class=\"data row3 col7\" >0.20</td>\n",
       "            </tr>\n",
       "            <tr>\n",
       "                        <th id=\"T_bcea7_level0_row4\" class=\"row_heading level0 row4\" >total_bedrooms</th>\n",
       "                        <td id=\"T_bcea7_row4_col0\" class=\"data row4 col0\" >0.07</td>\n",
       "                        <td id=\"T_bcea7_row4_col1\" class=\"data row4 col1\" >-0.07</td>\n",
       "                        <td id=\"T_bcea7_row4_col2\" class=\"data row4 col2\" >-0.32</td>\n",
       "                        <td id=\"T_bcea7_row4_col3\" class=\"data row4 col3\" >0.92</td>\n",
       "                        <td id=\"T_bcea7_row4_col4\" class=\"data row4 col4\" >1.00</td>\n",
       "                        <td id=\"T_bcea7_row4_col5\" class=\"data row4 col5\" >0.87</td>\n",
       "                        <td id=\"T_bcea7_row4_col6\" class=\"data row4 col6\" >0.97</td>\n",
       "                        <td id=\"T_bcea7_row4_col7\" class=\"data row4 col7\" >-0.01</td>\n",
       "            </tr>\n",
       "            <tr>\n",
       "                        <th id=\"T_bcea7_level0_row5\" class=\"row_heading level0 row5\" >population</th>\n",
       "                        <td id=\"T_bcea7_row5_col0\" class=\"data row5 col0\" >0.10</td>\n",
       "                        <td id=\"T_bcea7_row5_col1\" class=\"data row5 col1\" >-0.11</td>\n",
       "                        <td id=\"T_bcea7_row5_col2\" class=\"data row5 col2\" >-0.30</td>\n",
       "                        <td id=\"T_bcea7_row5_col3\" class=\"data row5 col3\" >0.86</td>\n",
       "                        <td id=\"T_bcea7_row5_col4\" class=\"data row5 col4\" >0.87</td>\n",
       "                        <td id=\"T_bcea7_row5_col5\" class=\"data row5 col5\" >1.00</td>\n",
       "                        <td id=\"T_bcea7_row5_col6\" class=\"data row5 col6\" >0.91</td>\n",
       "                        <td id=\"T_bcea7_row5_col7\" class=\"data row5 col7\" >0.00</td>\n",
       "            </tr>\n",
       "            <tr>\n",
       "                        <th id=\"T_bcea7_level0_row6\" class=\"row_heading level0 row6\" >households</th>\n",
       "                        <td id=\"T_bcea7_row6_col0\" class=\"data row6 col0\" >0.06</td>\n",
       "                        <td id=\"T_bcea7_row6_col1\" class=\"data row6 col1\" >-0.07</td>\n",
       "                        <td id=\"T_bcea7_row6_col2\" class=\"data row6 col2\" >-0.30</td>\n",
       "                        <td id=\"T_bcea7_row6_col3\" class=\"data row6 col3\" >0.92</td>\n",
       "                        <td id=\"T_bcea7_row6_col4\" class=\"data row6 col4\" >0.97</td>\n",
       "                        <td id=\"T_bcea7_row6_col5\" class=\"data row6 col5\" >0.91</td>\n",
       "                        <td id=\"T_bcea7_row6_col6\" class=\"data row6 col6\" >1.00</td>\n",
       "                        <td id=\"T_bcea7_row6_col7\" class=\"data row6 col7\" >0.01</td>\n",
       "            </tr>\n",
       "            <tr>\n",
       "                        <th id=\"T_bcea7_level0_row7\" class=\"row_heading level0 row7\" >median_income</th>\n",
       "                        <td id=\"T_bcea7_row7_col0\" class=\"data row7 col0\" >-0.02</td>\n",
       "                        <td id=\"T_bcea7_row7_col1\" class=\"data row7 col1\" >-0.08</td>\n",
       "                        <td id=\"T_bcea7_row7_col2\" class=\"data row7 col2\" >-0.12</td>\n",
       "                        <td id=\"T_bcea7_row7_col3\" class=\"data row7 col3\" >0.20</td>\n",
       "                        <td id=\"T_bcea7_row7_col4\" class=\"data row7 col4\" >-0.01</td>\n",
       "                        <td id=\"T_bcea7_row7_col5\" class=\"data row7 col5\" >0.00</td>\n",
       "                        <td id=\"T_bcea7_row7_col6\" class=\"data row7 col6\" >0.01</td>\n",
       "                        <td id=\"T_bcea7_row7_col7\" class=\"data row7 col7\" >1.00</td>\n",
       "            </tr>\n",
       "    </tbody></table>"
      ],
      "text/plain": [
       "<pandas.io.formats.style.Styler at 0x7f597b74a730>"
      ]
     },
     "execution_count": 10,
     "metadata": {},
     "output_type": "execute_result"
    }
   ],
   "source": [
    "corr_to_df(df_housing,num_cols).style.background_gradient(cmap='coolwarm').set_precision(2)"
   ]
  },
  {
   "cell_type": "markdown",
   "id": "13353407",
   "metadata": {},
   "source": [
    "Есть несколько колонок , сильно коррелирующих с количеством домов в районе.    \n",
    "В курсе была идея заменить их на коэффициенты относительно количества домов, что уменьшит прямую корреляцию признаков, но всё же сохранит полезную информацию о плотности населения и количестве комнат на дом, которая может влиять на цену  "
   ]
  },
  {
   "cell_type": "markdown",
   "id": "812f5201",
   "metadata": {},
   "source": [
    "Кроме того сильно коррелируют географические координаты, видимо это связано с тем , что Калифорния вытянута c NW на SE.  \n",
    "Можно повернуть координаты так, чтобы длинная ось была вдоль побережья, а вторая поперек, в этом случае вторая ось будет коррелировать с расстоянием от океана.  \n",
    "Точный угол поворота можно рассчитать из набора данных (но этом случае он будет зависеть от набора и его надо пересчитывать при предсказании). Я думаю, что достаточно повернуть на 45град, заменив координаты разностью и суммой - это грубое улучшение, но все же лучше, чем исходный набор "
   ]
  },
  {
   "cell_type": "code",
   "execution_count": 11,
   "id": "bd5df8e2",
   "metadata": {},
   "outputs": [],
   "source": [
    "df_housing = df_housing.withColumn('k_rooms', F.col('total_rooms')/F.col('households') )\n",
    "df_housing = df_housing.withColumn('k_population', F.col('population')/F.col('households') )\n",
    "df_housing = df_housing.withColumn('k_bedrooms', F.col('total_bedrooms')/F.col('total_rooms') )\n",
    "df_housing = df_housing.withColumn('sum_xy', F.col('longitude')+F.col('latitude') )\n",
    "df_housing = df_housing.withColumn('diff_xy', F.col('longitude')-F.col('latitude') )"
   ]
  },
  {
   "cell_type": "code",
   "execution_count": 12,
   "id": "de0b7ef1",
   "metadata": {},
   "outputs": [
    {
     "data": {
      "text/html": [
       "<style  type=\"text/css\" >\n",
       "#T_1b3c7_row0_col0,#T_1b3c7_row1_col1,#T_1b3c7_row2_col2,#T_1b3c7_row3_col3,#T_1b3c7_row4_col4,#T_1b3c7_row5_col5,#T_1b3c7_row6_col6,#T_1b3c7_row7_col7{\n",
       "            background-color:  #b40426;\n",
       "            color:  #f1f1f1;\n",
       "        }#T_1b3c7_row0_col1,#T_1b3c7_row2_col6,#T_1b3c7_row4_col3,#T_1b3c7_row4_col7,#T_1b3c7_row6_col2,#T_1b3c7_row6_col5,#T_1b3c7_row7_col0,#T_1b3c7_row7_col4{\n",
       "            background-color:  #3b4cc0;\n",
       "            color:  #f1f1f1;\n",
       "        }#T_1b3c7_row0_col2{\n",
       "            background-color:  #4961d2;\n",
       "            color:  #f1f1f1;\n",
       "        }#T_1b3c7_row0_col3{\n",
       "            background-color:  #cad8ef;\n",
       "            color:  #000000;\n",
       "        }#T_1b3c7_row0_col4{\n",
       "            background-color:  #a6c4fe;\n",
       "            color:  #000000;\n",
       "        }#T_1b3c7_row0_col5{\n",
       "            background-color:  #455cce;\n",
       "            color:  #f1f1f1;\n",
       "        }#T_1b3c7_row0_col6{\n",
       "            background-color:  #799cf8;\n",
       "            color:  #000000;\n",
       "        }#T_1b3c7_row0_col7,#T_1b3c7_row5_col0{\n",
       "            background-color:  #7ea1fa;\n",
       "            color:  #000000;\n",
       "        }#T_1b3c7_row1_col0{\n",
       "            background-color:  #4e68d8;\n",
       "            color:  #000000;\n",
       "        }#T_1b3c7_row1_col2{\n",
       "            background-color:  #7699f6;\n",
       "            color:  #000000;\n",
       "        }#T_1b3c7_row1_col3{\n",
       "            background-color:  #85a8fc;\n",
       "            color:  #000000;\n",
       "        }#T_1b3c7_row1_col4{\n",
       "            background-color:  #c9d7f0;\n",
       "            color:  #000000;\n",
       "        }#T_1b3c7_row1_col5{\n",
       "            background-color:  #4257c9;\n",
       "            color:  #f1f1f1;\n",
       "        }#T_1b3c7_row1_col6{\n",
       "            background-color:  #98b9ff;\n",
       "            color:  #000000;\n",
       "        }#T_1b3c7_row1_col7{\n",
       "            background-color:  #bbd1f8;\n",
       "            color:  #000000;\n",
       "        }#T_1b3c7_row2_col0{\n",
       "            background-color:  #3d50c3;\n",
       "            color:  #f1f1f1;\n",
       "        }#T_1b3c7_row2_col1{\n",
       "            background-color:  #5673e0;\n",
       "            color:  #000000;\n",
       "        }#T_1b3c7_row2_col3,#T_1b3c7_row3_col6,#T_1b3c7_row7_col1{\n",
       "            background-color:  #7093f3;\n",
       "            color:  #000000;\n",
       "        }#T_1b3c7_row2_col4{\n",
       "            background-color:  #cdd9ec;\n",
       "            color:  #000000;\n",
       "        }#T_1b3c7_row2_col5{\n",
       "            background-color:  #465ecf;\n",
       "            color:  #f1f1f1;\n",
       "        }#T_1b3c7_row2_col7{\n",
       "            background-color:  #9abbff;\n",
       "            color:  #000000;\n",
       "        }#T_1b3c7_row3_col0{\n",
       "            background-color:  #b6cefa;\n",
       "            color:  #000000;\n",
       "        }#T_1b3c7_row3_col1{\n",
       "            background-color:  #5470de;\n",
       "            color:  #000000;\n",
       "        }#T_1b3c7_row3_col2{\n",
       "            background-color:  #5e7de7;\n",
       "            color:  #000000;\n",
       "        }#T_1b3c7_row3_col4{\n",
       "            background-color:  #5f7fe8;\n",
       "            color:  #000000;\n",
       "        }#T_1b3c7_row3_col5{\n",
       "            background-color:  #4055c8;\n",
       "            color:  #f1f1f1;\n",
       "        }#T_1b3c7_row3_col7{\n",
       "            background-color:  #edd1c2;\n",
       "            color:  #000000;\n",
       "        }#T_1b3c7_row4_col0{\n",
       "            background-color:  #688aef;\n",
       "            color:  #000000;\n",
       "        }#T_1b3c7_row4_col1{\n",
       "            background-color:  #84a7fc;\n",
       "            color:  #000000;\n",
       "        }#T_1b3c7_row4_col2{\n",
       "            background-color:  #a9c6fd;\n",
       "            color:  #000000;\n",
       "        }#T_1b3c7_row4_col5{\n",
       "            background-color:  #4358cb;\n",
       "            color:  #f1f1f1;\n",
       "        }#T_1b3c7_row4_col6{\n",
       "            background-color:  #97b8ff;\n",
       "            color:  #000000;\n",
       "        }#T_1b3c7_row5_col1,#T_1b3c7_row7_col2{\n",
       "            background-color:  #6788ee;\n",
       "            color:  #000000;\n",
       "        }#T_1b3c7_row5_col2,#T_1b3c7_row7_col6{\n",
       "            background-color:  #8badfd;\n",
       "            color:  #000000;\n",
       "        }#T_1b3c7_row5_col3{\n",
       "            background-color:  #96b7ff;\n",
       "            color:  #000000;\n",
       "        }#T_1b3c7_row5_col4{\n",
       "            background-color:  #b5cdfa;\n",
       "            color:  #000000;\n",
       "        }#T_1b3c7_row5_col6{\n",
       "            background-color:  #80a3fa;\n",
       "            color:  #000000;\n",
       "        }#T_1b3c7_row5_col7{\n",
       "            background-color:  #b9d0f9;\n",
       "            color:  #000000;\n",
       "        }#T_1b3c7_row6_col0{\n",
       "            background-color:  #6c8ff1;\n",
       "            color:  #000000;\n",
       "        }#T_1b3c7_row6_col1{\n",
       "            background-color:  #7a9df8;\n",
       "            color:  #000000;\n",
       "        }#T_1b3c7_row6_col3{\n",
       "            background-color:  #82a6fb;\n",
       "            color:  #000000;\n",
       "        }#T_1b3c7_row6_col4{\n",
       "            background-color:  #c1d4f4;\n",
       "            color:  #000000;\n",
       "        }#T_1b3c7_row6_col7{\n",
       "            background-color:  #b7cff9;\n",
       "            color:  #000000;\n",
       "        }#T_1b3c7_row7_col3{\n",
       "            background-color:  #e0dbd8;\n",
       "            color:  #000000;\n",
       "        }#T_1b3c7_row7_col5{\n",
       "            background-color:  #485fd1;\n",
       "            color:  #f1f1f1;\n",
       "        }</style><table id=\"T_1b3c7_\" ><thead>    <tr>        <th class=\"blank level0\" ></th>        <th class=\"col_heading level0 col0\" >sum_xy</th>        <th class=\"col_heading level0 col1\" >diff_xy</th>        <th class=\"col_heading level0 col2\" >housing_median_age</th>        <th class=\"col_heading level0 col3\" >k_rooms</th>        <th class=\"col_heading level0 col4\" >k_bedrooms</th>        <th class=\"col_heading level0 col5\" >k_population</th>        <th class=\"col_heading level0 col6\" >households</th>        <th class=\"col_heading level0 col7\" >median_income</th>    </tr></thead><tbody>\n",
       "                <tr>\n",
       "                        <th id=\"T_1b3c7_level0_row0\" class=\"row_heading level0 row0\" >sum_xy</th>\n",
       "                        <td id=\"T_1b3c7_row0_col0\" class=\"data row0 col0\" >1.00</td>\n",
       "                        <td id=\"T_1b3c7_row0_col1\" class=\"data row0 col1\" >-0.17</td>\n",
       "                        <td id=\"T_1b3c7_row0_col2\" class=\"data row0 col2\" >-0.24</td>\n",
       "                        <td id=\"T_1b3c7_row0_col3\" class=\"data row0 col3\" >0.21</td>\n",
       "                        <td id=\"T_1b3c7_row0_col4\" class=\"data row0 col4\" >-0.06</td>\n",
       "                        <td id=\"T_1b3c7_row0_col5\" class=\"data row0 col5\" >0.01</td>\n",
       "                        <td id=\"T_1b3c7_row0_col6\" class=\"data row0 col6\" >-0.05</td>\n",
       "                        <td id=\"T_1b3c7_row0_col7\" class=\"data row0 col7\" >-0.25</td>\n",
       "            </tr>\n",
       "            <tr>\n",
       "                        <th id=\"T_1b3c7_level0_row1\" class=\"row_heading level0 row1\" >diff_xy</th>\n",
       "                        <td id=\"T_1b3c7_row1_col0\" class=\"data row1 col0\" >-0.17</td>\n",
       "                        <td id=\"T_1b3c7_row1_col1\" class=\"data row1 col1\" >1.00</td>\n",
       "                        <td id=\"T_1b3c7_row1_col2\" class=\"data row1 col2\" >-0.06</td>\n",
       "                        <td id=\"T_1b3c7_row1_col3\" class=\"data row1 col3\" >-0.07</td>\n",
       "                        <td id=\"T_1b3c7_row1_col4\" class=\"data row1 col4\" >0.10</td>\n",
       "                        <td id=\"T_1b3c7_row1_col5\" class=\"data row1 col5\" >-0.00</td>\n",
       "                        <td id=\"T_1b3c7_row1_col6\" class=\"data row1 col6\" >0.06</td>\n",
       "                        <td id=\"T_1b3c7_row1_col7\" class=\"data row1 col7\" >0.03</td>\n",
       "            </tr>\n",
       "            <tr>\n",
       "                        <th id=\"T_1b3c7_level0_row2\" class=\"row_heading level0 row2\" >housing_median_age</th>\n",
       "                        <td id=\"T_1b3c7_row2_col0\" class=\"data row2 col0\" >-0.24</td>\n",
       "                        <td id=\"T_1b3c7_row2_col1\" class=\"data row2 col1\" >-0.06</td>\n",
       "                        <td id=\"T_1b3c7_row2_col2\" class=\"data row2 col2\" >1.00</td>\n",
       "                        <td id=\"T_1b3c7_row2_col3\" class=\"data row2 col3\" >-0.15</td>\n",
       "                        <td id=\"T_1b3c7_row2_col4\" class=\"data row2 col4\" >0.13</td>\n",
       "                        <td id=\"T_1b3c7_row2_col5\" class=\"data row2 col5\" >0.01</td>\n",
       "                        <td id=\"T_1b3c7_row2_col6\" class=\"data row2 col6\" >-0.30</td>\n",
       "                        <td id=\"T_1b3c7_row2_col7\" class=\"data row2 col7\" >-0.12</td>\n",
       "            </tr>\n",
       "            <tr>\n",
       "                        <th id=\"T_1b3c7_level0_row3\" class=\"row_heading level0 row3\" >k_rooms</th>\n",
       "                        <td id=\"T_1b3c7_row3_col0\" class=\"data row3 col0\" >0.21</td>\n",
       "                        <td id=\"T_1b3c7_row3_col1\" class=\"data row3 col1\" >-0.07</td>\n",
       "                        <td id=\"T_1b3c7_row3_col2\" class=\"data row3 col2\" >-0.15</td>\n",
       "                        <td id=\"T_1b3c7_row3_col3\" class=\"data row3 col3\" >1.00</td>\n",
       "                        <td id=\"T_1b3c7_row3_col4\" class=\"data row3 col4\" >-0.39</td>\n",
       "                        <td id=\"T_1b3c7_row3_col5\" class=\"data row3 col5\" >-0.00</td>\n",
       "                        <td id=\"T_1b3c7_row3_col6\" class=\"data row3 col6\" >-0.08</td>\n",
       "                        <td id=\"T_1b3c7_row3_col7\" class=\"data row3 col7\" >0.33</td>\n",
       "            </tr>\n",
       "            <tr>\n",
       "                        <th id=\"T_1b3c7_level0_row4\" class=\"row_heading level0 row4\" >k_bedrooms</th>\n",
       "                        <td id=\"T_1b3c7_row4_col0\" class=\"data row4 col0\" >-0.06</td>\n",
       "                        <td id=\"T_1b3c7_row4_col1\" class=\"data row4 col1\" >0.10</td>\n",
       "                        <td id=\"T_1b3c7_row4_col2\" class=\"data row4 col2\" >0.13</td>\n",
       "                        <td id=\"T_1b3c7_row4_col3\" class=\"data row4 col3\" >-0.39</td>\n",
       "                        <td id=\"T_1b3c7_row4_col4\" class=\"data row4 col4\" >1.00</td>\n",
       "                        <td id=\"T_1b3c7_row4_col5\" class=\"data row4 col5\" >0.00</td>\n",
       "                        <td id=\"T_1b3c7_row4_col6\" class=\"data row4 col6\" >0.06</td>\n",
       "                        <td id=\"T_1b3c7_row4_col7\" class=\"data row4 col7\" >-0.57</td>\n",
       "            </tr>\n",
       "            <tr>\n",
       "                        <th id=\"T_1b3c7_level0_row5\" class=\"row_heading level0 row5\" >k_population</th>\n",
       "                        <td id=\"T_1b3c7_row5_col0\" class=\"data row5 col0\" >0.01</td>\n",
       "                        <td id=\"T_1b3c7_row5_col1\" class=\"data row5 col1\" >-0.00</td>\n",
       "                        <td id=\"T_1b3c7_row5_col2\" class=\"data row5 col2\" >0.01</td>\n",
       "                        <td id=\"T_1b3c7_row5_col3\" class=\"data row5 col3\" >-0.00</td>\n",
       "                        <td id=\"T_1b3c7_row5_col4\" class=\"data row5 col4\" >0.00</td>\n",
       "                        <td id=\"T_1b3c7_row5_col5\" class=\"data row5 col5\" >1.00</td>\n",
       "                        <td id=\"T_1b3c7_row5_col6\" class=\"data row5 col6\" >-0.03</td>\n",
       "                        <td id=\"T_1b3c7_row5_col7\" class=\"data row5 col7\" >0.02</td>\n",
       "            </tr>\n",
       "            <tr>\n",
       "                        <th id=\"T_1b3c7_level0_row6\" class=\"row_heading level0 row6\" >households</th>\n",
       "                        <td id=\"T_1b3c7_row6_col0\" class=\"data row6 col0\" >-0.05</td>\n",
       "                        <td id=\"T_1b3c7_row6_col1\" class=\"data row6 col1\" >0.06</td>\n",
       "                        <td id=\"T_1b3c7_row6_col2\" class=\"data row6 col2\" >-0.30</td>\n",
       "                        <td id=\"T_1b3c7_row6_col3\" class=\"data row6 col3\" >-0.08</td>\n",
       "                        <td id=\"T_1b3c7_row6_col4\" class=\"data row6 col4\" >0.06</td>\n",
       "                        <td id=\"T_1b3c7_row6_col5\" class=\"data row6 col5\" >-0.03</td>\n",
       "                        <td id=\"T_1b3c7_row6_col6\" class=\"data row6 col6\" >1.00</td>\n",
       "                        <td id=\"T_1b3c7_row6_col7\" class=\"data row6 col7\" >0.01</td>\n",
       "            </tr>\n",
       "            <tr>\n",
       "                        <th id=\"T_1b3c7_level0_row7\" class=\"row_heading level0 row7\" >median_income</th>\n",
       "                        <td id=\"T_1b3c7_row7_col0\" class=\"data row7 col0\" >-0.25</td>\n",
       "                        <td id=\"T_1b3c7_row7_col1\" class=\"data row7 col1\" >0.03</td>\n",
       "                        <td id=\"T_1b3c7_row7_col2\" class=\"data row7 col2\" >-0.12</td>\n",
       "                        <td id=\"T_1b3c7_row7_col3\" class=\"data row7 col3\" >0.33</td>\n",
       "                        <td id=\"T_1b3c7_row7_col4\" class=\"data row7 col4\" >-0.57</td>\n",
       "                        <td id=\"T_1b3c7_row7_col5\" class=\"data row7 col5\" >0.02</td>\n",
       "                        <td id=\"T_1b3c7_row7_col6\" class=\"data row7 col6\" >0.01</td>\n",
       "                        <td id=\"T_1b3c7_row7_col7\" class=\"data row7 col7\" >1.00</td>\n",
       "            </tr>\n",
       "    </tbody></table>"
      ],
      "text/plain": [
       "<pandas.io.formats.style.Styler at 0x7f597b5e9fa0>"
      ]
     },
     "execution_count": 12,
     "metadata": {},
     "output_type": "execute_result"
    }
   ],
   "source": [
    "new_num_cols = [\n",
    "   'sum_xy','diff_xy','housing_median_age','k_rooms','k_bedrooms','k_population' ,'households','median_income'\n",
    "]\n",
    "corr_to_df(df_housing,new_num_cols).style.background_gradient(cmap='coolwarm').set_precision(2)"
   ]
  },
  {
   "cell_type": "markdown",
   "id": "34dd97b0",
   "metadata": {},
   "source": [
    "В набор трансформированных колонок корреляции гораздо меньше и сильных корреляци нет совсем"
   ]
  },
  {
   "cell_type": "markdown",
   "id": "a4a6ce65",
   "metadata": {},
   "source": [
    "Здесь можно поправить записи с нулем спален - заменяем нулевой коэффицент на медиану и считаем комнаты "
   ]
  },
  {
   "cell_type": "code",
   "execution_count": 13,
   "id": "e7925634",
   "metadata": {},
   "outputs": [],
   "source": [
    "med_bedrooms = df_housing.approxQuantile('k_bedrooms', [0.5], 0)[0]\n",
    "\n",
    "df_housing=df_housing.withColumn('k_bedrooms',F.when(df_housing.k_bedrooms==0,.2).otherwise(df_housing.k_bedrooms))\n",
    "df_housing=df_housing.withColumn('total_bedrooms',\n",
    "        F.when(df_housing.total_bedrooms==0, df_housing.k_bedrooms*df_housing.total_rooms). \\\n",
    "          otherwise(df_housing.total_bedrooms)\n",
    "        )                         \n",
    "                                 "
   ]
  },
  {
   "cell_type": "markdown",
   "id": "bd2c1e5f",
   "metadata": {},
   "source": [
    "Наконец , категориальная колонка ocean_proximity видимо монотонна по цене(хотя и нелинейна) и в принципе может быть закодирована числами по возрастанию, так что применение линейной регрессии к ней будет корректно."
   ]
  },
  {
   "cell_type": "code",
   "execution_count": 14,
   "id": "828445c9",
   "metadata": {},
   "outputs": [
    {
     "data": {
      "text/html": [
       "<style  type=\"text/css\" >\n",
       "#T_63c0a_row0_col0,#T_63c0a_row1_col1,#T_63c0a_row2_col2,#T_63c0a_row3_col3,#T_63c0a_row4_col4,#T_63c0a_row5_col5,#T_63c0a_row6_col6,#T_63c0a_row7_col7,#T_63c0a_row8_col8,#T_63c0a_row9_col9{\n",
       "            background-color:  #b40426;\n",
       "            color:  #f1f1f1;\n",
       "        }#T_63c0a_row0_col1,#T_63c0a_row0_col8,#T_63c0a_row0_col9,#T_63c0a_row2_col6,#T_63c0a_row4_col3,#T_63c0a_row4_col7,#T_63c0a_row6_col2,#T_63c0a_row6_col5,#T_63c0a_row7_col4,#T_63c0a_row8_col0,#T_63c0a_row9_col5{\n",
       "            background-color:  #3b4cc0;\n",
       "            color:  #f1f1f1;\n",
       "        }#T_63c0a_row0_col2{\n",
       "            background-color:  #4961d2;\n",
       "            color:  #f1f1f1;\n",
       "        }#T_63c0a_row0_col3,#T_63c0a_row1_col4{\n",
       "            background-color:  #cdd9ec;\n",
       "            color:  #000000;\n",
       "        }#T_63c0a_row0_col4,#T_63c0a_row4_col2{\n",
       "            background-color:  #abc8fd;\n",
       "            color:  #000000;\n",
       "        }#T_63c0a_row0_col5{\n",
       "            background-color:  #455cce;\n",
       "            color:  #f1f1f1;\n",
       "        }#T_63c0a_row0_col6{\n",
       "            background-color:  #799cf8;\n",
       "            color:  #000000;\n",
       "        }#T_63c0a_row0_col7{\n",
       "            background-color:  #85a8fc;\n",
       "            color:  #000000;\n",
       "        }#T_63c0a_row1_col0,#T_63c0a_row5_col3{\n",
       "            background-color:  #9bbcff;\n",
       "            color:  #000000;\n",
       "        }#T_63c0a_row1_col2,#T_63c0a_row2_col3{\n",
       "            background-color:  #7699f6;\n",
       "            color:  #000000;\n",
       "        }#T_63c0a_row1_col3,#T_63c0a_row5_col2,#T_63c0a_row7_col0,#T_63c0a_row7_col6,#T_63c0a_row8_col6{\n",
       "            background-color:  #8badfd;\n",
       "            color:  #000000;\n",
       "        }#T_63c0a_row1_col5,#T_63c0a_row8_col1{\n",
       "            background-color:  #4257c9;\n",
       "            color:  #f1f1f1;\n",
       "        }#T_63c0a_row1_col6,#T_63c0a_row4_col6,#T_63c0a_row9_col6{\n",
       "            background-color:  #98b9ff;\n",
       "            color:  #000000;\n",
       "        }#T_63c0a_row1_col7,#T_63c0a_row2_col9,#T_63c0a_row5_col0,#T_63c0a_row6_col8,#T_63c0a_row9_col3{\n",
       "            background-color:  #c0d4f5;\n",
       "            color:  #000000;\n",
       "        }#T_63c0a_row1_col8{\n",
       "            background-color:  #a2c1ff;\n",
       "            color:  #000000;\n",
       "        }#T_63c0a_row1_col9{\n",
       "            background-color:  #b5cdfa;\n",
       "            color:  #000000;\n",
       "        }#T_63c0a_row2_col0{\n",
       "            background-color:  #8caffe;\n",
       "            color:  #000000;\n",
       "        }#T_63c0a_row2_col1{\n",
       "            background-color:  #5673e0;\n",
       "            color:  #000000;\n",
       "        }#T_63c0a_row2_col4{\n",
       "            background-color:  #d3dbe7;\n",
       "            color:  #000000;\n",
       "        }#T_63c0a_row2_col5{\n",
       "            background-color:  #465ecf;\n",
       "            color:  #f1f1f1;\n",
       "        }#T_63c0a_row2_col7{\n",
       "            background-color:  #a1c0ff;\n",
       "            color:  #000000;\n",
       "        }#T_63c0a_row2_col8{\n",
       "            background-color:  #edd1c2;\n",
       "            color:  #000000;\n",
       "        }#T_63c0a_row3_col0{\n",
       "            background-color:  #e2dad5;\n",
       "            color:  #000000;\n",
       "        }#T_63c0a_row3_col1{\n",
       "            background-color:  #5470de;\n",
       "            color:  #000000;\n",
       "        }#T_63c0a_row3_col2{\n",
       "            background-color:  #5e7de7;\n",
       "            color:  #000000;\n",
       "        }#T_63c0a_row3_col4{\n",
       "            background-color:  #6180e9;\n",
       "            color:  #000000;\n",
       "        }#T_63c0a_row3_col5{\n",
       "            background-color:  #4055c8;\n",
       "            color:  #f1f1f1;\n",
       "        }#T_63c0a_row3_col6,#T_63c0a_row7_col1{\n",
       "            background-color:  #7093f3;\n",
       "            color:  #000000;\n",
       "        }#T_63c0a_row3_col7{\n",
       "            background-color:  #efcebd;\n",
       "            color:  #000000;\n",
       "        }#T_63c0a_row3_col8{\n",
       "            background-color:  #a9c6fd;\n",
       "            color:  #000000;\n",
       "        }#T_63c0a_row3_col9{\n",
       "            background-color:  #cad8ef;\n",
       "            color:  #000000;\n",
       "        }#T_63c0a_row4_col0{\n",
       "            background-color:  #afcafc;\n",
       "            color:  #000000;\n",
       "        }#T_63c0a_row4_col1{\n",
       "            background-color:  #86a9fc;\n",
       "            color:  #000000;\n",
       "        }#T_63c0a_row4_col5{\n",
       "            background-color:  #4358cb;\n",
       "            color:  #f1f1f1;\n",
       "        }#T_63c0a_row4_col8{\n",
       "            background-color:  #cbd8ee;\n",
       "            color:  #000000;\n",
       "        }#T_63c0a_row4_col9{\n",
       "            background-color:  #6c8ff1;\n",
       "            color:  #000000;\n",
       "        }#T_63c0a_row5_col1,#T_63c0a_row7_col2{\n",
       "            background-color:  #6788ee;\n",
       "            color:  #000000;\n",
       "        }#T_63c0a_row5_col4,#T_63c0a_row5_col8{\n",
       "            background-color:  #bad0f8;\n",
       "            color:  #000000;\n",
       "        }#T_63c0a_row5_col6{\n",
       "            background-color:  #80a3fa;\n",
       "            color:  #000000;\n",
       "        }#T_63c0a_row5_col7{\n",
       "            background-color:  #bed2f6;\n",
       "            color:  #000000;\n",
       "        }#T_63c0a_row5_col9,#T_63c0a_row9_col2{\n",
       "            background-color:  #a3c2fe;\n",
       "            color:  #000000;\n",
       "        }#T_63c0a_row6_col0{\n",
       "            background-color:  #b3cdfb;\n",
       "            color:  #000000;\n",
       "        }#T_63c0a_row6_col1{\n",
       "            background-color:  #7a9df8;\n",
       "            color:  #000000;\n",
       "        }#T_63c0a_row6_col3{\n",
       "            background-color:  #88abfd;\n",
       "            color:  #000000;\n",
       "        }#T_63c0a_row6_col4{\n",
       "            background-color:  #c6d6f1;\n",
       "            color:  #000000;\n",
       "        }#T_63c0a_row6_col7{\n",
       "            background-color:  #bcd2f7;\n",
       "            color:  #000000;\n",
       "        }#T_63c0a_row6_col9{\n",
       "            background-color:  #b7cff9;\n",
       "            color:  #000000;\n",
       "        }#T_63c0a_row7_col3{\n",
       "            background-color:  #e3d9d3;\n",
       "            color:  #000000;\n",
       "        }#T_63c0a_row7_col5{\n",
       "            background-color:  #485fd1;\n",
       "            color:  #f1f1f1;\n",
       "        }#T_63c0a_row7_col8{\n",
       "            background-color:  #dbdcde;\n",
       "            color:  #000000;\n",
       "        }#T_63c0a_row7_col9{\n",
       "            background-color:  #ef886b;\n",
       "            color:  #000000;\n",
       "        }#T_63c0a_row8_col2{\n",
       "            background-color:  #d2dbe8;\n",
       "            color:  #000000;\n",
       "        }#T_63c0a_row8_col3{\n",
       "            background-color:  #81a4fb;\n",
       "            color:  #000000;\n",
       "        }#T_63c0a_row8_col4{\n",
       "            background-color:  #c7d7f0;\n",
       "            color:  #000000;\n",
       "        }#T_63c0a_row8_col5{\n",
       "            background-color:  #3c4ec2;\n",
       "            color:  #f1f1f1;\n",
       "        }#T_63c0a_row8_col7{\n",
       "            background-color:  #d8dce2;\n",
       "            color:  #000000;\n",
       "        }#T_63c0a_row8_col9{\n",
       "            background-color:  #f1ccb8;\n",
       "            color:  #000000;\n",
       "        }#T_63c0a_row9_col0{\n",
       "            background-color:  #5875e1;\n",
       "            color:  #000000;\n",
       "        }#T_63c0a_row9_col1{\n",
       "            background-color:  #779af7;\n",
       "            color:  #000000;\n",
       "        }#T_63c0a_row9_col4{\n",
       "            background-color:  #82a6fb;\n",
       "            color:  #000000;\n",
       "        }#T_63c0a_row9_col7{\n",
       "            background-color:  #ec8165;\n",
       "            color:  #000000;\n",
       "        }#T_63c0a_row9_col8{\n",
       "            background-color:  #f5c1a9;\n",
       "            color:  #000000;\n",
       "        }</style><table id=\"T_63c0a_\" ><thead>    <tr>        <th class=\"blank level0\" ></th>        <th class=\"col_heading level0 col0\" >sum_xy</th>        <th class=\"col_heading level0 col1\" >diff_xy</th>        <th class=\"col_heading level0 col2\" >housing_median_age</th>        <th class=\"col_heading level0 col3\" >k_rooms</th>        <th class=\"col_heading level0 col4\" >k_bedrooms</th>        <th class=\"col_heading level0 col5\" >k_population</th>        <th class=\"col_heading level0 col6\" >households</th>        <th class=\"col_heading level0 col7\" >median_income</th>        <th class=\"col_heading level0 col8\" >i_proxy</th>        <th class=\"col_heading level0 col9\" >median_house_value</th>    </tr></thead><tbody>\n",
       "                <tr>\n",
       "                        <th id=\"T_63c0a_level0_row0\" class=\"row_heading level0 row0\" >sum_xy</th>\n",
       "                        <td id=\"T_63c0a_row0_col0\" class=\"data row0 col0\" >1.00</td>\n",
       "                        <td id=\"T_63c0a_row0_col1\" class=\"data row0 col1\" >-0.17</td>\n",
       "                        <td id=\"T_63c0a_row0_col2\" class=\"data row0 col2\" >-0.24</td>\n",
       "                        <td id=\"T_63c0a_row0_col3\" class=\"data row0 col3\" >0.21</td>\n",
       "                        <td id=\"T_63c0a_row0_col4\" class=\"data row0 col4\" >-0.07</td>\n",
       "                        <td id=\"T_63c0a_row0_col5\" class=\"data row0 col5\" >0.01</td>\n",
       "                        <td id=\"T_63c0a_row0_col6\" class=\"data row0 col6\" >-0.05</td>\n",
       "                        <td id=\"T_63c0a_row0_col7\" class=\"data row0 col7\" >-0.25</td>\n",
       "                        <td id=\"T_63c0a_row0_col8\" class=\"data row0 col8\" >-0.65</td>\n",
       "                        <td id=\"T_63c0a_row0_col9\" class=\"data row0 col9\" >-0.49</td>\n",
       "            </tr>\n",
       "            <tr>\n",
       "                        <th id=\"T_63c0a_level0_row1\" class=\"row_heading level0 row1\" >diff_xy</th>\n",
       "                        <td id=\"T_63c0a_row1_col0\" class=\"data row1 col0\" >-0.17</td>\n",
       "                        <td id=\"T_63c0a_row1_col1\" class=\"data row1 col1\" >1.00</td>\n",
       "                        <td id=\"T_63c0a_row1_col2\" class=\"data row1 col2\" >-0.06</td>\n",
       "                        <td id=\"T_63c0a_row1_col3\" class=\"data row1 col3\" >-0.07</td>\n",
       "                        <td id=\"T_63c0a_row1_col4\" class=\"data row1 col4\" >0.10</td>\n",
       "                        <td id=\"T_63c0a_row1_col5\" class=\"data row1 col5\" >-0.00</td>\n",
       "                        <td id=\"T_63c0a_row1_col6\" class=\"data row1 col6\" >0.06</td>\n",
       "                        <td id=\"T_63c0a_row1_col7\" class=\"data row1 col7\" >0.03</td>\n",
       "                        <td id=\"T_63c0a_row1_col8\" class=\"data row1 col8\" >-0.14</td>\n",
       "                        <td id=\"T_63c0a_row1_col9\" class=\"data row1 col9\" >0.05</td>\n",
       "            </tr>\n",
       "            <tr>\n",
       "                        <th id=\"T_63c0a_level0_row2\" class=\"row_heading level0 row2\" >housing_median_age</th>\n",
       "                        <td id=\"T_63c0a_row2_col0\" class=\"data row2 col0\" >-0.24</td>\n",
       "                        <td id=\"T_63c0a_row2_col1\" class=\"data row2 col1\" >-0.06</td>\n",
       "                        <td id=\"T_63c0a_row2_col2\" class=\"data row2 col2\" >1.00</td>\n",
       "                        <td id=\"T_63c0a_row2_col3\" class=\"data row2 col3\" >-0.15</td>\n",
       "                        <td id=\"T_63c0a_row2_col4\" class=\"data row2 col4\" >0.14</td>\n",
       "                        <td id=\"T_63c0a_row2_col5\" class=\"data row2 col5\" >0.01</td>\n",
       "                        <td id=\"T_63c0a_row2_col6\" class=\"data row2 col6\" >-0.30</td>\n",
       "                        <td id=\"T_63c0a_row2_col7\" class=\"data row2 col7\" >-0.12</td>\n",
       "                        <td id=\"T_63c0a_row2_col8\" class=\"data row2 col8\" >0.30</td>\n",
       "                        <td id=\"T_63c0a_row2_col9\" class=\"data row2 col9\" >0.11</td>\n",
       "            </tr>\n",
       "            <tr>\n",
       "                        <th id=\"T_63c0a_level0_row3\" class=\"row_heading level0 row3\" >k_rooms</th>\n",
       "                        <td id=\"T_63c0a_row3_col0\" class=\"data row3 col0\" >0.21</td>\n",
       "                        <td id=\"T_63c0a_row3_col1\" class=\"data row3 col1\" >-0.07</td>\n",
       "                        <td id=\"T_63c0a_row3_col2\" class=\"data row3 col2\" >-0.15</td>\n",
       "                        <td id=\"T_63c0a_row3_col3\" class=\"data row3 col3\" >1.00</td>\n",
       "                        <td id=\"T_63c0a_row3_col4\" class=\"data row3 col4\" >-0.42</td>\n",
       "                        <td id=\"T_63c0a_row3_col5\" class=\"data row3 col5\" >-0.00</td>\n",
       "                        <td id=\"T_63c0a_row3_col6\" class=\"data row3 col6\" >-0.08</td>\n",
       "                        <td id=\"T_63c0a_row3_col7\" class=\"data row3 col7\" >0.33</td>\n",
       "                        <td id=\"T_63c0a_row3_col8\" class=\"data row3 col8\" >-0.11</td>\n",
       "                        <td id=\"T_63c0a_row3_col9\" class=\"data row3 col9\" >0.15</td>\n",
       "            </tr>\n",
       "            <tr>\n",
       "                        <th id=\"T_63c0a_level0_row4\" class=\"row_heading level0 row4\" >k_bedrooms</th>\n",
       "                        <td id=\"T_63c0a_row4_col0\" class=\"data row4 col0\" >-0.07</td>\n",
       "                        <td id=\"T_63c0a_row4_col1\" class=\"data row4 col1\" >0.10</td>\n",
       "                        <td id=\"T_63c0a_row4_col2\" class=\"data row4 col2\" >0.14</td>\n",
       "                        <td id=\"T_63c0a_row4_col3\" class=\"data row4 col3\" >-0.42</td>\n",
       "                        <td id=\"T_63c0a_row4_col4\" class=\"data row4 col4\" >1.00</td>\n",
       "                        <td id=\"T_63c0a_row4_col5\" class=\"data row4 col5\" >0.00</td>\n",
       "                        <td id=\"T_63c0a_row4_col6\" class=\"data row4 col6\" >0.06</td>\n",
       "                        <td id=\"T_63c0a_row4_col7\" class=\"data row4 col7\" >-0.61</td>\n",
       "                        <td id=\"T_63c0a_row4_col8\" class=\"data row4 col8\" >0.07</td>\n",
       "                        <td id=\"T_63c0a_row4_col9\" class=\"data row4 col9\" >-0.25</td>\n",
       "            </tr>\n",
       "            <tr>\n",
       "                        <th id=\"T_63c0a_level0_row5\" class=\"row_heading level0 row5\" >k_population</th>\n",
       "                        <td id=\"T_63c0a_row5_col0\" class=\"data row5 col0\" >0.01</td>\n",
       "                        <td id=\"T_63c0a_row5_col1\" class=\"data row5 col1\" >-0.00</td>\n",
       "                        <td id=\"T_63c0a_row5_col2\" class=\"data row5 col2\" >0.01</td>\n",
       "                        <td id=\"T_63c0a_row5_col3\" class=\"data row5 col3\" >-0.00</td>\n",
       "                        <td id=\"T_63c0a_row5_col4\" class=\"data row5 col4\" >0.00</td>\n",
       "                        <td id=\"T_63c0a_row5_col5\" class=\"data row5 col5\" >1.00</td>\n",
       "                        <td id=\"T_63c0a_row5_col6\" class=\"data row5 col6\" >-0.03</td>\n",
       "                        <td id=\"T_63c0a_row5_col7\" class=\"data row5 col7\" >0.02</td>\n",
       "                        <td id=\"T_63c0a_row5_col8\" class=\"data row5 col8\" >-0.02</td>\n",
       "                        <td id=\"T_63c0a_row5_col9\" class=\"data row5 col9\" >-0.02</td>\n",
       "            </tr>\n",
       "            <tr>\n",
       "                        <th id=\"T_63c0a_level0_row6\" class=\"row_heading level0 row6\" >households</th>\n",
       "                        <td id=\"T_63c0a_row6_col0\" class=\"data row6 col0\" >-0.05</td>\n",
       "                        <td id=\"T_63c0a_row6_col1\" class=\"data row6 col1\" >0.06</td>\n",
       "                        <td id=\"T_63c0a_row6_col2\" class=\"data row6 col2\" >-0.30</td>\n",
       "                        <td id=\"T_63c0a_row6_col3\" class=\"data row6 col3\" >-0.08</td>\n",
       "                        <td id=\"T_63c0a_row6_col4\" class=\"data row6 col4\" >0.06</td>\n",
       "                        <td id=\"T_63c0a_row6_col5\" class=\"data row6 col5\" >-0.03</td>\n",
       "                        <td id=\"T_63c0a_row6_col6\" class=\"data row6 col6\" >1.00</td>\n",
       "                        <td id=\"T_63c0a_row6_col7\" class=\"data row6 col7\" >0.01</td>\n",
       "                        <td id=\"T_63c0a_row6_col8\" class=\"data row6 col8\" >0.01</td>\n",
       "                        <td id=\"T_63c0a_row6_col9\" class=\"data row6 col9\" >0.07</td>\n",
       "            </tr>\n",
       "            <tr>\n",
       "                        <th id=\"T_63c0a_level0_row7\" class=\"row_heading level0 row7\" >median_income</th>\n",
       "                        <td id=\"T_63c0a_row7_col0\" class=\"data row7 col0\" >-0.25</td>\n",
       "                        <td id=\"T_63c0a_row7_col1\" class=\"data row7 col1\" >0.03</td>\n",
       "                        <td id=\"T_63c0a_row7_col2\" class=\"data row7 col2\" >-0.12</td>\n",
       "                        <td id=\"T_63c0a_row7_col3\" class=\"data row7 col3\" >0.33</td>\n",
       "                        <td id=\"T_63c0a_row7_col4\" class=\"data row7 col4\" >-0.61</td>\n",
       "                        <td id=\"T_63c0a_row7_col5\" class=\"data row7 col5\" >0.02</td>\n",
       "                        <td id=\"T_63c0a_row7_col6\" class=\"data row7 col6\" >0.01</td>\n",
       "                        <td id=\"T_63c0a_row7_col7\" class=\"data row7 col7\" >1.00</td>\n",
       "                        <td id=\"T_63c0a_row7_col8\" class=\"data row7 col8\" >0.16</td>\n",
       "                        <td id=\"T_63c0a_row7_col9\" class=\"data row7 col9\" >0.69</td>\n",
       "            </tr>\n",
       "            <tr>\n",
       "                        <th id=\"T_63c0a_level0_row8\" class=\"row_heading level0 row8\" >i_proxy</th>\n",
       "                        <td id=\"T_63c0a_row8_col0\" class=\"data row8 col0\" >-0.65</td>\n",
       "                        <td id=\"T_63c0a_row8_col1\" class=\"data row8 col1\" >-0.14</td>\n",
       "                        <td id=\"T_63c0a_row8_col2\" class=\"data row8 col2\" >0.30</td>\n",
       "                        <td id=\"T_63c0a_row8_col3\" class=\"data row8 col3\" >-0.11</td>\n",
       "                        <td id=\"T_63c0a_row8_col4\" class=\"data row8 col4\" >0.07</td>\n",
       "                        <td id=\"T_63c0a_row8_col5\" class=\"data row8 col5\" >-0.02</td>\n",
       "                        <td id=\"T_63c0a_row8_col6\" class=\"data row8 col6\" >0.01</td>\n",
       "                        <td id=\"T_63c0a_row8_col7\" class=\"data row8 col7\" >0.16</td>\n",
       "                        <td id=\"T_63c0a_row8_col8\" class=\"data row8 col8\" >1.00</td>\n",
       "                        <td id=\"T_63c0a_row8_col9\" class=\"data row8 col9\" >0.40</td>\n",
       "            </tr>\n",
       "            <tr>\n",
       "                        <th id=\"T_63c0a_level0_row9\" class=\"row_heading level0 row9\" >median_house_value</th>\n",
       "                        <td id=\"T_63c0a_row9_col0\" class=\"data row9 col0\" >-0.49</td>\n",
       "                        <td id=\"T_63c0a_row9_col1\" class=\"data row9 col1\" >0.05</td>\n",
       "                        <td id=\"T_63c0a_row9_col2\" class=\"data row9 col2\" >0.11</td>\n",
       "                        <td id=\"T_63c0a_row9_col3\" class=\"data row9 col3\" >0.15</td>\n",
       "                        <td id=\"T_63c0a_row9_col4\" class=\"data row9 col4\" >-0.25</td>\n",
       "                        <td id=\"T_63c0a_row9_col5\" class=\"data row9 col5\" >-0.02</td>\n",
       "                        <td id=\"T_63c0a_row9_col6\" class=\"data row9 col6\" >0.07</td>\n",
       "                        <td id=\"T_63c0a_row9_col7\" class=\"data row9 col7\" >0.69</td>\n",
       "                        <td id=\"T_63c0a_row9_col8\" class=\"data row9 col8\" >0.40</td>\n",
       "                        <td id=\"T_63c0a_row9_col9\" class=\"data row9 col9\" >1.00</td>\n",
       "            </tr>\n",
       "    </tbody></table>"
      ],
      "text/plain": [
       "<pandas.io.formats.style.Styler at 0x7f59a040e160>"
      ]
     },
     "execution_count": 14,
     "metadata": {},
     "output_type": "execute_result"
    }
   ],
   "source": [
    "dc = {'ISLAND':4,'NEAR BAY':3,'NEAR OCEAN':2,'<1H OCEAN':1,'INLAND':0}\n",
    "map_col = F.create_map([F.lit(x) for i in dc.items() for x in i])\n",
    "df_housing=df_housing.withColumn('i_proxy', map_col[F.col('ocean_proximity')])\n",
    "num_cols_with_proxy = num_cols + ['i_proxy']\n",
    "num_cols_with_target = new_num_cols+['i_proxy','median_house_value']\n",
    "corr_to_df(df_housing,num_cols_with_target).style.background_gradient(cmap='coolwarm').set_precision(2)"
   ]
  },
  {
   "cell_type": "markdown",
   "id": "43ecf774",
   "metadata": {},
   "source": [
    "Я вывел карту корреляции для модифицированных колонок и цены.  \n",
    "Видимо, на цену наиболее сильно влияют средний доход в районе  и близость к океану.  \n",
    "(Также можно отметить корреляцию между i_proxy и суммой координат - положением по оси SW-NE - обе показывают расстояние от океана)    \n",
    "Неожиданно цена умеренно антикоррелирует с количеством спален.  \n",
    "Влияние остальных признаков видимо невелико."
   ]
  },
  {
   "cell_type": "markdown",
   "id": "4c6e7413",
   "metadata": {},
   "source": [
    "Все подготовительные преобразования не использовали аггрегированные свойства датасетов и основывались только на переменных из одной записи. \n",
    "Поэтому их корректно применить ко всем тестовым и обучающим наборам до их разделения и начала обучения."
   ]
  },
  {
   "cell_type": "markdown",
   "id": "9f0a82f3",
   "metadata": {
    "id": "9f0a82f3"
   },
   "source": [
    "## Обучение моделей"
   ]
  },
  {
   "cell_type": "markdown",
   "id": "5c5f575c",
   "metadata": {},
   "source": [
    "Создадим две пары обучающих/тестовых датасетов - для теста трансформаций признаков и для финального теста"
   ]
  },
  {
   "cell_type": "code",
   "execution_count": 15,
   "id": "42b827af",
   "metadata": {},
   "outputs": [],
   "source": [
    "(trfi,te ) = df_housing.randomSplit([0.75, 0.25],seed=499)\n",
    "(tr,  va ) = trfi.randomSplit([0.75, 0.25],seed=4999)"
   ]
  },
  {
   "cell_type": "markdown",
   "id": "acb6d65f",
   "metadata": {},
   "source": [
    "Класс для прогона датасетов через пайплайн.  \n",
    "В двух вариантах - c OHE трансформацией и без неё на числовых признаках, различаются только построением пайплайна\n",
    "После каждого прогона вычисляются метрики и запсываются в атрибут rm"
   ]
  },
  {
   "cell_type": "code",
   "execution_count": 16,
   "id": "cd487962",
   "metadata": {},
   "outputs": [],
   "source": [
    "class ExecPlan:\n",
    "    def __init__(self,name,num_cols):\n",
    "        self.name = name\n",
    "        self._id = ''.join([c for c in name if c.isupper()])\n",
    "        self.num_cols = num_cols\n",
    "        self.stages = []\n",
    "        self.ta_col = 'median_house_value'\n",
    "        self.cat_col = 'ocean_proximity'\n",
    "        \n",
    "    def create_pipe(self): \n",
    "        self.pipe = Pipeline(stages = self.stages)\n",
    "\n",
    "        \n",
    "class NumOnlyPlan(ExecPlan):\n",
    "        \n",
    "    def create_pipe(self):\n",
    "        self.stages.append( VectorAssembler( inputCols = self.num_cols ,outputCol='va_'+self._id))\n",
    "        self.stages.append( StandardScaler( inputCol = 'va_'+self._id ,outputCol='fe_'+self._id, withMean=True))\n",
    "        self.stages.append( LinearRegression(featuresCol='fe_'+self._id, \n",
    "                                             labelCol=self.ta_col,\n",
    "                                             predictionCol='pr_'+self._id))\n",
    "        super().create_pipe()\n",
    "           \n",
    "    \n",
    "class OhePlan(ExecPlan):    \n",
    "        \n",
    "    def create_pipe(self):\n",
    "        self.stages.append(StringIndexer(inputCol=self.cat_col ,outputCol='si_'+self._id,handleInvalid='keep'))\n",
    "        self.stages.append(OneHotEncoder(inputCol='si_'+self._id ,outputCol='ohe_'+self._id))                   \n",
    "        self.stages.append(VectorAssembler(inputCols=self.num_cols+['ohe_'+self._id] ,outputCol='va_'+self._id))\n",
    "        self.stages.append( StandardScaler( inputCol = 'va_'+self._id ,outputCol='fe_'+self._id, withMean=True))\n",
    "        self.stages.append( LinearRegression(featuresCol='fe_'+self._id, \n",
    "                                             labelCol=self.ta_col,\n",
    "                                             predictionCol='pr_'+self._id))\n",
    "        super().create_pipe()\n",
    "    \n",
    " "
   ]
  },
  {
   "cell_type": "markdown",
   "id": "1aaefa1c",
   "metadata": {},
   "source": [
    "Проверим на тестовом наборе элементарные трансформации (по 1-2 колонки) - что мы от них приобретаем и теряем.   \n",
    "Первая конфигурация - исходные числовые колонки без OHE рассматривается как эталон, с ней будем сравнивать остальные."
   ]
  },
  {
   "cell_type": "code",
   "execution_count": 17,
   "id": "8db3f252",
   "metadata": {
    "scrolled": false
   },
   "outputs": [
    {
     "name": "stderr",
     "output_type": "stream",
     "text": [
      "24/02/08 15:34:06 WARN Instrumentation: [dd554ae9] regParam is zero, which might cause numerical instability and overfitting.\n",
      "24/02/08 15:34:07 WARN LAPACK: Failed to load implementation from: com.github.fommil.netlib.NativeSystemLAPACK\n",
      "24/02/08 15:34:07 WARN LAPACK: Failed to load implementation from: com.github.fommil.netlib.NativeRefLAPACK\n",
      "24/02/08 15:34:12 WARN Instrumentation: [893ed4f5] regParam is zero, which might cause numerical instability and overfitting.\n",
      "24/02/08 15:34:17 WARN Instrumentation: [cab5f7e9] regParam is zero, which might cause numerical instability and overfitting.\n",
      "24/02/08 15:34:22 WARN Instrumentation: [3621f0b7] regParam is zero, which might cause numerical instability and overfitting.\n",
      "24/02/08 15:34:26 WARN Instrumentation: [f81cf24c] regParam is zero, which might cause numerical instability and overfitting.\n",
      "24/02/08 15:34:32 WARN Instrumentation: [928616c5] regParam is zero, which might cause numerical instability and overfitting.\n",
      "24/02/08 15:34:33 WARN Instrumentation: [928616c5] Cholesky solver failed due to singular covariance matrix. Retrying with Quasi-Newton solver.\n",
      "                                                                                \r"
     ]
    }
   ],
   "source": [
    "plans= (NumOnlyPlan(name='Original num columns ____',num_cols=num_cols),\n",
    "        NumOnlyPlan(name='geo XY rotated___________',num_cols=['sum_xy','diff_xy']+num_cols[2:]),\n",
    "        NumOnlyPlan(name='Population transformed___',num_cols=['k_population' if x=='population'else x for x in num_cols]), \n",
    "        NumOnlyPlan(name='Rooms&Bedrooms transformed',num_cols=num_cols[:3]+['k_rooms','k_bedrooms']+num_cols[5:]), \n",
    "        NumOnlyPlan(name='Ocean_Proxy as Ordinal ___', num_cols=num_cols+['i_proxy']),\n",
    "        OhePlan( name =  'OHE transformation _______' ,num_cols=num_cols)\n",
    "       ) \n",
    "\n",
    "\n",
    "for p in plans:\n",
    "    p.create_pipe()\n",
    "    p.pipe= p.pipe.fit(tr)\n",
    "    va= p.pipe.transform(va)\n",
    "    pred_col = 'pr_'+p._id\n",
    "    p.rm= RegressionMetrics( va.rdd.map(lambda r: ( r[pred_col],r.median_house_value ) ) )"
   ]
  },
  {
   "cell_type": "markdown",
   "id": "757fd103",
   "metadata": {
    "id": "757fd103"
   },
   "source": [
    "## Анализ результатов"
   ]
  },
  {
   "cell_type": "code",
   "execution_count": 18,
   "id": "b138f9ba",
   "metadata": {},
   "outputs": [
    {
     "name": "stderr",
     "output_type": "stream",
     "text": [
      "                                                                                \r"
     ]
    }
   ],
   "source": [
    "for p in plans:\n",
    "    p.out = f\"{p.name}\\t{round(p.rm.r2,4)}\\t{round(p.rm.rootMeanSquaredError)}\\t{round(p.rm.meanAbsoluteError)}\"\n"
   ]
  },
  {
   "cell_type": "markdown",
   "id": "b1170edd",
   "metadata": {},
   "source": [
    "Выведем результат в виде таблицы"
   ]
  },
  {
   "cell_type": "code",
   "execution_count": 19,
   "id": "9e4816d9",
   "metadata": {
    "scrolled": true
   },
   "outputs": [
    {
     "name": "stdout",
     "output_type": "stream",
     "text": [
      "____Тип трансформации____\t __R2__\t_RMSE_\t_MAE_\n",
      "Original num columns ____\t0.642\t70608\t52084\n",
      "geo XY rotated___________\t0.642\t70608\t52084\n",
      "Population transformed___\t0.6168\t73044\t54087\n",
      "Rooms&Bedrooms transformed\t0.6519\t69618\t51172\n",
      "Ocean_Proxy as Ordinal ___\t0.6433\t70480\t51810\n",
      "OHE transformation _______\t0.6499\t69823\t50982\n"
     ]
    }
   ],
   "source": [
    "print(f\"____Тип трансформации____\\t __R2__\\t_RMSE_\\t_MAE_\")\n",
    "for p in plans:\n",
    "    print(p.out)"
   ]
  },
  {
   "cell_type": "markdown",
   "id": "4a08b4e6",
   "metadata": {},
   "source": [
    "Но может быть более наглядно будет графически:"
   ]
  },
  {
   "cell_type": "code",
   "execution_count": 20,
   "id": "49d66942",
   "metadata": {},
   "outputs": [],
   "source": [
    "res=pd.DataFrame(list(map(lambda e:[e.name,e.rm.r2 ],plans)),columns=['name','R2']).sort_values(by='R2').set_index('name')"
   ]
  },
  {
   "cell_type": "code",
   "execution_count": 21,
   "id": "6c3a4928",
   "metadata": {
    "scrolled": true
   },
   "outputs": [
    {
     "data": {
      "image/png": "[encoded data removed]",
      "text/plain": [
       "<Figure size 1728x432 with 1 Axes>"
      ]
     },
     "metadata": {
      "needs_background": "light"
     },
     "output_type": "display_data"
    }
   ],
   "source": [
    "def plot_datasets_diff(df,base,title='Эффект трансформаций данных'):\n",
    "    ax = df.plot.barh(alpha=.6,figsize=(24,6),title=title)\n",
    "    ax.barh(df.index,df.R2-base ,color='r',height = 0.5 ,alpha=.6,label='diff with orig')\n",
    "    ax.set_xlabel('R2')\n",
    "    ax.set_ylabel('Transformations')\n",
    "    ax.legend(['R2 test res','diff with orig'])\n",
    "plot_datasets_diff(res,res.loc['Original num columns ____','R2'])    "
   ]
  },
  {
   "cell_type": "markdown",
   "id": "f7c30c13",
   "metadata": {},
   "source": [
    "* OHE категориальной колонки улучшает метрики\n",
    "* Порядковое кодирование  категориальной колонки также улучшает метрики, но гораздо слабее\n",
    "* Также улучшает метрики  переход к коэффициентам на дом для количества комнат и спален\n",
    "* Переход о населения района к заселенности дома неожиданно ухудшает метрику\n",
    "\n",
    "Последний пункт я объяснить не могу, возможно зависимость цены от заселенности сильно нелинейна\n"
   ]
  },
  {
   "cell_type": "markdown",
   "id": "bc90ec97",
   "metadata": {},
   "source": [
    "## ФИНАЛЬНЫЙ ТЕСТ"
   ]
  },
  {
   "cell_type": "markdown",
   "id": "5b12a8b6",
   "metadata": {},
   "source": [
    "Для финального теста взяты признаки из трансформировнного набора колонок , кроме k_population, так он по непонятной причине портит метрику  "
   ]
  },
  {
   "cell_type": "markdown",
   "id": "c66e4402",
   "metadata": {},
   "source": [
    "Так же не используется порядковое пробразование ocean_proximity -> i_proxy, так как я ожидаю, что его полезный эффект все равно будет перекрыт OHE."
   ]
  },
  {
   "cell_type": "code",
   "execution_count": 22,
   "id": "fd73f6a7",
   "metadata": {},
   "outputs": [
    {
     "name": "stderr",
     "output_type": "stream",
     "text": [
      "24/02/08 15:34:46 WARN Instrumentation: [fc3b35f2] regParam is zero, which might cause numerical instability and overfitting.\n",
      "24/02/08 15:34:47 WARN Instrumentation: [fc3b35f2] Cholesky solver failed due to singular covariance matrix. Retrying with Quasi-Newton solver.\n"
     ]
    }
   ],
   "source": [
    "fin = OhePlan(name='Final test' ,\n",
    "    num_cols=['sum_xy','diff_xy','housing_median_age','k_rooms','k_bedrooms','population','households','median_income'])\n",
    "fin.create_pipe()\n",
    "fin.pipe= fin.pipe.fit(trfi)\n",
    "te= fin.pipe.transform(te)\n",
    "pred_col = 'pr_'+fin._id\n",
    "fin.rm= RegressionMetrics( te.rdd.map(lambda r: ( r[pred_col],r.median_house_value ) ) )"
   ]
  },
  {
   "cell_type": "markdown",
   "id": "a2bdca5c",
   "metadata": {},
   "source": [
    "Метрики теста"
   ]
  },
  {
   "cell_type": "code",
   "execution_count": 23,
   "id": "c189930b",
   "metadata": {
    "scrolled": true
   },
   "outputs": [
    {
     "name": "stderr",
     "output_type": "stream",
     "text": [
      "[Stage 161:>                                                        (0 + 1) / 1]\r"
     ]
    },
    {
     "name": "stdout",
     "output_type": "stream",
     "text": [
      "R2 ____ 0.6491\n",
      "RMSE __ 67349.0\n",
      "MAE ___ 48776.0\n"
     ]
    },
    {
     "name": "stderr",
     "output_type": "stream",
     "text": [
      "                                                                                \r"
     ]
    }
   ],
   "source": [
    "print( \"R2 ____\", round(fin.rm.r2,4))\n",
    "print( \"RMSE __\", round(fin.rm.rootMeanSquaredError,0))\n",
    "print( \"MAE ___\", round(fin.rm.meanAbsoluteError,0))"
   ]
  },
  {
   "cell_type": "markdown",
   "id": "9088bb4a",
   "metadata": {},
   "source": [
    "Основная метрика равна 0.6491 и улучшилась на 0.0018 по сравнению с версией 1.0"
   ]
  },
  {
   "cell_type": "code",
   "execution_count": 24,
   "id": "bfdd22bd",
   "metadata": {},
   "outputs": [],
   "source": [
    "spark.stop()"
   ]
  },
  {
   "cell_type": "markdown",
   "id": "df93e574",
   "metadata": {},
   "source": [
    "## Выводы"
   ]
  },
  {
   "cell_type": "markdown",
   "id": "5518ac2e",
   "metadata": {},
   "source": [
    "* Построенная модель позволяет предсказывать медианную цену дома в районе с метрикой R2=0.649\n",
    "* На цену дома влияет средний доход в районе, близость к океану и в меньшей степени - отношение колчества спален ко всем комнатам"
   ]
  }
 ],
 "metadata": {
  "ExecuteTimeLog": [
   {
    "duration": 18423,
    "start_time": "2023-06-05T09:18:16.320Z"
   },
   {
    "duration": 3407,
    "start_time": "2023-06-05T09:19:33.618Z"
   },
   {
    "duration": 5538,
    "start_time": "2023-06-05T09:20:26.203Z"
   },
   {
    "duration": 90,
    "start_time": "2023-06-05T09:21:21.253Z"
   },
   {
    "duration": 5,
    "start_time": "2023-06-05T09:21:26.878Z"
   },
   {
    "duration": 56,
    "start_time": "2023-06-05T09:21:54.278Z"
   },
   {
    "duration": 379,
    "start_time": "2023-06-05T09:22:48.454Z"
   },
   {
    "duration": 4303,
    "start_time": "2023-06-05T09:22:59.653Z"
   },
   {
    "duration": 46,
    "start_time": "2023-06-05T09:24:37.529Z"
   },
   {
    "duration": 326,
    "start_time": "2023-06-05T09:24:59.904Z"
   },
   {
    "duration": 332,
    "start_time": "2023-06-05T09:25:12.728Z"
   },
   {
    "duration": 333,
    "start_time": "2023-06-05T09:25:24.020Z"
   },
   {
    "duration": 725,
    "start_time": "2023-06-05T09:25:36.429Z"
   },
   {
    "duration": 379,
    "start_time": "2023-06-05T09:25:56.554Z"
   },
   {
    "duration": 453,
    "start_time": "2023-06-05T09:26:47.879Z"
   },
   {
    "duration": 313,
    "start_time": "2023-06-05T09:26:54.821Z"
   },
   {
    "duration": 4957,
    "start_time": "2023-06-05T09:28:25.981Z"
   },
   {
    "duration": 6961,
    "start_time": "2023-06-05T09:28:38.780Z"
   },
   {
    "duration": 158,
    "start_time": "2023-06-05T09:28:51.605Z"
   },
   {
    "duration": 176,
    "start_time": "2023-06-05T09:29:01.281Z"
   },
   {
    "duration": 241,
    "start_time": "2023-06-05T09:31:38.111Z"
   },
   {
    "duration": 153,
    "start_time": "2023-06-05T09:32:08.509Z"
   },
   {
    "duration": 7652,
    "start_time": "2023-06-05T09:32:56.681Z"
   },
   {
    "duration": 16812,
    "start_time": "2023-06-05T09:34:28.624Z"
   },
   {
    "duration": 207,
    "start_time": "2023-06-05T09:34:45.439Z"
   },
   {
    "duration": 0,
    "start_time": "2023-06-05T09:34:45.647Z"
   },
   {
    "duration": 3320,
    "start_time": "2023-06-05T09:35:50.015Z"
   },
   {
    "duration": 76,
    "start_time": "2023-06-05T09:36:12.404Z"
   },
   {
    "duration": 18716,
    "start_time": "2023-06-05T09:36:30.634Z"
   },
   {
    "duration": 17269,
    "start_time": "2023-06-05T09:37:27.899Z"
   },
   {
    "duration": 10959,
    "start_time": "2023-06-05T09:37:45.171Z"
   },
   {
    "duration": 14091,
    "start_time": "2023-06-05T09:37:56.135Z"
   },
   {
    "duration": 5071,
    "start_time": "2023-06-05T09:39:32.364Z"
   },
   {
    "duration": 18163,
    "start_time": "2023-06-05T09:40:30.176Z"
   },
   {
    "duration": 11086,
    "start_time": "2023-06-05T09:40:48.343Z"
   },
   {
    "duration": 15759,
    "start_time": "2023-06-05T09:40:59.432Z"
   },
   {
    "duration": 5521,
    "start_time": "2023-06-05T09:43:06.105Z"
   },
   {
    "duration": 6311,
    "start_time": "2023-06-05T09:44:09.139Z"
   },
   {
    "duration": 415,
    "start_time": "2023-06-05T09:44:46.562Z"
   },
   {
    "duration": 372,
    "start_time": "2023-06-05T09:44:53.073Z"
   },
   {
    "duration": 371,
    "start_time": "2023-06-05T09:45:02.338Z"
   },
   {
    "duration": 347,
    "start_time": "2023-06-05T09:45:12.942Z"
   },
   {
    "duration": 6832,
    "start_time": "2023-06-05T09:45:25.413Z"
   },
   {
    "duration": 15,
    "start_time": "2023-06-05T09:47:25.963Z"
   },
   {
    "duration": 12,
    "start_time": "2023-06-05T09:47:38.563Z"
   },
   {
    "duration": 433,
    "start_time": "2023-06-05T09:47:44.313Z"
   },
   {
    "duration": 463,
    "start_time": "2023-06-05T11:50:24.463Z"
   },
   {
    "duration": 246,
    "start_time": "2023-06-05T11:54:16.085Z"
   },
   {
    "duration": 51,
    "start_time": "2023-06-05T11:55:17.709Z"
   },
   {
    "duration": 5947,
    "start_time": "2023-06-05T11:55:26.505Z"
   },
   {
    "duration": 36,
    "start_time": "2023-06-05T11:56:12.661Z"
   },
   {
    "duration": 289,
    "start_time": "2023-06-05T11:59:03.470Z"
   },
   {
    "duration": 21,
    "start_time": "2023-06-05T12:28:52.540Z"
   },
   {
    "duration": 5,
    "start_time": "2023-06-05T12:29:02.440Z"
   },
   {
    "duration": 3,
    "start_time": "2023-06-05T12:35:24.510Z"
   },
   {
    "duration": 54,
    "start_time": "2023-06-05T12:36:24.066Z"
   },
   {
    "duration": 11,
    "start_time": "2023-06-05T12:36:31.841Z"
   },
   {
    "duration": 7,
    "start_time": "2023-06-05T12:36:41.641Z"
   },
   {
    "duration": 29,
    "start_time": "2023-06-05T12:37:16.816Z"
   },
   {
    "duration": 76,
    "start_time": "2023-06-05T12:37:19.389Z"
   },
   {
    "duration": 19,
    "start_time": "2023-06-05T12:37:20.238Z"
   },
   {
    "duration": 18,
    "start_time": "2023-06-05T12:37:21.463Z"
   },
   {
    "duration": 10,
    "start_time": "2023-06-05T12:37:24.736Z"
   },
   {
    "duration": 3,
    "start_time": "2023-06-05T12:38:39.102Z"
   },
   {
    "duration": 8,
    "start_time": "2023-06-05T12:40:41.971Z"
   },
   {
    "duration": 8,
    "start_time": "2023-06-05T12:40:59.313Z"
   },
   {
    "duration": 3,
    "start_time": "2023-06-05T12:41:26.866Z"
   },
   {
    "duration": 103,
    "start_time": "2023-06-05T12:41:31.731Z"
   },
   {
    "duration": 5,
    "start_time": "2023-06-05T12:42:00.072Z"
   },
   {
    "duration": 5,
    "start_time": "2023-06-05T12:42:25.072Z"
   },
   {
    "duration": 16,
    "start_time": "2023-06-05T12:42:28.616Z"
   },
   {
    "duration": 26,
    "start_time": "2023-06-05T17:37:02.955Z"
   },
   {
    "duration": 24,
    "start_time": "2023-06-05T17:37:04.550Z"
   },
   {
    "duration": 8,
    "start_time": "2023-06-05T17:37:52.104Z"
   },
   {
    "duration": 4,
    "start_time": "2023-06-05T17:37:57.058Z"
   },
   {
    "duration": 3615,
    "start_time": "2023-06-05T17:37:58.619Z"
   },
   {
    "duration": 7,
    "start_time": "2023-06-05T17:39:33.754Z"
   },
   {
    "duration": 7,
    "start_time": "2023-06-05T17:39:34.359Z"
   },
   {
    "duration": 7,
    "start_time": "2023-06-05T17:39:34.908Z"
   },
   {
    "duration": 8,
    "start_time": "2023-06-05T17:39:35.452Z"
   },
   {
    "duration": 5,
    "start_time": "2023-06-05T17:39:38.350Z"
   },
   {
    "duration": 91,
    "start_time": "2023-06-05T17:39:40.856Z"
   },
   {
    "duration": 9,
    "start_time": "2023-06-05T17:41:04.496Z"
   },
   {
    "duration": 8,
    "start_time": "2023-06-05T17:41:05.062Z"
   },
   {
    "duration": 6,
    "start_time": "2023-06-05T17:41:05.553Z"
   },
   {
    "duration": 8,
    "start_time": "2023-06-05T17:41:06.100Z"
   },
   {
    "duration": 3,
    "start_time": "2023-06-05T17:41:06.611Z"
   },
   {
    "duration": 823,
    "start_time": "2023-06-05T17:41:07.821Z"
   },
   {
    "duration": 545,
    "start_time": "2023-06-05T17:43:03.909Z"
   },
   {
    "duration": 483,
    "start_time": "2023-06-05T17:43:46.147Z"
   },
   {
    "duration": 16,
    "start_time": "2023-06-05T17:44:02.501Z"
   },
   {
    "duration": 517,
    "start_time": "2023-06-05T17:44:16.800Z"
   },
   {
    "duration": 335,
    "start_time": "2023-06-05T17:44:17.319Z"
   },
   {
    "duration": 18709,
    "start_time": "2023-06-05T17:44:17.656Z"
   },
   {
    "duration": 10878,
    "start_time": "2023-06-05T17:44:36.369Z"
   },
   {
    "duration": 15819,
    "start_time": "2023-06-05T17:44:47.249Z"
   },
   {
    "duration": 277,
    "start_time": "2023-06-05T17:45:03.069Z"
   },
   {
    "duration": 13,
    "start_time": "2023-06-05T17:45:03.348Z"
   },
   {
    "duration": 107,
    "start_time": "2023-06-05T17:45:03.369Z"
   },
   {
    "duration": 105,
    "start_time": "2023-06-05T17:45:03.526Z"
   },
   {
    "duration": 33,
    "start_time": "2023-06-05T17:45:03.633Z"
   },
   {
    "duration": 63,
    "start_time": "2023-06-05T17:45:03.668Z"
   },
   {
    "duration": 54,
    "start_time": "2023-06-05T17:45:03.733Z"
   },
   {
    "duration": 3,
    "start_time": "2023-06-05T17:45:03.790Z"
   },
   {
    "duration": 3321,
    "start_time": "2023-06-05T17:45:03.795Z"
   },
   {
    "duration": 0,
    "start_time": "2023-06-05T17:45:07.119Z"
   },
   {
    "duration": 0,
    "start_time": "2023-06-05T17:45:07.121Z"
   },
   {
    "duration": 1333,
    "start_time": "2023-06-05T17:45:18.923Z"
   },
   {
    "duration": 537,
    "start_time": "2023-06-05T17:46:49.226Z"
   },
   {
    "duration": 675,
    "start_time": "2023-06-05T17:49:08.004Z"
   },
   {
    "duration": 1714,
    "start_time": "2023-06-05T17:49:30.415Z"
   },
   {
    "duration": 907,
    "start_time": "2023-06-05T17:50:15.457Z"
   },
   {
    "duration": 582,
    "start_time": "2023-06-05T17:51:00.360Z"
   },
   {
    "duration": 368,
    "start_time": "2023-06-05T17:51:20.769Z"
   },
   {
    "duration": 48,
    "start_time": "2023-06-05T17:51:29.645Z"
   },
   {
    "duration": 8,
    "start_time": "2023-06-05T17:52:04.999Z"
   },
   {
    "duration": 110,
    "start_time": "2023-06-05T17:53:23.598Z"
   },
   {
    "duration": 74,
    "start_time": "2023-06-05T17:56:17.422Z"
   },
   {
    "duration": 5,
    "start_time": "2023-06-05T17:56:27.896Z"
   },
   {
    "duration": 26,
    "start_time": "2023-06-05T17:56:37.324Z"
   },
   {
    "duration": 8,
    "start_time": "2023-06-05T17:56:39.862Z"
   },
   {
    "duration": 9,
    "start_time": "2023-06-05T17:56:40.457Z"
   },
   {
    "duration": 9,
    "start_time": "2023-06-05T17:56:41.008Z"
   },
   {
    "duration": 8,
    "start_time": "2023-06-05T17:56:41.691Z"
   },
   {
    "duration": 4,
    "start_time": "2023-06-05T17:56:43.779Z"
   },
   {
    "duration": 696,
    "start_time": "2023-06-05T17:56:49.995Z"
   },
   {
    "duration": 7,
    "start_time": "2023-06-05T18:00:40.810Z"
   },
   {
    "duration": 887,
    "start_time": "2023-06-05T18:00:43.291Z"
   },
   {
    "duration": 65,
    "start_time": "2023-06-05T18:00:44.180Z"
   },
   {
    "duration": 131,
    "start_time": "2023-06-05T18:00:46.104Z"
   },
   {
    "duration": 12,
    "start_time": "2023-06-05T18:01:04.908Z"
   },
   {
    "duration": 110,
    "start_time": "2023-06-05T18:01:27.455Z"
   },
   {
    "duration": 7,
    "start_time": "2023-06-05T18:01:51.789Z"
   },
   {
    "duration": 4,
    "start_time": "2023-06-05T18:02:18.490Z"
   },
   {
    "duration": 9,
    "start_time": "2023-06-05T18:02:29.761Z"
   },
   {
    "duration": 4,
    "start_time": "2023-06-05T18:02:37.955Z"
   },
   {
    "duration": 9,
    "start_time": "2023-06-05T18:03:21.485Z"
   },
   {
    "duration": 46,
    "start_time": "2023-06-05T18:03:34.804Z"
   },
   {
    "duration": 743,
    "start_time": "2023-06-05T18:04:06.596Z"
   },
   {
    "duration": 8068,
    "start_time": "2023-06-05T18:05:02.173Z"
   },
   {
    "duration": 11,
    "start_time": "2023-06-05T18:05:37.475Z"
   },
   {
    "duration": 17,
    "start_time": "2023-06-05T18:05:53.822Z"
   },
   {
    "duration": 413,
    "start_time": "2023-06-05T18:06:43.491Z"
   },
   {
    "duration": 329,
    "start_time": "2023-06-05T18:06:43.907Z"
   },
   {
    "duration": 17196,
    "start_time": "2023-06-05T18:06:44.237Z"
   },
   {
    "duration": 10513,
    "start_time": "2023-06-05T18:07:01.436Z"
   },
   {
    "duration": 15379,
    "start_time": "2023-06-05T18:07:11.950Z"
   },
   {
    "duration": 164,
    "start_time": "2023-06-05T18:07:27.331Z"
   },
   {
    "duration": 44,
    "start_time": "2023-06-05T18:07:27.496Z"
   },
   {
    "duration": 33,
    "start_time": "2023-06-05T18:07:27.543Z"
   },
   {
    "duration": 83,
    "start_time": "2023-06-05T18:07:27.578Z"
   },
   {
    "duration": 64,
    "start_time": "2023-06-05T18:07:27.664Z"
   },
   {
    "duration": 14,
    "start_time": "2023-06-05T18:07:27.730Z"
   },
   {
    "duration": 35,
    "start_time": "2023-06-05T18:07:27.746Z"
   },
   {
    "duration": 5,
    "start_time": "2023-06-05T18:07:27.783Z"
   },
   {
    "duration": 188,
    "start_time": "2023-06-05T18:07:27.790Z"
   },
   {
    "duration": 0,
    "start_time": "2023-06-05T18:07:27.980Z"
   },
   {
    "duration": 0,
    "start_time": "2023-06-05T18:07:27.982Z"
   },
   {
    "duration": 0,
    "start_time": "2023-06-05T18:07:27.983Z"
   },
   {
    "duration": 0,
    "start_time": "2023-06-05T18:07:27.985Z"
   },
   {
    "duration": 0,
    "start_time": "2023-06-05T18:07:27.986Z"
   },
   {
    "duration": 0,
    "start_time": "2023-06-05T18:07:27.987Z"
   },
   {
    "duration": 0,
    "start_time": "2023-06-05T18:07:27.988Z"
   },
   {
    "duration": 10969,
    "start_time": "2023-06-05T18:07:37.159Z"
   },
   {
    "duration": 251,
    "start_time": "2023-06-05T18:07:51.707Z"
   },
   {
    "duration": 13,
    "start_time": "2023-06-05T18:07:59.283Z"
   },
   {
    "duration": 721,
    "start_time": "2023-06-05T18:08:07.329Z"
   },
   {
    "duration": 10,
    "start_time": "2023-06-05T18:10:52.975Z"
   },
   {
    "duration": 10,
    "start_time": "2023-06-05T18:13:13.673Z"
   },
   {
    "duration": 149,
    "start_time": "2023-06-05T18:14:59.848Z"
   },
   {
    "duration": 27,
    "start_time": "2023-06-05T18:15:27.540Z"
   },
   {
    "duration": 23,
    "start_time": "2023-06-05T18:15:54.427Z"
   },
   {
    "duration": 539,
    "start_time": "2023-06-05T18:16:02.900Z"
   },
   {
    "duration": 55,
    "start_time": "2023-06-05T18:23:12.455Z"
   },
   {
    "duration": 16,
    "start_time": "2023-06-05T18:23:21.078Z"
   },
   {
    "duration": 2982,
    "start_time": "2023-06-05T18:23:33.902Z"
   },
   {
    "duration": 1765,
    "start_time": "2023-06-05T18:24:29.388Z"
   },
   {
    "duration": 5,
    "start_time": "2023-06-05T18:24:52.777Z"
   },
   {
    "duration": 5,
    "start_time": "2023-06-05T18:38:32.667Z"
   },
   {
    "duration": 3,
    "start_time": "2023-06-05T18:39:38.779Z"
   },
   {
    "duration": 477,
    "start_time": "2023-06-05T18:39:44.189Z"
   },
   {
    "duration": 305,
    "start_time": "2023-06-05T18:39:44.668Z"
   },
   {
    "duration": 16479,
    "start_time": "2023-06-05T18:39:44.975Z"
   },
   {
    "duration": 10270,
    "start_time": "2023-06-05T18:40:01.457Z"
   },
   {
    "duration": 14613,
    "start_time": "2023-06-05T18:40:11.742Z"
   },
   {
    "duration": 207,
    "start_time": "2023-06-05T18:40:26.356Z"
   },
   {
    "duration": 5,
    "start_time": "2023-06-05T18:40:26.565Z"
   },
   {
    "duration": 75,
    "start_time": "2023-06-05T18:40:26.571Z"
   },
   {
    "duration": 316,
    "start_time": "2023-06-05T18:40:26.649Z"
   },
   {
    "duration": 6971,
    "start_time": "2023-06-05T18:40:26.968Z"
   },
   {
    "duration": 212,
    "start_time": "2023-06-05T18:40:33.942Z"
   },
   {
    "duration": 704,
    "start_time": "2023-06-05T18:40:34.156Z"
   },
   {
    "duration": 2613,
    "start_time": "2023-06-05T18:40:34.862Z"
   },
   {
    "duration": 1421,
    "start_time": "2023-06-05T18:40:37.525Z"
   },
   {
    "duration": 144,
    "start_time": "2023-06-05T18:40:38.948Z"
   },
   {
    "duration": 0,
    "start_time": "2023-06-05T18:40:39.094Z"
   },
   {
    "duration": 504,
    "start_time": "2023-06-06T12:04:19.706Z"
   },
   {
    "duration": 281,
    "start_time": "2023-06-06T12:04:20.212Z"
   },
   {
    "duration": 17360,
    "start_time": "2023-06-06T12:04:20.494Z"
   },
   {
    "duration": 9503,
    "start_time": "2023-06-06T12:04:37.857Z"
   },
   {
    "duration": 15112,
    "start_time": "2023-06-06T12:04:47.363Z"
   },
   {
    "duration": 212,
    "start_time": "2023-06-06T12:05:02.543Z"
   },
   {
    "duration": 6,
    "start_time": "2023-06-06T12:05:02.757Z"
   },
   {
    "duration": 78,
    "start_time": "2023-06-06T12:05:02.765Z"
   },
   {
    "duration": 304,
    "start_time": "2023-06-06T12:05:02.845Z"
   },
   {
    "duration": 8707,
    "start_time": "2023-06-06T12:05:03.151Z"
   },
   {
    "duration": 563,
    "start_time": "2023-06-06T12:05:11.861Z"
   },
   {
    "duration": 0,
    "start_time": "2023-06-06T12:05:12.426Z"
   },
   {
    "duration": 0,
    "start_time": "2023-06-06T12:05:12.427Z"
   },
   {
    "duration": 0,
    "start_time": "2023-06-06T12:05:12.429Z"
   },
   {
    "duration": 1,
    "start_time": "2023-06-06T12:05:12.429Z"
   },
   {
    "duration": 478,
    "start_time": "2023-06-06T12:06:41.518Z"
   },
   {
    "duration": 285,
    "start_time": "2023-06-06T12:06:41.998Z"
   },
   {
    "duration": 16377,
    "start_time": "2023-06-06T12:06:42.284Z"
   },
   {
    "duration": 9716,
    "start_time": "2023-06-06T12:06:58.664Z"
   },
   {
    "duration": 14873,
    "start_time": "2023-06-06T12:07:08.382Z"
   },
   {
    "duration": 220,
    "start_time": "2023-06-06T12:07:23.258Z"
   },
   {
    "duration": 65,
    "start_time": "2023-06-06T12:07:23.480Z"
   },
   {
    "duration": 32,
    "start_time": "2023-06-06T12:07:23.547Z"
   },
   {
    "duration": 272,
    "start_time": "2023-06-06T12:07:23.581Z"
   },
   {
    "duration": 8794,
    "start_time": "2023-06-06T12:07:23.857Z"
   },
   {
    "duration": 308,
    "start_time": "2023-06-06T12:07:32.653Z"
   },
   {
    "duration": 135,
    "start_time": "2023-06-06T12:07:32.962Z"
   },
   {
    "duration": 0,
    "start_time": "2023-06-06T12:07:33.099Z"
   },
   {
    "duration": 0,
    "start_time": "2023-06-06T12:07:33.100Z"
   },
   {
    "duration": 0,
    "start_time": "2023-06-06T12:07:33.101Z"
   },
   {
    "duration": 552,
    "start_time": "2023-06-06T12:08:22.805Z"
   },
   {
    "duration": 9,
    "start_time": "2023-06-06T12:09:18.511Z"
   },
   {
    "duration": 4492,
    "start_time": "2023-06-06T12:09:30.249Z"
   },
   {
    "duration": 1707,
    "start_time": "2023-06-06T12:09:46.249Z"
   },
   {
    "duration": 767,
    "start_time": "2023-06-06T12:09:55.996Z"
   },
   {
    "duration": 274,
    "start_time": "2023-06-06T12:15:04.151Z"
   },
   {
    "duration": 436,
    "start_time": "2023-06-06T16:29:56.514Z"
   },
   {
    "duration": 246,
    "start_time": "2023-06-06T16:29:56.952Z"
   },
   {
    "duration": 17161,
    "start_time": "2023-06-06T16:29:57.200Z"
   },
   {
    "duration": 11181,
    "start_time": "2023-06-06T16:30:14.364Z"
   },
   {
    "duration": 15407,
    "start_time": "2023-06-06T16:30:25.547Z"
   },
   {
    "duration": 290,
    "start_time": "2023-06-06T16:30:40.956Z"
   },
   {
    "duration": 177,
    "start_time": "2023-06-06T16:30:41.249Z"
   },
   {
    "duration": 0,
    "start_time": "2023-06-06T16:30:41.428Z"
   },
   {
    "duration": 0,
    "start_time": "2023-06-06T16:30:41.429Z"
   },
   {
    "duration": 0,
    "start_time": "2023-06-06T16:30:41.434Z"
   },
   {
    "duration": 0,
    "start_time": "2023-06-06T16:30:41.435Z"
   },
   {
    "duration": 0,
    "start_time": "2023-06-06T16:30:41.436Z"
   },
   {
    "duration": 0,
    "start_time": "2023-06-06T16:30:41.438Z"
   },
   {
    "duration": 0,
    "start_time": "2023-06-06T16:30:41.439Z"
   },
   {
    "duration": 0,
    "start_time": "2023-06-06T16:30:41.441Z"
   },
   {
    "duration": 0,
    "start_time": "2023-06-06T16:30:41.442Z"
   },
   {
    "duration": 0,
    "start_time": "2023-06-06T16:30:41.443Z"
   },
   {
    "duration": 0,
    "start_time": "2023-06-06T16:30:41.444Z"
   },
   {
    "duration": 8,
    "start_time": "2023-06-06T16:42:18.137Z"
   },
   {
    "duration": 27,
    "start_time": "2023-06-06T16:42:21.492Z"
   },
   {
    "duration": 697,
    "start_time": "2023-06-06T16:42:23.854Z"
   },
   {
    "duration": 270,
    "start_time": "2023-06-06T16:42:31.958Z"
   },
   {
    "duration": 145,
    "start_time": "2023-06-06T16:42:48.391Z"
   },
   {
    "duration": 9,
    "start_time": "2023-06-06T16:43:23.254Z"
   },
   {
    "duration": 85,
    "start_time": "2023-06-06T16:43:32.212Z"
   },
   {
    "duration": 10,
    "start_time": "2023-06-06T16:43:58.591Z"
   },
   {
    "duration": 10,
    "start_time": "2023-06-06T16:44:40.512Z"
   },
   {
    "duration": 449,
    "start_time": "2023-06-06T16:45:19.138Z"
   },
   {
    "duration": 292,
    "start_time": "2023-06-06T16:45:19.589Z"
   },
   {
    "duration": 16680,
    "start_time": "2023-06-06T16:45:19.882Z"
   },
   {
    "duration": 11178,
    "start_time": "2023-06-06T16:45:36.565Z"
   },
   {
    "duration": 16220,
    "start_time": "2023-06-06T16:45:47.745Z"
   },
   {
    "duration": 291,
    "start_time": "2023-06-06T16:46:03.967Z"
   },
   {
    "duration": 5,
    "start_time": "2023-06-06T16:46:04.261Z"
   },
   {
    "duration": 83,
    "start_time": "2023-06-06T16:46:04.268Z"
   },
   {
    "duration": 13,
    "start_time": "2023-06-06T16:46:04.353Z"
   },
   {
    "duration": 96,
    "start_time": "2023-06-06T16:46:04.369Z"
   },
   {
    "duration": 72,
    "start_time": "2023-06-06T16:46:04.467Z"
   },
   {
    "duration": 148,
    "start_time": "2023-06-06T16:46:04.541Z"
   },
   {
    "duration": 0,
    "start_time": "2023-06-06T16:46:04.691Z"
   },
   {
    "duration": 0,
    "start_time": "2023-06-06T16:46:04.692Z"
   },
   {
    "duration": 0,
    "start_time": "2023-06-06T16:46:04.693Z"
   },
   {
    "duration": 0,
    "start_time": "2023-06-06T16:46:04.694Z"
   },
   {
    "duration": 0,
    "start_time": "2023-06-06T16:46:04.696Z"
   },
   {
    "duration": 0,
    "start_time": "2023-06-06T16:46:04.697Z"
   },
   {
    "duration": 568,
    "start_time": "2023-06-06T16:49:23.625Z"
   },
   {
    "duration": 365,
    "start_time": "2023-06-06T16:49:24.195Z"
   },
   {
    "duration": 18382,
    "start_time": "2023-06-06T16:49:24.562Z"
   },
   {
    "duration": 12713,
    "start_time": "2023-06-06T16:49:42.953Z"
   },
   {
    "duration": 18208,
    "start_time": "2023-06-06T16:49:55.669Z"
   },
   {
    "duration": 274,
    "start_time": "2023-06-06T16:50:13.879Z"
   },
   {
    "duration": 8,
    "start_time": "2023-06-06T16:50:14.156Z"
   },
   {
    "duration": 89,
    "start_time": "2023-06-06T16:50:14.167Z"
   },
   {
    "duration": 14,
    "start_time": "2023-06-06T16:50:14.258Z"
   },
   {
    "duration": 10,
    "start_time": "2023-06-06T16:50:14.276Z"
   },
   {
    "duration": 10,
    "start_time": "2023-06-06T16:50:14.288Z"
   },
   {
    "duration": 402,
    "start_time": "2023-06-06T16:50:14.300Z"
   },
   {
    "duration": 0,
    "start_time": "2023-06-06T16:50:14.704Z"
   },
   {
    "duration": 0,
    "start_time": "2023-06-06T16:50:14.705Z"
   },
   {
    "duration": 0,
    "start_time": "2023-06-06T16:50:14.706Z"
   },
   {
    "duration": 0,
    "start_time": "2023-06-06T16:50:14.707Z"
   },
   {
    "duration": 0,
    "start_time": "2023-06-06T16:50:14.709Z"
   },
   {
    "duration": 0,
    "start_time": "2023-06-06T16:50:14.710Z"
   },
   {
    "duration": 501,
    "start_time": "2023-06-06T16:51:57.014Z"
   },
   {
    "duration": 270,
    "start_time": "2023-06-06T16:51:57.518Z"
   },
   {
    "duration": 17372,
    "start_time": "2023-06-06T16:51:57.790Z"
   },
   {
    "duration": 12112,
    "start_time": "2023-06-06T16:52:15.165Z"
   },
   {
    "duration": 19790,
    "start_time": "2023-06-06T16:52:27.280Z"
   },
   {
    "duration": 298,
    "start_time": "2023-06-06T16:52:47.073Z"
   },
   {
    "duration": 73,
    "start_time": "2023-06-06T16:52:47.373Z"
   },
   {
    "duration": 44,
    "start_time": "2023-06-06T16:52:47.449Z"
   },
   {
    "duration": 16,
    "start_time": "2023-06-06T16:52:47.541Z"
   },
   {
    "duration": 26,
    "start_time": "2023-06-06T16:52:47.561Z"
   },
   {
    "duration": 3,
    "start_time": "2023-06-06T16:52:47.641Z"
   },
   {
    "duration": 434,
    "start_time": "2023-06-06T16:52:47.646Z"
   },
   {
    "duration": 0,
    "start_time": "2023-06-06T16:52:48.083Z"
   },
   {
    "duration": 0,
    "start_time": "2023-06-06T16:52:48.084Z"
   },
   {
    "duration": 0,
    "start_time": "2023-06-06T16:52:48.086Z"
   },
   {
    "duration": 0,
    "start_time": "2023-06-06T16:52:48.087Z"
   },
   {
    "duration": 0,
    "start_time": "2023-06-06T16:52:48.143Z"
   },
   {
    "duration": 0,
    "start_time": "2023-06-06T16:52:48.145Z"
   },
   {
    "duration": 438,
    "start_time": "2023-06-06T16:54:12.164Z"
   },
   {
    "duration": 288,
    "start_time": "2023-06-06T16:54:12.604Z"
   },
   {
    "duration": 16986,
    "start_time": "2023-06-06T16:54:12.895Z"
   },
   {
    "duration": 11030,
    "start_time": "2023-06-06T16:54:29.942Z"
   },
   {
    "duration": 17312,
    "start_time": "2023-06-06T16:54:40.974Z"
   },
   {
    "duration": 289,
    "start_time": "2023-06-06T16:54:58.288Z"
   },
   {
    "duration": 56,
    "start_time": "2023-06-06T16:54:58.589Z"
   },
   {
    "duration": 67,
    "start_time": "2023-06-06T16:54:58.648Z"
   },
   {
    "duration": 35,
    "start_time": "2023-06-06T16:54:58.717Z"
   },
   {
    "duration": 15,
    "start_time": "2023-06-06T16:54:58.758Z"
   },
   {
    "duration": 104,
    "start_time": "2023-06-06T16:54:58.776Z"
   },
   {
    "duration": 6431,
    "start_time": "2023-06-06T16:54:58.882Z"
   },
   {
    "duration": 0,
    "start_time": "2023-06-06T16:55:05.317Z"
   },
   {
    "duration": 0,
    "start_time": "2023-06-06T16:55:05.318Z"
   },
   {
    "duration": 0,
    "start_time": "2023-06-06T16:55:05.321Z"
   },
   {
    "duration": 0,
    "start_time": "2023-06-06T16:55:05.323Z"
   },
   {
    "duration": 0,
    "start_time": "2023-06-06T16:55:05.324Z"
   },
   {
    "duration": 0,
    "start_time": "2023-06-06T16:55:05.327Z"
   },
   {
    "duration": 549,
    "start_time": "2023-06-06T16:56:23.768Z"
   },
   {
    "duration": 322,
    "start_time": "2023-06-06T16:56:24.320Z"
   },
   {
    "duration": 19536,
    "start_time": "2023-06-06T16:56:24.644Z"
   },
   {
    "duration": 13767,
    "start_time": "2023-06-06T16:56:44.184Z"
   },
   {
    "duration": 18404,
    "start_time": "2023-06-06T16:56:57.955Z"
   },
   {
    "duration": 301,
    "start_time": "2023-06-06T16:57:16.361Z"
   },
   {
    "duration": 10,
    "start_time": "2023-06-06T16:57:16.665Z"
   },
   {
    "duration": 75,
    "start_time": "2023-06-06T16:57:16.677Z"
   },
   {
    "duration": 9,
    "start_time": "2023-06-06T16:57:16.754Z"
   },
   {
    "duration": 11,
    "start_time": "2023-06-06T16:57:16.765Z"
   },
   {
    "duration": 19,
    "start_time": "2023-06-06T16:57:16.778Z"
   },
   {
    "duration": 5881,
    "start_time": "2023-06-06T16:57:16.800Z"
   },
   {
    "duration": 0,
    "start_time": "2023-06-06T16:57:22.685Z"
   },
   {
    "duration": 0,
    "start_time": "2023-06-06T16:57:22.686Z"
   },
   {
    "duration": 0,
    "start_time": "2023-06-06T16:57:22.688Z"
   },
   {
    "duration": 0,
    "start_time": "2023-06-06T16:57:22.689Z"
   },
   {
    "duration": 0,
    "start_time": "2023-06-06T16:57:22.691Z"
   },
   {
    "duration": 0,
    "start_time": "2023-06-06T16:57:22.692Z"
   },
   {
    "duration": 8,
    "start_time": "2023-06-06T17:03:41.058Z"
   },
   {
    "duration": 659,
    "start_time": "2023-06-06T17:03:59.932Z"
   },
   {
    "duration": 9,
    "start_time": "2023-06-06T17:04:57.025Z"
   },
   {
    "duration": 422,
    "start_time": "2023-06-06T17:05:04.201Z"
   },
   {
    "duration": 275,
    "start_time": "2023-06-06T17:05:04.626Z"
   },
   {
    "duration": 17087,
    "start_time": "2023-06-06T17:05:04.903Z"
   },
   {
    "duration": 10873,
    "start_time": "2023-06-06T17:05:21.993Z"
   },
   {
    "duration": 16422,
    "start_time": "2023-06-06T17:05:32.868Z"
   },
   {
    "duration": 196,
    "start_time": "2023-06-06T17:05:49.293Z"
   },
   {
    "duration": 6,
    "start_time": "2023-06-06T17:05:49.490Z"
   },
   {
    "duration": 79,
    "start_time": "2023-06-06T17:05:49.498Z"
   },
   {
    "duration": 13,
    "start_time": "2023-06-06T17:05:49.579Z"
   },
   {
    "duration": 52,
    "start_time": "2023-06-06T17:05:49.596Z"
   },
   {
    "duration": 62,
    "start_time": "2023-06-06T17:05:49.651Z"
   },
   {
    "duration": 6025,
    "start_time": "2023-06-06T17:05:49.715Z"
   },
   {
    "duration": 0,
    "start_time": "2023-06-06T17:05:55.746Z"
   },
   {
    "duration": 0,
    "start_time": "2023-06-06T17:05:55.749Z"
   },
   {
    "duration": 0,
    "start_time": "2023-06-06T17:05:55.752Z"
   },
   {
    "duration": 0,
    "start_time": "2023-06-06T17:05:55.756Z"
   },
   {
    "duration": 0,
    "start_time": "2023-06-06T17:05:55.759Z"
   },
   {
    "duration": 0,
    "start_time": "2023-06-06T17:05:55.762Z"
   },
   {
    "duration": 0,
    "start_time": "2023-06-06T17:05:55.765Z"
   },
   {
    "duration": 151,
    "start_time": "2023-06-06T17:07:14.230Z"
   },
   {
    "duration": 10,
    "start_time": "2023-06-06T17:08:30.727Z"
   },
   {
    "duration": 612,
    "start_time": "2023-06-06T17:08:42.870Z"
   },
   {
    "duration": 405,
    "start_time": "2023-06-06T17:09:40.584Z"
   },
   {
    "duration": 3030,
    "start_time": "2023-06-06T17:10:13.833Z"
   },
   {
    "duration": 3801,
    "start_time": "2023-06-06T17:10:49.443Z"
   },
   {
    "duration": 449,
    "start_time": "2023-06-06T17:14:10.707Z"
   },
   {
    "duration": 246,
    "start_time": "2023-06-06T17:14:11.158Z"
   },
   {
    "duration": 18049,
    "start_time": "2023-06-06T17:14:11.406Z"
   },
   {
    "duration": 12692,
    "start_time": "2023-06-06T17:14:29.457Z"
   },
   {
    "duration": 17604,
    "start_time": "2023-06-06T17:14:42.151Z"
   },
   {
    "duration": 239,
    "start_time": "2023-06-06T17:14:59.756Z"
   },
   {
    "duration": 46,
    "start_time": "2023-06-06T17:14:59.997Z"
   },
   {
    "duration": 54,
    "start_time": "2023-06-06T17:15:00.045Z"
   },
   {
    "duration": 62,
    "start_time": "2023-06-06T17:15:00.102Z"
   },
   {
    "duration": 30,
    "start_time": "2023-06-06T17:15:00.167Z"
   },
   {
    "duration": 18,
    "start_time": "2023-06-06T17:15:00.199Z"
   },
   {
    "duration": 10951,
    "start_time": "2023-06-06T17:15:00.219Z"
   },
   {
    "duration": 0,
    "start_time": "2023-06-06T17:15:11.176Z"
   },
   {
    "duration": 0,
    "start_time": "2023-06-06T17:15:11.180Z"
   },
   {
    "duration": 0,
    "start_time": "2023-06-06T17:15:11.182Z"
   },
   {
    "duration": 0,
    "start_time": "2023-06-06T17:15:11.183Z"
   },
   {
    "duration": 0,
    "start_time": "2023-06-06T17:15:11.185Z"
   },
   {
    "duration": 0,
    "start_time": "2023-06-06T17:15:11.186Z"
   },
   {
    "duration": 0,
    "start_time": "2023-06-06T17:15:11.187Z"
   },
   {
    "duration": 632,
    "start_time": "2023-06-06T17:16:59.471Z"
   },
   {
    "duration": 302,
    "start_time": "2023-06-06T17:17:00.106Z"
   },
   {
    "duration": 19341,
    "start_time": "2023-06-06T17:17:00.410Z"
   },
   {
    "duration": 14839,
    "start_time": "2023-06-06T17:17:19.754Z"
   },
   {
    "duration": 20108,
    "start_time": "2023-06-06T17:17:34.596Z"
   },
   {
    "duration": 239,
    "start_time": "2023-06-06T17:17:54.748Z"
   },
   {
    "duration": 10,
    "start_time": "2023-06-06T17:17:54.993Z"
   },
   {
    "duration": 80,
    "start_time": "2023-06-06T17:17:55.005Z"
   },
   {
    "duration": 10,
    "start_time": "2023-06-06T17:17:55.088Z"
   },
   {
    "duration": 82,
    "start_time": "2023-06-06T17:17:55.100Z"
   },
   {
    "duration": 8,
    "start_time": "2023-06-06T17:17:55.184Z"
   },
   {
    "duration": 12490,
    "start_time": "2023-06-06T17:17:55.195Z"
   },
   {
    "duration": 0,
    "start_time": "2023-06-06T17:18:07.689Z"
   },
   {
    "duration": 0,
    "start_time": "2023-06-06T17:18:07.694Z"
   },
   {
    "duration": 0,
    "start_time": "2023-06-06T17:18:07.695Z"
   },
   {
    "duration": 0,
    "start_time": "2023-06-06T17:18:07.696Z"
   },
   {
    "duration": 0,
    "start_time": "2023-06-06T17:18:07.698Z"
   },
   {
    "duration": 0,
    "start_time": "2023-06-06T17:18:07.700Z"
   },
   {
    "duration": 0,
    "start_time": "2023-06-06T17:18:07.701Z"
   },
   {
    "duration": 471,
    "start_time": "2023-06-06T17:18:59.488Z"
   },
   {
    "duration": 377,
    "start_time": "2023-06-06T17:18:59.961Z"
   },
   {
    "duration": 18623,
    "start_time": "2023-06-06T17:19:00.348Z"
   },
   {
    "duration": 12684,
    "start_time": "2023-06-06T17:19:18.980Z"
   },
   {
    "duration": 19508,
    "start_time": "2023-06-06T17:19:31.666Z"
   },
   {
    "duration": 237,
    "start_time": "2023-06-06T17:19:51.178Z"
   },
   {
    "duration": 10,
    "start_time": "2023-06-06T17:19:51.452Z"
   },
   {
    "duration": 84,
    "start_time": "2023-06-06T17:19:51.468Z"
   },
   {
    "duration": 18,
    "start_time": "2023-06-06T17:19:51.555Z"
   },
   {
    "duration": 68,
    "start_time": "2023-06-06T17:19:51.576Z"
   },
   {
    "duration": 54,
    "start_time": "2023-06-06T17:19:51.647Z"
   },
   {
    "duration": 11727,
    "start_time": "2023-06-06T17:19:51.703Z"
   },
   {
    "duration": 0,
    "start_time": "2023-06-06T17:20:03.433Z"
   },
   {
    "duration": 0,
    "start_time": "2023-06-06T17:20:03.434Z"
   },
   {
    "duration": 0,
    "start_time": "2023-06-06T17:20:03.442Z"
   },
   {
    "duration": 0,
    "start_time": "2023-06-06T17:20:03.445Z"
   },
   {
    "duration": 0,
    "start_time": "2023-06-06T17:20:03.446Z"
   },
   {
    "duration": 0,
    "start_time": "2023-06-06T17:20:03.447Z"
   },
   {
    "duration": 0,
    "start_time": "2023-06-06T17:20:03.448Z"
   },
   {
    "duration": 588,
    "start_time": "2023-06-06T17:22:35.383Z"
   },
   {
    "duration": 346,
    "start_time": "2023-06-06T17:22:35.981Z"
   },
   {
    "duration": 20223,
    "start_time": "2023-06-06T17:22:36.332Z"
   },
   {
    "duration": 14518,
    "start_time": "2023-06-06T17:22:56.561Z"
   },
   {
    "duration": 20299,
    "start_time": "2023-06-06T17:23:11.081Z"
   },
   {
    "duration": 265,
    "start_time": "2023-06-06T17:23:31.383Z"
   },
   {
    "duration": 21,
    "start_time": "2023-06-06T17:23:31.653Z"
   },
   {
    "duration": 68,
    "start_time": "2023-06-06T17:23:31.677Z"
   },
   {
    "duration": 14,
    "start_time": "2023-06-06T17:23:31.747Z"
   },
   {
    "duration": 79,
    "start_time": "2023-06-06T17:23:31.764Z"
   },
   {
    "duration": 57,
    "start_time": "2023-06-06T17:23:31.847Z"
   },
   {
    "duration": 10667,
    "start_time": "2023-06-06T17:23:31.906Z"
   },
   {
    "duration": 0,
    "start_time": "2023-06-06T17:23:42.575Z"
   },
   {
    "duration": 0,
    "start_time": "2023-06-06T17:23:42.577Z"
   },
   {
    "duration": 0,
    "start_time": "2023-06-06T17:23:42.578Z"
   },
   {
    "duration": 0,
    "start_time": "2023-06-06T17:23:42.580Z"
   },
   {
    "duration": 0,
    "start_time": "2023-06-06T17:23:42.581Z"
   },
   {
    "duration": 0,
    "start_time": "2023-06-06T17:23:42.582Z"
   },
   {
    "duration": 0,
    "start_time": "2023-06-06T17:23:42.584Z"
   },
   {
    "duration": 516,
    "start_time": "2023-06-06T17:27:26.053Z"
   },
   {
    "duration": 318,
    "start_time": "2023-06-06T17:27:26.571Z"
   },
   {
    "duration": 17310,
    "start_time": "2023-06-06T17:27:26.890Z"
   },
   {
    "duration": 11067,
    "start_time": "2023-06-06T17:27:44.202Z"
   },
   {
    "duration": 17096,
    "start_time": "2023-06-06T17:27:55.271Z"
   },
   {
    "duration": 298,
    "start_time": "2023-06-06T17:28:12.369Z"
   },
   {
    "duration": 9,
    "start_time": "2023-06-06T17:28:12.669Z"
   },
   {
    "duration": 98,
    "start_time": "2023-06-06T17:28:12.680Z"
   },
   {
    "duration": 72,
    "start_time": "2023-06-06T17:28:12.785Z"
   },
   {
    "duration": 19,
    "start_time": "2023-06-06T17:28:12.862Z"
   },
   {
    "duration": 11,
    "start_time": "2023-06-06T17:28:12.884Z"
   },
   {
    "duration": 17562,
    "start_time": "2023-06-06T17:28:12.897Z"
   },
   {
    "duration": 6,
    "start_time": "2023-06-06T17:28:30.461Z"
   },
   {
    "duration": 167,
    "start_time": "2023-06-06T17:28:30.471Z"
   },
   {
    "duration": 0,
    "start_time": "2023-06-06T17:28:30.642Z"
   },
   {
    "duration": 0,
    "start_time": "2023-06-06T17:28:30.648Z"
   },
   {
    "duration": 0,
    "start_time": "2023-06-06T17:28:30.649Z"
   },
   {
    "duration": 0,
    "start_time": "2023-06-06T17:28:30.650Z"
   },
   {
    "duration": 0,
    "start_time": "2023-06-06T17:28:30.651Z"
   },
   {
    "duration": 2562,
    "start_time": "2023-06-06T17:29:24.216Z"
   },
   {
    "duration": 2260,
    "start_time": "2023-06-06T17:29:50.162Z"
   },
   {
    "duration": 518,
    "start_time": "2023-06-06T17:31:25.813Z"
   },
   {
    "duration": 349,
    "start_time": "2023-06-06T17:31:26.334Z"
   },
   {
    "duration": 17683,
    "start_time": "2023-06-06T17:31:26.685Z"
   },
   {
    "duration": 13200,
    "start_time": "2023-06-06T17:31:44.372Z"
   },
   {
    "duration": 18212,
    "start_time": "2023-06-06T17:31:57.574Z"
   },
   {
    "duration": 290,
    "start_time": "2023-06-06T17:32:15.788Z"
   },
   {
    "duration": 7,
    "start_time": "2023-06-06T17:32:16.080Z"
   },
   {
    "duration": 75,
    "start_time": "2023-06-06T17:32:16.090Z"
   },
   {
    "duration": 13,
    "start_time": "2023-06-06T17:32:16.168Z"
   },
   {
    "duration": 58,
    "start_time": "2023-06-06T17:32:16.185Z"
   },
   {
    "duration": 27,
    "start_time": "2023-06-06T17:32:16.245Z"
   },
   {
    "duration": 313,
    "start_time": "2023-06-06T17:32:16.274Z"
   },
   {
    "duration": 0,
    "start_time": "2023-06-06T17:32:16.589Z"
   },
   {
    "duration": 0,
    "start_time": "2023-06-06T17:32:16.590Z"
   },
   {
    "duration": 0,
    "start_time": "2023-06-06T17:32:16.591Z"
   },
   {
    "duration": 0,
    "start_time": "2023-06-06T17:32:16.592Z"
   },
   {
    "duration": 0,
    "start_time": "2023-06-06T17:32:16.594Z"
   },
   {
    "duration": 0,
    "start_time": "2023-06-06T17:32:16.594Z"
   },
   {
    "duration": 0,
    "start_time": "2023-06-06T17:32:16.595Z"
   },
   {
    "duration": 458,
    "start_time": "2023-06-06T17:38:19.683Z"
   },
   {
    "duration": 322,
    "start_time": "2023-06-06T17:38:20.154Z"
   },
   {
    "duration": 18296,
    "start_time": "2023-06-06T17:38:20.478Z"
   },
   {
    "duration": 12191,
    "start_time": "2023-06-06T17:38:38.778Z"
   },
   {
    "duration": 18620,
    "start_time": "2023-06-06T17:38:50.971Z"
   },
   {
    "duration": 225,
    "start_time": "2023-06-06T17:39:09.642Z"
   },
   {
    "duration": 8,
    "start_time": "2023-06-06T17:39:09.870Z"
   },
   {
    "duration": 89,
    "start_time": "2023-06-06T17:39:09.880Z"
   },
   {
    "duration": 11,
    "start_time": "2023-06-06T17:39:09.971Z"
   },
   {
    "duration": 80,
    "start_time": "2023-06-06T17:39:09.985Z"
   },
   {
    "duration": 15,
    "start_time": "2023-06-06T17:39:10.067Z"
   },
   {
    "duration": 19490,
    "start_time": "2023-06-06T17:39:10.084Z"
   },
   {
    "duration": 5,
    "start_time": "2023-06-06T17:39:29.577Z"
   },
   {
    "duration": 84,
    "start_time": "2023-06-06T17:39:29.642Z"
   },
   {
    "duration": 0,
    "start_time": "2023-06-06T17:39:29.742Z"
   },
   {
    "duration": 0,
    "start_time": "2023-06-06T17:39:29.742Z"
   },
   {
    "duration": 0,
    "start_time": "2023-06-06T17:39:29.743Z"
   },
   {
    "duration": 0,
    "start_time": "2023-06-06T17:39:29.744Z"
   },
   {
    "duration": 0,
    "start_time": "2023-06-06T17:39:29.745Z"
   },
   {
    "duration": 561,
    "start_time": "2023-06-06T17:43:49.672Z"
   },
   {
    "duration": 357,
    "start_time": "2023-06-06T17:43:50.236Z"
   },
   {
    "duration": 18474,
    "start_time": "2023-06-06T17:43:50.596Z"
   },
   {
    "duration": 14305,
    "start_time": "2023-06-06T17:44:09.072Z"
   },
   {
    "duration": 17211,
    "start_time": "2023-06-06T17:44:23.380Z"
   },
   {
    "duration": 247,
    "start_time": "2023-06-06T17:44:40.642Z"
   },
   {
    "duration": 86,
    "start_time": "2023-06-06T17:44:40.892Z"
   },
   {
    "duration": 93,
    "start_time": "2023-06-06T17:44:40.981Z"
   },
   {
    "duration": 268,
    "start_time": "2023-06-06T17:44:41.076Z"
   },
   {
    "duration": 1,
    "start_time": "2023-06-06T17:44:41.346Z"
   },
   {
    "duration": 473,
    "start_time": "2023-06-06T17:45:47.516Z"
   },
   {
    "duration": 310,
    "start_time": "2023-06-06T17:45:47.991Z"
   },
   {
    "duration": 17874,
    "start_time": "2023-06-06T17:45:48.304Z"
   },
   {
    "duration": 11394,
    "start_time": "2023-06-06T17:46:06.181Z"
   },
   {
    "duration": 17483,
    "start_time": "2023-06-06T17:46:17.578Z"
   },
   {
    "duration": 193,
    "start_time": "2023-06-06T17:46:35.062Z"
   },
   {
    "duration": 98,
    "start_time": "2023-06-06T17:46:35.257Z"
   },
   {
    "duration": 88,
    "start_time": "2023-06-06T17:46:35.357Z"
   },
   {
    "duration": 16222,
    "start_time": "2023-06-06T17:46:35.450Z"
   },
   {
    "duration": 217,
    "start_time": "2023-06-06T17:46:51.674Z"
   },
   {
    "duration": 2410,
    "start_time": "2023-06-06T17:49:46.240Z"
   },
   {
    "duration": 486,
    "start_time": "2023-06-07T10:16:03.754Z"
   },
   {
    "duration": 317,
    "start_time": "2023-06-07T10:16:04.455Z"
   },
   {
    "duration": 18905,
    "start_time": "2023-06-07T10:16:05.971Z"
   },
   {
    "duration": 10594,
    "start_time": "2023-06-07T10:16:30.693Z"
   },
   {
    "duration": 156,
    "start_time": "2023-06-07T10:18:54.458Z"
   },
   {
    "duration": 116,
    "start_time": "2023-06-07T10:19:05.448Z"
   },
   {
    "duration": 9764,
    "start_time": "2023-06-07T10:20:55.910Z"
   },
   {
    "duration": 3520,
    "start_time": "2023-06-07T10:22:10.166Z"
   },
   {
    "duration": 3217,
    "start_time": "2023-06-07T10:26:36.668Z"
   },
   {
    "duration": 5,
    "start_time": "2023-06-07T10:26:52.183Z"
   },
   {
    "duration": 27,
    "start_time": "2023-06-07T10:28:49.308Z"
   },
   {
    "duration": 14,
    "start_time": "2023-06-07T10:29:33.195Z"
   },
   {
    "duration": 15,
    "start_time": "2023-06-07T10:31:36.259Z"
   },
   {
    "duration": 15,
    "start_time": "2023-06-07T10:31:54.785Z"
   },
   {
    "duration": 5,
    "start_time": "2023-06-07T10:33:30.559Z"
   },
   {
    "duration": 5,
    "start_time": "2023-06-07T10:33:44.120Z"
   },
   {
    "duration": 5,
    "start_time": "2023-06-07T10:34:35.746Z"
   },
   {
    "duration": 6,
    "start_time": "2023-06-07T10:34:48.852Z"
   },
   {
    "duration": 23,
    "start_time": "2023-06-07T10:35:12.485Z"
   },
   {
    "duration": 14,
    "start_time": "2023-06-07T10:37:29.516Z"
   },
   {
    "duration": 35,
    "start_time": "2023-06-07T10:37:50.951Z"
   },
   {
    "duration": 43,
    "start_time": "2023-06-07T10:38:16.811Z"
   },
   {
    "duration": 5,
    "start_time": "2023-06-07T10:40:12.485Z"
   },
   {
    "duration": 8,
    "start_time": "2023-06-07T10:40:38.285Z"
   },
   {
    "duration": 19,
    "start_time": "2023-06-07T10:40:45.410Z"
   },
   {
    "duration": 46,
    "start_time": "2023-06-07T10:41:20.649Z"
   },
   {
    "duration": 10,
    "start_time": "2023-06-07T10:41:26.274Z"
   },
   {
    "duration": 20,
    "start_time": "2023-06-07T10:41:37.885Z"
   },
   {
    "duration": 28,
    "start_time": "2023-06-07T10:44:36.652Z"
   },
   {
    "duration": 8,
    "start_time": "2023-06-07T10:44:43.486Z"
   },
   {
    "duration": 16,
    "start_time": "2023-06-07T10:44:48.586Z"
   },
   {
    "duration": 5,
    "start_time": "2023-06-07T10:47:25.562Z"
   },
   {
    "duration": 9,
    "start_time": "2023-06-07T10:47:31.161Z"
   },
   {
    "duration": 15,
    "start_time": "2023-06-07T10:47:39.462Z"
   },
   {
    "duration": 8,
    "start_time": "2023-06-07T10:48:23.954Z"
   },
   {
    "duration": 8,
    "start_time": "2023-06-07T10:48:40.088Z"
   },
   {
    "duration": 6,
    "start_time": "2023-06-07T10:49:07.162Z"
   },
   {
    "duration": 8,
    "start_time": "2023-06-07T10:49:25.187Z"
   },
   {
    "duration": 68,
    "start_time": "2023-06-07T17:23:51.399Z"
   },
   {
    "duration": 929,
    "start_time": "2023-06-07T17:23:58.242Z"
   },
   {
    "duration": 149,
    "start_time": "2023-06-07T17:24:52.728Z"
   },
   {
    "duration": 655,
    "start_time": "2023-06-07T17:25:08.928Z"
   },
   {
    "duration": 514,
    "start_time": "2023-06-07T17:28:31.391Z"
   },
   {
    "duration": 339,
    "start_time": "2023-06-07T17:28:31.908Z"
   },
   {
    "duration": 23639,
    "start_time": "2023-06-07T17:28:32.249Z"
   },
   {
    "duration": 12718,
    "start_time": "2023-06-07T17:28:55.891Z"
   },
   {
    "duration": 16187,
    "start_time": "2023-06-07T17:29:08.611Z"
   },
   {
    "duration": 276,
    "start_time": "2023-06-07T17:29:24.801Z"
   },
   {
    "duration": 184,
    "start_time": "2023-06-07T17:29:25.079Z"
   },
   {
    "duration": 102,
    "start_time": "2023-06-07T17:29:25.265Z"
   },
   {
    "duration": 14,
    "start_time": "2023-06-07T17:29:25.369Z"
   },
   {
    "duration": 18982,
    "start_time": "2023-06-07T17:29:25.385Z"
   },
   {
    "duration": 2229,
    "start_time": "2023-06-07T17:29:44.369Z"
   },
   {
    "duration": 422,
    "start_time": "2023-06-07T17:45:43.126Z"
   },
   {
    "duration": 322,
    "start_time": "2023-06-07T17:45:43.550Z"
   },
   {
    "duration": 17425,
    "start_time": "2023-06-07T17:45:43.873Z"
   },
   {
    "duration": 11512,
    "start_time": "2023-06-07T17:46:01.301Z"
   },
   {
    "duration": 18368,
    "start_time": "2023-06-07T17:46:12.815Z"
   },
   {
    "duration": 302,
    "start_time": "2023-06-07T17:46:31.194Z"
   },
   {
    "duration": 117,
    "start_time": "2023-06-07T17:46:31.499Z"
   },
   {
    "duration": 94,
    "start_time": "2023-06-07T17:46:31.618Z"
   },
   {
    "duration": 58,
    "start_time": "2023-06-07T17:46:31.714Z"
   },
   {
    "duration": 20354,
    "start_time": "2023-06-07T17:46:31.775Z"
   },
   {
    "duration": 3599,
    "start_time": "2023-06-07T17:46:52.169Z"
   },
   {
    "duration": 451,
    "start_time": "2023-06-07T17:51:58.322Z"
   },
   {
    "duration": 334,
    "start_time": "2023-06-07T17:51:58.780Z"
   },
   {
    "duration": 17166,
    "start_time": "2023-06-07T17:51:59.116Z"
   },
   {
    "duration": 11498,
    "start_time": "2023-06-07T17:52:16.285Z"
   },
   {
    "duration": 16776,
    "start_time": "2023-06-07T17:52:27.786Z"
   },
   {
    "duration": 204,
    "start_time": "2023-06-07T17:52:44.565Z"
   },
   {
    "duration": 135,
    "start_time": "2023-06-07T17:52:44.777Z"
   },
   {
    "duration": 75,
    "start_time": "2023-06-07T17:52:44.914Z"
   },
   {
    "duration": 25,
    "start_time": "2023-06-07T17:52:44.996Z"
   },
   {
    "duration": 20781,
    "start_time": "2023-06-07T17:52:45.023Z"
   },
   {
    "duration": 3797,
    "start_time": "2023-06-07T17:53:05.806Z"
   },
   {
    "duration": 435,
    "start_time": "2023-06-07T17:54:33.584Z"
   },
   {
    "duration": 288,
    "start_time": "2023-06-07T17:54:34.021Z"
   },
   {
    "duration": 17666,
    "start_time": "2023-06-07T17:54:34.314Z"
   },
   {
    "duration": 11517,
    "start_time": "2023-06-07T17:54:51.982Z"
   },
   {
    "duration": 18209,
    "start_time": "2023-06-07T17:55:03.502Z"
   },
   {
    "duration": 256,
    "start_time": "2023-06-07T17:55:21.713Z"
   },
   {
    "duration": 187,
    "start_time": "2023-06-07T17:55:21.978Z"
   },
   {
    "duration": 117,
    "start_time": "2023-06-07T17:55:22.174Z"
   },
   {
    "duration": 18,
    "start_time": "2023-06-07T17:55:22.293Z"
   },
   {
    "duration": 21306,
    "start_time": "2023-06-07T17:55:22.313Z"
   },
   {
    "duration": 3121,
    "start_time": "2023-06-07T17:55:43.656Z"
   },
   {
    "duration": 589,
    "start_time": "2023-06-07T18:01:38.600Z"
   },
   {
    "duration": 337,
    "start_time": "2023-06-07T18:01:39.192Z"
   },
   {
    "duration": 19381,
    "start_time": "2023-06-07T18:01:39.532Z"
   },
   {
    "duration": 13892,
    "start_time": "2023-06-07T18:01:58.915Z"
   },
   {
    "duration": 18607,
    "start_time": "2023-06-07T18:02:12.810Z"
   },
   {
    "duration": 240,
    "start_time": "2023-06-07T18:02:31.419Z"
   },
   {
    "duration": 135,
    "start_time": "2023-06-07T18:02:31.662Z"
   },
   {
    "duration": 0,
    "start_time": "2023-06-07T18:02:31.802Z"
   },
   {
    "duration": 0,
    "start_time": "2023-06-07T18:02:31.803Z"
   },
   {
    "duration": 0,
    "start_time": "2023-06-07T18:02:31.808Z"
   },
   {
    "duration": 0,
    "start_time": "2023-06-07T18:02:31.810Z"
   },
   {
    "duration": 0,
    "start_time": "2023-06-07T18:02:31.811Z"
   },
   {
    "duration": 29,
    "start_time": "2023-06-07T18:02:54.589Z"
   },
   {
    "duration": 9160,
    "start_time": "2023-06-07T18:03:11.234Z"
   },
   {
    "duration": 5359,
    "start_time": "2023-06-07T18:03:35.600Z"
   },
   {
    "duration": 501,
    "start_time": "2023-06-07T18:07:14.219Z"
   },
   {
    "duration": 354,
    "start_time": "2023-06-07T18:07:14.723Z"
   },
   {
    "duration": 19394,
    "start_time": "2023-06-07T18:07:15.080Z"
   },
   {
    "duration": 13003,
    "start_time": "2023-06-07T18:07:34.476Z"
   },
   {
    "duration": 22383,
    "start_time": "2023-06-07T18:07:47.482Z"
   },
   {
    "duration": 312,
    "start_time": "2023-06-07T18:08:09.866Z"
   },
   {
    "duration": 11490,
    "start_time": "2023-06-07T18:08:10.201Z"
   },
   {
    "duration": 272,
    "start_time": "2023-06-07T18:08:21.693Z"
   },
   {
    "duration": 53,
    "start_time": "2023-06-07T18:08:21.967Z"
   },
   {
    "duration": 44,
    "start_time": "2023-06-07T18:08:22.024Z"
   },
   {
    "duration": 22506,
    "start_time": "2023-06-07T18:08:22.073Z"
   },
   {
    "duration": 4293,
    "start_time": "2023-06-07T18:08:44.581Z"
   },
   {
    "duration": 127,
    "start_time": "2023-06-07T18:11:48.755Z"
   },
   {
    "duration": 286,
    "start_time": "2023-06-07T18:12:04.809Z"
   },
   {
    "duration": 460,
    "start_time": "2023-06-07T18:12:47.707Z"
   },
   {
    "duration": 3791,
    "start_time": "2023-06-07T18:13:25.094Z"
   },
   {
    "duration": 1118,
    "start_time": "2023-06-07T18:14:24.884Z"
   },
   {
    "duration": 1065,
    "start_time": "2023-06-07T18:15:38.730Z"
   },
   {
    "duration": 1091,
    "start_time": "2023-06-07T18:18:38.991Z"
   },
   {
    "duration": 753,
    "start_time": "2023-06-07T18:20:36.529Z"
   },
   {
    "duration": 1070,
    "start_time": "2023-06-07T18:24:31.654Z"
   },
   {
    "duration": 34,
    "start_time": "2023-06-07T18:24:47.313Z"
   },
   {
    "duration": 641,
    "start_time": "2023-06-07T18:26:15.400Z"
   },
   {
    "duration": 425,
    "start_time": "2023-06-08T02:42:34.344Z"
   },
   {
    "duration": 296,
    "start_time": "2023-06-08T02:42:36.391Z"
   },
   {
    "duration": 14431,
    "start_time": "2023-06-08T02:42:37.468Z"
   },
   {
    "duration": 7868,
    "start_time": "2023-06-08T02:43:04.809Z"
   },
   {
    "duration": 126,
    "start_time": "2023-06-08T02:43:18.067Z"
   },
   {
    "duration": 15085,
    "start_time": "2023-06-08T02:43:28.375Z"
   },
   {
    "duration": 396,
    "start_time": "2023-06-08T02:58:58.215Z"
   },
   {
    "duration": 291,
    "start_time": "2023-06-08T02:58:58.613Z"
   },
   {
    "duration": 14986,
    "start_time": "2023-06-08T02:58:58.906Z"
   },
   {
    "duration": 8896,
    "start_time": "2023-06-08T02:59:13.895Z"
   },
   {
    "duration": 12717,
    "start_time": "2023-06-08T02:59:22.856Z"
   },
   {
    "duration": 198,
    "start_time": "2023-06-08T02:59:35.575Z"
   },
   {
    "duration": 7295,
    "start_time": "2023-06-08T02:59:35.775Z"
   },
   {
    "duration": 108,
    "start_time": "2023-06-08T02:59:43.071Z"
   },
   {
    "duration": 186,
    "start_time": "2023-06-08T02:59:43.181Z"
   },
   {
    "duration": 29,
    "start_time": "2023-06-08T02:59:43.370Z"
   },
   {
    "duration": 68,
    "start_time": "2023-06-08T02:59:43.401Z"
   },
   {
    "duration": 14614,
    "start_time": "2023-06-08T02:59:43.471Z"
   },
   {
    "duration": 6080,
    "start_time": "2023-06-08T02:59:58.087Z"
   },
   {
    "duration": 121,
    "start_time": "2023-06-08T03:00:04.168Z"
   },
   {
    "duration": 0,
    "start_time": "2023-06-08T03:00:04.291Z"
   },
   {
    "duration": 1989,
    "start_time": "2023-06-08T03:00:31.783Z"
   },
   {
    "duration": 4,
    "start_time": "2023-06-08T03:00:36.543Z"
   },
   {
    "duration": 432,
    "start_time": "2023-06-08T03:01:42.761Z"
   },
   {
    "duration": 304,
    "start_time": "2023-06-08T03:01:43.195Z"
   },
   {
    "duration": 14970,
    "start_time": "2023-06-08T03:01:43.501Z"
   },
   {
    "duration": 8514,
    "start_time": "2023-06-08T03:01:58.473Z"
   },
   {
    "duration": 13471,
    "start_time": "2023-06-08T03:02:06.990Z"
   },
   {
    "duration": 199,
    "start_time": "2023-06-08T03:02:20.463Z"
   },
   {
    "duration": 7031,
    "start_time": "2023-06-08T03:02:20.664Z"
   },
   {
    "duration": 36,
    "start_time": "2023-06-08T03:02:27.756Z"
   },
   {
    "duration": 106,
    "start_time": "2023-06-08T03:02:27.794Z"
   },
   {
    "duration": 25,
    "start_time": "2023-06-08T03:02:27.958Z"
   },
   {
    "duration": 16,
    "start_time": "2023-06-08T03:02:27.984Z"
   },
   {
    "duration": 15206,
    "start_time": "2023-06-08T03:02:28.002Z"
   },
   {
    "duration": 0,
    "start_time": "2023-06-08T03:02:43.210Z"
   },
   {
    "duration": 0,
    "start_time": "2023-06-08T03:02:43.211Z"
   },
   {
    "duration": 0,
    "start_time": "2023-06-08T03:02:43.212Z"
   },
   {
    "duration": 446,
    "start_time": "2023-06-08T03:03:32.233Z"
   },
   {
    "duration": 312,
    "start_time": "2023-06-08T03:03:32.681Z"
   },
   {
    "duration": 14899,
    "start_time": "2023-06-08T03:03:32.995Z"
   },
   {
    "duration": 9279,
    "start_time": "2023-06-08T03:03:47.897Z"
   },
   {
    "duration": 13080,
    "start_time": "2023-06-08T03:03:57.178Z"
   },
   {
    "duration": 213,
    "start_time": "2023-06-08T03:04:10.260Z"
   },
   {
    "duration": 7010,
    "start_time": "2023-06-08T03:04:10.475Z"
   },
   {
    "duration": 112,
    "start_time": "2023-06-08T03:04:17.486Z"
   },
   {
    "duration": 188,
    "start_time": "2023-06-08T03:04:17.600Z"
   },
   {
    "duration": 83,
    "start_time": "2023-06-08T03:04:17.791Z"
   },
   {
    "duration": 15,
    "start_time": "2023-06-08T03:04:17.876Z"
   },
   {
    "duration": 15682,
    "start_time": "2023-06-08T03:04:17.893Z"
   },
   {
    "duration": 0,
    "start_time": "2023-06-08T03:04:33.578Z"
   },
   {
    "duration": 0,
    "start_time": "2023-06-08T03:04:33.579Z"
   },
   {
    "duration": 0,
    "start_time": "2023-06-08T03:04:33.580Z"
   },
   {
    "duration": 431,
    "start_time": "2023-06-08T03:05:45.731Z"
   },
   {
    "duration": 247,
    "start_time": "2023-06-08T03:05:46.164Z"
   },
   {
    "duration": 14765,
    "start_time": "2023-06-08T03:05:46.413Z"
   },
   {
    "duration": 9093,
    "start_time": "2023-06-08T03:06:01.181Z"
   },
   {
    "duration": 12804,
    "start_time": "2023-06-08T03:06:10.276Z"
   },
   {
    "duration": 206,
    "start_time": "2023-06-08T03:06:23.082Z"
   },
   {
    "duration": 6669,
    "start_time": "2023-06-08T03:06:23.290Z"
   },
   {
    "duration": 38,
    "start_time": "2023-06-08T03:06:29.961Z"
   },
   {
    "duration": 119,
    "start_time": "2023-06-08T03:06:30.057Z"
   },
   {
    "duration": 81,
    "start_time": "2023-06-08T03:06:30.179Z"
   },
   {
    "duration": 14,
    "start_time": "2023-06-08T03:06:30.262Z"
   },
   {
    "duration": 268,
    "start_time": "2023-06-08T03:06:30.277Z"
   },
   {
    "duration": 0,
    "start_time": "2023-06-08T03:06:30.547Z"
   },
   {
    "duration": 0,
    "start_time": "2023-06-08T03:06:30.548Z"
   },
   {
    "duration": 0,
    "start_time": "2023-06-08T03:06:30.549Z"
   },
   {
    "duration": 432,
    "start_time": "2023-06-08T03:08:59.752Z"
   },
   {
    "duration": 313,
    "start_time": "2023-06-08T03:09:00.186Z"
   },
   {
    "duration": 14880,
    "start_time": "2023-06-08T03:09:00.501Z"
   },
   {
    "duration": 8906,
    "start_time": "2023-06-08T03:09:15.383Z"
   },
   {
    "duration": 12298,
    "start_time": "2023-06-08T03:09:24.291Z"
   },
   {
    "duration": 50,
    "start_time": "2023-06-08T03:09:36.590Z"
   },
   {
    "duration": 0,
    "start_time": "2023-06-08T03:09:36.642Z"
   },
   {
    "duration": 0,
    "start_time": "2023-06-08T03:09:36.643Z"
   },
   {
    "duration": 0,
    "start_time": "2023-06-08T03:09:36.644Z"
   },
   {
    "duration": 0,
    "start_time": "2023-06-08T03:09:36.645Z"
   },
   {
    "duration": 0,
    "start_time": "2023-06-08T03:09:36.646Z"
   },
   {
    "duration": 0,
    "start_time": "2023-06-08T03:09:36.647Z"
   },
   {
    "duration": 0,
    "start_time": "2023-06-08T03:09:36.657Z"
   },
   {
    "duration": 0,
    "start_time": "2023-06-08T03:09:36.658Z"
   },
   {
    "duration": 0,
    "start_time": "2023-06-08T03:09:36.658Z"
   },
   {
    "duration": 426,
    "start_time": "2023-06-08T03:10:45.623Z"
   },
   {
    "duration": 258,
    "start_time": "2023-06-08T03:10:46.051Z"
   },
   {
    "duration": 14886,
    "start_time": "2023-06-08T03:10:46.310Z"
   },
   {
    "duration": 8792,
    "start_time": "2023-06-08T03:11:01.197Z"
   },
   {
    "duration": 13067,
    "start_time": "2023-06-08T03:11:09.991Z"
   },
   {
    "duration": 525,
    "start_time": "2023-06-08T03:11:23.060Z"
   },
   {
    "duration": 7277,
    "start_time": "2023-06-08T03:11:23.586Z"
   },
   {
    "duration": 106,
    "start_time": "2023-06-08T03:11:30.865Z"
   },
   {
    "duration": 193,
    "start_time": "2023-06-08T03:11:30.974Z"
   },
   {
    "duration": 25,
    "start_time": "2023-06-08T03:11:31.169Z"
   },
   {
    "duration": 15,
    "start_time": "2023-06-08T03:11:31.258Z"
   },
   {
    "duration": 18725,
    "start_time": "2023-06-08T03:11:31.275Z"
   },
   {
    "duration": 7862,
    "start_time": "2023-06-08T03:11:50.001Z"
   },
   {
    "duration": 4,
    "start_time": "2023-06-08T03:11:57.865Z"
   },
   {
    "duration": 127,
    "start_time": "2023-06-08T03:11:57.870Z"
   },
   {
    "duration": 19,
    "start_time": "2023-06-08T03:15:05.490Z"
   },
   {
    "duration": 66,
    "start_time": "2023-06-08T03:15:52.793Z"
   },
   {
    "duration": 9,
    "start_time": "2023-06-08T03:15:59.968Z"
   },
   {
    "duration": 3836,
    "start_time": "2023-06-08T03:16:08.526Z"
   },
   {
    "duration": 3,
    "start_time": "2023-06-08T03:16:17.092Z"
   },
   {
    "duration": 326,
    "start_time": "2023-06-08T03:16:24.039Z"
   },
   {
    "duration": 13,
    "start_time": "2023-06-08T03:17:19.576Z"
   },
   {
    "duration": 14,
    "start_time": "2023-06-08T03:19:30.399Z"
   },
   {
    "duration": 14,
    "start_time": "2023-06-08T03:20:24.149Z"
   },
   {
    "duration": 4,
    "start_time": "2023-06-08T03:21:53.199Z"
   },
   {
    "duration": 15,
    "start_time": "2023-06-08T03:22:00.049Z"
   },
   {
    "duration": 2063,
    "start_time": "2023-06-08T03:23:03.124Z"
   },
   {
    "duration": 391,
    "start_time": "2023-06-08T03:27:09.102Z"
   },
   {
    "duration": 307,
    "start_time": "2023-06-08T03:27:09.495Z"
   },
   {
    "duration": 15458,
    "start_time": "2023-06-08T03:27:09.807Z"
   },
   {
    "duration": 8995,
    "start_time": "2023-06-08T03:27:25.267Z"
   },
   {
    "duration": 12829,
    "start_time": "2023-06-08T03:27:34.264Z"
   },
   {
    "duration": 500,
    "start_time": "2023-06-08T03:27:47.094Z"
   },
   {
    "duration": 7064,
    "start_time": "2023-06-08T03:27:47.596Z"
   },
   {
    "duration": 33,
    "start_time": "2023-06-08T03:27:54.662Z"
   },
   {
    "duration": 127,
    "start_time": "2023-06-08T03:27:54.758Z"
   },
   {
    "duration": 81,
    "start_time": "2023-06-08T03:27:54.887Z"
   },
   {
    "duration": 14,
    "start_time": "2023-06-08T03:27:54.970Z"
   },
   {
    "duration": 8706,
    "start_time": "2023-06-08T03:27:54.986Z"
   },
   {
    "duration": 0,
    "start_time": "2023-06-08T03:28:03.694Z"
   },
   {
    "duration": 0,
    "start_time": "2023-06-08T03:28:03.696Z"
   },
   {
    "duration": 0,
    "start_time": "2023-06-08T03:28:03.697Z"
   },
   {
    "duration": 0,
    "start_time": "2023-06-08T03:28:03.698Z"
   },
   {
    "duration": 2430,
    "start_time": "2023-06-08T03:31:34.247Z"
   },
   {
    "duration": 27,
    "start_time": "2023-06-08T03:32:20.022Z"
   },
   {
    "duration": 10,
    "start_time": "2023-06-08T03:32:30.322Z"
   },
   {
    "duration": 444,
    "start_time": "2023-06-08T03:32:58.647Z"
   },
   {
    "duration": 12,
    "start_time": "2023-06-08T03:35:26.323Z"
   },
   {
    "duration": 12,
    "start_time": "2023-06-08T03:35:30.998Z"
   },
   {
    "duration": 285,
    "start_time": "2023-06-08T03:36:55.372Z"
   },
   {
    "duration": 7,
    "start_time": "2023-06-08T03:38:17.448Z"
   },
   {
    "duration": 264,
    "start_time": "2023-06-08T03:38:44.923Z"
   },
   {
    "duration": 270,
    "start_time": "2023-06-08T03:39:44.499Z"
   },
   {
    "duration": 311,
    "start_time": "2023-06-08T03:41:18.347Z"
   },
   {
    "duration": 1513,
    "start_time": "2023-06-08T03:42:52.945Z"
   },
   {
    "duration": 431,
    "start_time": "2023-06-08T03:43:06.142Z"
   },
   {
    "duration": 320,
    "start_time": "2023-06-08T03:43:06.576Z"
   },
   {
    "duration": 14888,
    "start_time": "2023-06-08T03:43:06.897Z"
   },
   {
    "duration": 8502,
    "start_time": "2023-06-08T03:43:21.787Z"
   },
   {
    "duration": 13090,
    "start_time": "2023-06-08T03:43:30.291Z"
   },
   {
    "duration": 506,
    "start_time": "2023-06-08T03:43:43.383Z"
   },
   {
    "duration": 6680,
    "start_time": "2023-06-08T03:43:43.891Z"
   },
   {
    "duration": 101,
    "start_time": "2023-06-08T03:43:50.572Z"
   },
   {
    "duration": 120,
    "start_time": "2023-06-08T03:43:50.675Z"
   },
   {
    "duration": 25,
    "start_time": "2023-06-08T03:43:50.858Z"
   },
   {
    "duration": 15,
    "start_time": "2023-06-08T03:43:50.884Z"
   },
   {
    "duration": 24891,
    "start_time": "2023-06-08T03:43:50.901Z"
   },
   {
    "duration": 0,
    "start_time": "2023-06-08T03:44:15.794Z"
   },
   {
    "duration": 0,
    "start_time": "2023-06-08T03:44:15.795Z"
   },
   {
    "duration": 0,
    "start_time": "2023-06-08T03:44:15.796Z"
   },
   {
    "duration": 0,
    "start_time": "2023-06-08T03:44:15.797Z"
   },
   {
    "duration": 0,
    "start_time": "2023-06-08T03:44:15.798Z"
   },
   {
    "duration": 296,
    "start_time": "2023-06-08T03:45:27.703Z"
   },
   {
    "duration": 19,
    "start_time": "2023-06-08T03:45:49.829Z"
   },
   {
    "duration": 5,
    "start_time": "2023-06-08T03:46:07.979Z"
   },
   {
    "duration": 9,
    "start_time": "2023-06-08T03:46:39.104Z"
   },
   {
    "duration": 27,
    "start_time": "2023-06-08T03:46:47.779Z"
   },
   {
    "duration": 24,
    "start_time": "2023-06-08T03:49:11.980Z"
   },
   {
    "duration": 3440,
    "start_time": "2023-06-08T03:49:22.640Z"
   },
   {
    "duration": 5,
    "start_time": "2023-06-08T03:49:28.799Z"
   },
   {
    "duration": 28,
    "start_time": "2023-06-08T04:39:56.452Z"
   },
   {
    "duration": 12,
    "start_time": "2023-06-09T12:20:21.867Z"
   },
   {
    "duration": 9,
    "start_time": "2023-06-09T12:21:14.966Z"
   },
   {
    "duration": 606,
    "start_time": "2023-06-09T12:21:23.823Z"
   },
   {
    "duration": 60,
    "start_time": "2023-06-09T12:23:12.578Z"
   },
   {
    "duration": 46,
    "start_time": "2023-06-09T12:24:18.599Z"
   },
   {
    "duration": 37,
    "start_time": "2023-06-09T12:24:44.024Z"
   },
   {
    "duration": 925,
    "start_time": "2023-06-09T12:25:04.643Z"
   },
   {
    "duration": 53,
    "start_time": "2023-06-09T12:28:06.602Z"
   },
   {
    "duration": 17,
    "start_time": "2023-06-09T12:28:15.950Z"
   },
   {
    "duration": 591,
    "start_time": "2023-06-09T12:28:30.795Z"
   },
   {
    "duration": 796,
    "start_time": "2023-06-09T12:30:43.682Z"
   },
   {
    "duration": 863,
    "start_time": "2023-06-09T12:31:22.577Z"
   },
   {
    "duration": 54,
    "start_time": "2023-06-09T12:35:17.202Z"
   },
   {
    "duration": 108,
    "start_time": "2023-06-09T12:35:35.892Z"
   },
   {
    "duration": 39,
    "start_time": "2023-06-09T12:36:09.230Z"
   },
   {
    "duration": 979,
    "start_time": "2023-06-09T12:36:11.592Z"
   },
   {
    "duration": 100,
    "start_time": "2023-06-09T12:37:25.473Z"
   },
   {
    "duration": 65,
    "start_time": "2023-06-09T12:37:35.991Z"
   },
   {
    "duration": 1024,
    "start_time": "2023-06-09T12:38:05.253Z"
   },
   {
    "duration": 50,
    "start_time": "2023-06-09T12:39:01.518Z"
   },
   {
    "duration": 1077,
    "start_time": "2023-06-09T12:39:32.083Z"
   },
   {
    "duration": 729,
    "start_time": "2023-06-09T12:40:25.583Z"
   },
   {
    "duration": 1062,
    "start_time": "2023-06-09T12:42:37.216Z"
   },
   {
    "duration": 725,
    "start_time": "2023-06-09T12:43:39.275Z"
   },
   {
    "duration": 41,
    "start_time": "2023-06-09T12:46:50.817Z"
   },
   {
    "duration": 721,
    "start_time": "2023-06-09T12:46:53.959Z"
   },
   {
    "duration": 38,
    "start_time": "2023-06-09T12:47:35.176Z"
   },
   {
    "duration": 741,
    "start_time": "2023-06-09T12:47:36.044Z"
   },
   {
    "duration": 421,
    "start_time": "2023-06-09T13:01:05.690Z"
   },
   {
    "duration": 294,
    "start_time": "2023-06-09T13:01:06.113Z"
   },
   {
    "duration": 15668,
    "start_time": "2023-06-09T13:01:06.409Z"
   },
   {
    "duration": 8986,
    "start_time": "2023-06-09T13:01:22.079Z"
   },
   {
    "duration": 13514,
    "start_time": "2023-06-09T13:01:31.068Z"
   },
   {
    "duration": 587,
    "start_time": "2023-06-09T13:01:44.584Z"
   },
   {
    "duration": 7009,
    "start_time": "2023-06-09T13:01:45.173Z"
   },
   {
    "duration": 4,
    "start_time": "2023-06-09T13:01:52.184Z"
   },
   {
    "duration": 4725,
    "start_time": "2023-06-09T13:01:52.190Z"
   },
   {
    "duration": 60,
    "start_time": "2023-06-09T13:01:56.917Z"
   },
   {
    "duration": 1109,
    "start_time": "2023-06-09T13:01:56.979Z"
   },
   {
    "duration": 1567,
    "start_time": "2023-06-09T13:01:58.090Z"
   },
   {
    "duration": 27,
    "start_time": "2023-06-09T13:01:59.659Z"
   },
   {
    "duration": 8,
    "start_time": "2023-06-09T13:01:59.689Z"
   },
   {
    "duration": 144,
    "start_time": "2023-06-09T13:01:59.698Z"
   },
   {
    "duration": 0,
    "start_time": "2023-06-09T13:01:59.843Z"
   },
   {
    "duration": 0,
    "start_time": "2023-06-09T13:01:59.844Z"
   },
   {
    "duration": 14,
    "start_time": "2023-06-09T13:03:14.415Z"
   },
   {
    "duration": 10,
    "start_time": "2023-06-09T13:04:35.835Z"
   },
   {
    "duration": 11,
    "start_time": "2023-06-09T13:04:41.530Z"
   },
   {
    "duration": 8702,
    "start_time": "2023-06-09T13:05:02.636Z"
   },
   {
    "duration": 17834,
    "start_time": "2023-06-09T13:05:49.326Z"
   },
   {
    "duration": 3924,
    "start_time": "2023-06-09T13:06:21.368Z"
   },
   {
    "duration": 5,
    "start_time": "2023-06-09T13:06:31.089Z"
   },
   {
    "duration": 456,
    "start_time": "2023-06-09T13:09:53.141Z"
   },
   {
    "duration": 307,
    "start_time": "2023-06-09T13:09:53.600Z"
   },
   {
    "duration": 15688,
    "start_time": "2023-06-09T13:09:53.911Z"
   },
   {
    "duration": 9177,
    "start_time": "2023-06-09T13:10:09.601Z"
   },
   {
    "duration": 14677,
    "start_time": "2023-06-09T13:10:18.780Z"
   },
   {
    "duration": 611,
    "start_time": "2023-06-09T13:10:33.459Z"
   },
   {
    "duration": 7508,
    "start_time": "2023-06-09T13:10:34.072Z"
   },
   {
    "duration": 76,
    "start_time": "2023-06-09T13:10:41.582Z"
   },
   {
    "duration": 3416,
    "start_time": "2023-06-09T13:10:41.661Z"
   },
   {
    "duration": 92,
    "start_time": "2023-06-09T13:10:45.079Z"
   },
   {
    "duration": 852,
    "start_time": "2023-06-09T13:10:45.173Z"
   },
   {
    "duration": 1186,
    "start_time": "2023-06-09T13:10:46.027Z"
   },
   {
    "duration": 58,
    "start_time": "2023-06-09T13:10:47.215Z"
   },
   {
    "duration": 7,
    "start_time": "2023-06-09T13:10:47.275Z"
   },
   {
    "duration": 18700,
    "start_time": "2023-06-09T13:10:47.284Z"
   },
   {
    "duration": 4315,
    "start_time": "2023-06-09T13:11:05.986Z"
   },
   {
    "duration": 56,
    "start_time": "2023-06-09T13:11:10.303Z"
   },
   {
    "duration": 87,
    "start_time": "2023-06-09T13:14:12.418Z"
   },
   {
    "duration": 11,
    "start_time": "2023-06-09T13:14:19.093Z"
   },
   {
    "duration": 9,
    "start_time": "2023-06-09T13:14:53.442Z"
   },
   {
    "duration": 9,
    "start_time": "2023-06-09T13:15:19.817Z"
   },
   {
    "duration": 3,
    "start_time": "2023-06-09T13:15:27.867Z"
   },
   {
    "duration": 9,
    "start_time": "2023-06-09T13:16:49.738Z"
   },
   {
    "duration": 9,
    "start_time": "2023-06-09T13:17:00.693Z"
   },
   {
    "duration": 131,
    "start_time": "2023-06-09T13:17:20.467Z"
   },
   {
    "duration": 123,
    "start_time": "2023-06-09T13:17:38.493Z"
   },
   {
    "duration": 126,
    "start_time": "2023-06-09T13:17:54.518Z"
   },
   {
    "duration": 137,
    "start_time": "2023-06-09T13:18:31.719Z"
   },
   {
    "duration": 118,
    "start_time": "2023-06-09T13:19:39.121Z"
   },
   {
    "duration": 131,
    "start_time": "2023-06-09T13:23:27.344Z"
   },
   {
    "duration": 5,
    "start_time": "2023-06-09T13:25:21.269Z"
   },
   {
    "duration": 5,
    "start_time": "2023-06-09T13:25:31.746Z"
   },
   {
    "duration": 63,
    "start_time": "2023-06-09T13:26:17.119Z"
   },
   {
    "duration": 13,
    "start_time": "2023-06-09T13:26:36.245Z"
   },
   {
    "duration": 10,
    "start_time": "2023-06-09T13:26:44.345Z"
   },
   {
    "duration": 14,
    "start_time": "2023-06-09T13:27:21.671Z"
   },
   {
    "duration": 6,
    "start_time": "2023-06-09T13:28:22.811Z"
   },
   {
    "duration": 8,
    "start_time": "2023-06-09T13:29:43.688Z"
   },
   {
    "duration": 12,
    "start_time": "2023-06-09T13:29:50.695Z"
   },
   {
    "duration": 11,
    "start_time": "2023-06-09T13:30:56.390Z"
   },
   {
    "duration": 7,
    "start_time": "2023-06-09T13:30:59.822Z"
   },
   {
    "duration": 161,
    "start_time": "2023-06-09T13:31:01.834Z"
   },
   {
    "duration": 9,
    "start_time": "2023-06-09T13:31:25.115Z"
   },
   {
    "duration": 6,
    "start_time": "2023-06-09T13:31:37.122Z"
   },
   {
    "duration": 134,
    "start_time": "2023-06-09T13:31:38.177Z"
   },
   {
    "duration": 120,
    "start_time": "2023-06-09T13:32:31.878Z"
   },
   {
    "duration": 10,
    "start_time": "2023-06-09T13:35:03.047Z"
   },
   {
    "duration": 116,
    "start_time": "2023-06-09T13:35:11.946Z"
   },
   {
    "duration": 227,
    "start_time": "2023-06-09T13:35:49.696Z"
   },
   {
    "duration": 160,
    "start_time": "2023-06-09T13:36:29.722Z"
   },
   {
    "duration": 131,
    "start_time": "2023-06-09T13:36:44.223Z"
   },
   {
    "duration": 145,
    "start_time": "2023-06-09T13:37:09.654Z"
   },
   {
    "duration": 128,
    "start_time": "2023-06-09T13:37:24.097Z"
   },
   {
    "duration": 144,
    "start_time": "2023-06-09T13:37:41.107Z"
   },
   {
    "duration": 473,
    "start_time": "2023-06-09T17:06:00.223Z"
   },
   {
    "duration": 306,
    "start_time": "2023-06-09T17:06:00.698Z"
   },
   {
    "duration": 192,
    "start_time": "2023-06-09T17:06:01.006Z"
   },
   {
    "duration": 15964,
    "start_time": "2023-06-09T17:06:01.200Z"
   },
   {
    "duration": 9921,
    "start_time": "2023-06-09T17:06:17.167Z"
   },
   {
    "duration": 14670,
    "start_time": "2023-06-09T17:06:27.090Z"
   },
   {
    "duration": 614,
    "start_time": "2023-06-09T17:06:41.762Z"
   },
   {
    "duration": 7483,
    "start_time": "2023-06-09T17:06:42.378Z"
   },
   {
    "duration": 5,
    "start_time": "2023-06-09T17:06:49.863Z"
   },
   {
    "duration": 3287,
    "start_time": "2023-06-09T17:06:49.871Z"
   },
   {
    "duration": 114,
    "start_time": "2023-06-09T17:06:53.160Z"
   },
   {
    "duration": 1218,
    "start_time": "2023-06-09T17:06:53.276Z"
   },
   {
    "duration": 1170,
    "start_time": "2023-06-09T17:06:54.495Z"
   },
   {
    "duration": 21,
    "start_time": "2023-06-09T17:06:55.667Z"
   },
   {
    "duration": 9,
    "start_time": "2023-06-09T17:06:55.691Z"
   },
   {
    "duration": 22961,
    "start_time": "2023-06-09T17:06:55.702Z"
   },
   {
    "duration": 5093,
    "start_time": "2023-06-09T17:07:18.665Z"
   },
   {
    "duration": 5,
    "start_time": "2023-06-09T17:07:23.760Z"
   },
   {
    "duration": 49,
    "start_time": "2023-06-09T17:07:23.766Z"
   },
   {
    "duration": 196,
    "start_time": "2023-06-09T17:07:23.818Z"
   },
   {
    "duration": 469,
    "start_time": "2023-06-09T17:16:18.154Z"
   },
   {
    "duration": 304,
    "start_time": "2023-06-09T17:16:18.625Z"
   },
   {
    "duration": 232,
    "start_time": "2023-06-09T17:16:18.931Z"
   },
   {
    "duration": 15802,
    "start_time": "2023-06-09T17:16:19.165Z"
   },
   {
    "duration": 10001,
    "start_time": "2023-06-09T17:16:34.970Z"
   },
   {
    "duration": 14092,
    "start_time": "2023-06-09T17:16:44.974Z"
   },
   {
    "duration": 513,
    "start_time": "2023-06-09T17:16:59.068Z"
   },
   {
    "duration": 8290,
    "start_time": "2023-06-09T17:16:59.583Z"
   },
   {
    "duration": 5,
    "start_time": "2023-06-09T17:17:07.874Z"
   },
   {
    "duration": 3646,
    "start_time": "2023-06-09T17:17:07.880Z"
   },
   {
    "duration": 106,
    "start_time": "2023-06-09T17:17:11.556Z"
   },
   {
    "duration": 1205,
    "start_time": "2023-06-09T17:17:11.664Z"
   },
   {
    "duration": 1686,
    "start_time": "2023-06-09T17:17:12.871Z"
   },
   {
    "duration": 22,
    "start_time": "2023-06-09T17:17:14.560Z"
   },
   {
    "duration": 7,
    "start_time": "2023-06-09T17:17:14.585Z"
   },
   {
    "duration": 140,
    "start_time": "2023-06-09T17:17:14.656Z"
   },
   {
    "duration": 0,
    "start_time": "2023-06-09T17:17:14.798Z"
   },
   {
    "duration": 0,
    "start_time": "2023-06-09T17:17:14.799Z"
   },
   {
    "duration": 0,
    "start_time": "2023-06-09T17:17:14.800Z"
   },
   {
    "duration": 0,
    "start_time": "2023-06-09T17:17:14.801Z"
   },
   {
    "duration": 495,
    "start_time": "2023-06-09T17:19:31.725Z"
   },
   {
    "duration": 293,
    "start_time": "2023-06-09T17:19:32.222Z"
   },
   {
    "duration": 248,
    "start_time": "2023-06-09T17:19:32.518Z"
   },
   {
    "duration": 17189,
    "start_time": "2023-06-09T17:19:32.768Z"
   },
   {
    "duration": 11212,
    "start_time": "2023-06-09T17:19:49.960Z"
   },
   {
    "duration": 15810,
    "start_time": "2023-06-09T17:20:01.174Z"
   },
   {
    "duration": 692,
    "start_time": "2023-06-09T17:20:16.986Z"
   },
   {
    "duration": 7806,
    "start_time": "2023-06-09T17:20:17.681Z"
   },
   {
    "duration": 4,
    "start_time": "2023-06-09T17:20:25.489Z"
   },
   {
    "duration": 3670,
    "start_time": "2023-06-09T17:20:25.495Z"
   },
   {
    "duration": 103,
    "start_time": "2023-06-09T17:20:29.167Z"
   },
   {
    "duration": 1108,
    "start_time": "2023-06-09T17:20:29.272Z"
   },
   {
    "duration": 1212,
    "start_time": "2023-06-09T17:20:30.382Z"
   },
   {
    "duration": 67,
    "start_time": "2023-06-09T17:20:31.595Z"
   },
   {
    "duration": 9,
    "start_time": "2023-06-09T17:20:31.664Z"
   },
   {
    "duration": 159,
    "start_time": "2023-06-09T17:20:31.674Z"
   },
   {
    "duration": 0,
    "start_time": "2023-06-09T17:20:31.835Z"
   },
   {
    "duration": 0,
    "start_time": "2023-06-09T17:20:31.836Z"
   },
   {
    "duration": 0,
    "start_time": "2023-06-09T17:20:31.837Z"
   },
   {
    "duration": 0,
    "start_time": "2023-06-09T17:20:31.838Z"
   },
   {
    "duration": 425,
    "start_time": "2023-06-09T17:21:52.186Z"
   },
   {
    "duration": 295,
    "start_time": "2023-06-09T17:21:52.613Z"
   },
   {
    "duration": 207,
    "start_time": "2023-06-09T17:21:52.910Z"
   },
   {
    "duration": 16041,
    "start_time": "2023-06-09T17:21:53.119Z"
   },
   {
    "duration": 9316,
    "start_time": "2023-06-09T17:22:09.163Z"
   },
   {
    "duration": 14281,
    "start_time": "2023-06-09T17:22:18.481Z"
   },
   {
    "duration": 612,
    "start_time": "2023-06-09T17:22:32.764Z"
   },
   {
    "duration": 8100,
    "start_time": "2023-06-09T17:22:33.378Z"
   },
   {
    "duration": 4,
    "start_time": "2023-06-09T17:22:41.480Z"
   },
   {
    "duration": 3248,
    "start_time": "2023-06-09T17:22:41.487Z"
   },
   {
    "duration": 119,
    "start_time": "2023-06-09T17:22:44.737Z"
   },
   {
    "duration": 1046,
    "start_time": "2023-06-09T17:22:44.859Z"
   },
   {
    "duration": 1175,
    "start_time": "2023-06-09T17:22:45.907Z"
   },
   {
    "duration": 23,
    "start_time": "2023-06-09T17:22:47.085Z"
   },
   {
    "duration": 47,
    "start_time": "2023-06-09T17:22:47.110Z"
   },
   {
    "duration": 33829,
    "start_time": "2023-06-09T17:22:47.159Z"
   },
   {
    "duration": 8799,
    "start_time": "2023-06-09T17:23:20.990Z"
   },
   {
    "duration": 5,
    "start_time": "2023-06-09T17:23:29.858Z"
   },
   {
    "duration": 9,
    "start_time": "2023-06-09T17:23:29.864Z"
   },
   {
    "duration": 325,
    "start_time": "2023-06-09T17:23:29.875Z"
   },
   {
    "duration": 461,
    "start_time": "2023-06-09T17:26:50.529Z"
   },
   {
    "duration": 306,
    "start_time": "2023-06-09T17:26:50.993Z"
   },
   {
    "duration": 283,
    "start_time": "2023-06-09T17:26:51.301Z"
   },
   {
    "duration": 16195,
    "start_time": "2023-06-09T17:26:51.587Z"
   },
   {
    "duration": 10698,
    "start_time": "2023-06-09T17:27:07.784Z"
   },
   {
    "duration": 15182,
    "start_time": "2023-06-09T17:27:18.484Z"
   },
   {
    "duration": 698,
    "start_time": "2023-06-09T17:27:33.669Z"
   },
   {
    "duration": 8020,
    "start_time": "2023-06-09T17:27:34.369Z"
   },
   {
    "duration": 69,
    "start_time": "2023-06-09T17:27:42.391Z"
   },
   {
    "duration": 3703,
    "start_time": "2023-06-09T17:27:42.463Z"
   },
   {
    "duration": 102,
    "start_time": "2023-06-09T17:27:46.169Z"
   },
   {
    "duration": 1197,
    "start_time": "2023-06-09T17:27:46.274Z"
   },
   {
    "duration": 1309,
    "start_time": "2023-06-09T17:27:47.474Z"
   },
   {
    "duration": 73,
    "start_time": "2023-06-09T17:27:48.785Z"
   },
   {
    "duration": 15,
    "start_time": "2023-06-09T17:27:48.860Z"
   },
   {
    "duration": 33919,
    "start_time": "2023-06-09T17:27:48.880Z"
   },
   {
    "duration": 7623,
    "start_time": "2023-06-09T17:28:22.856Z"
   },
   {
    "duration": 5,
    "start_time": "2023-06-09T17:28:30.481Z"
   },
   {
    "duration": 72,
    "start_time": "2023-06-09T17:28:30.488Z"
   },
   {
    "duration": 187,
    "start_time": "2023-06-09T17:28:30.562Z"
   },
   {
    "duration": 410,
    "start_time": "2023-06-09T17:31:41.096Z"
   },
   {
    "duration": 293,
    "start_time": "2023-06-09T17:31:41.509Z"
   },
   {
    "duration": 196,
    "start_time": "2023-06-09T17:31:41.803Z"
   },
   {
    "duration": 15688,
    "start_time": "2023-06-09T17:31:42.001Z"
   },
   {
    "duration": 9885,
    "start_time": "2023-06-09T17:31:57.692Z"
   },
   {
    "duration": 14412,
    "start_time": "2023-06-09T17:32:07.579Z"
   },
   {
    "duration": 768,
    "start_time": "2023-06-09T17:32:21.994Z"
   },
   {
    "duration": 8208,
    "start_time": "2023-06-09T17:32:22.764Z"
   },
   {
    "duration": 5,
    "start_time": "2023-06-09T17:32:30.974Z"
   },
   {
    "duration": 3317,
    "start_time": "2023-06-09T17:32:30.981Z"
   },
   {
    "duration": 170,
    "start_time": "2023-06-09T17:32:34.299Z"
   },
   {
    "duration": 1210,
    "start_time": "2023-06-09T17:32:34.471Z"
   },
   {
    "duration": 1194,
    "start_time": "2023-06-09T17:32:35.682Z"
   },
   {
    "duration": 21,
    "start_time": "2023-06-09T17:32:36.879Z"
   },
   {
    "duration": 8,
    "start_time": "2023-06-09T17:32:36.902Z"
   },
   {
    "duration": 52,
    "start_time": "2023-06-09T17:32:36.912Z"
   },
   {
    "duration": 0,
    "start_time": "2023-06-09T17:32:36.966Z"
   },
   {
    "duration": 0,
    "start_time": "2023-06-09T17:32:36.967Z"
   },
   {
    "duration": 0,
    "start_time": "2023-06-09T17:32:36.968Z"
   },
   {
    "duration": 0,
    "start_time": "2023-06-09T17:32:36.969Z"
   },
   {
    "duration": 399,
    "start_time": "2023-06-09T17:32:52.905Z"
   },
   {
    "duration": 300,
    "start_time": "2023-06-09T17:32:53.306Z"
   },
   {
    "duration": 199,
    "start_time": "2023-06-09T17:32:53.608Z"
   },
   {
    "duration": 15492,
    "start_time": "2023-06-09T17:32:53.809Z"
   },
   {
    "duration": 9672,
    "start_time": "2023-06-09T17:33:09.302Z"
   },
   {
    "duration": 14589,
    "start_time": "2023-06-09T17:33:18.977Z"
   },
   {
    "duration": 600,
    "start_time": "2023-06-09T17:33:33.568Z"
   },
   {
    "duration": 7785,
    "start_time": "2023-06-09T17:33:34.170Z"
   },
   {
    "duration": 5,
    "start_time": "2023-06-09T17:33:41.959Z"
   },
   {
    "duration": 3691,
    "start_time": "2023-06-09T17:33:41.967Z"
   },
   {
    "duration": 112,
    "start_time": "2023-06-09T17:33:45.660Z"
   },
   {
    "duration": 1237,
    "start_time": "2023-06-09T17:33:45.774Z"
   },
   {
    "duration": 1240,
    "start_time": "2023-06-09T17:33:47.056Z"
   },
   {
    "duration": 71,
    "start_time": "2023-06-09T17:33:48.298Z"
   },
   {
    "duration": 10,
    "start_time": "2023-06-09T17:33:48.371Z"
   },
   {
    "duration": 44910,
    "start_time": "2023-06-09T17:33:48.383Z"
   },
   {
    "duration": 12666,
    "start_time": "2023-06-09T17:34:33.295Z"
   },
   {
    "duration": 5,
    "start_time": "2023-06-09T17:34:45.963Z"
   },
   {
    "duration": 19,
    "start_time": "2023-06-09T17:34:45.969Z"
   },
   {
    "duration": 389,
    "start_time": "2023-06-09T17:34:45.990Z"
   },
   {
    "duration": 472,
    "start_time": "2023-06-09T17:39:55.050Z"
   },
   {
    "duration": 272,
    "start_time": "2023-06-09T17:39:55.524Z"
   },
   {
    "duration": 182,
    "start_time": "2023-06-09T17:39:55.798Z"
   },
   {
    "duration": 15316,
    "start_time": "2023-06-09T17:39:55.982Z"
   },
   {
    "duration": 9165,
    "start_time": "2023-06-09T17:40:11.301Z"
   },
   {
    "duration": 14606,
    "start_time": "2023-06-09T17:40:20.468Z"
   },
   {
    "duration": 586,
    "start_time": "2023-06-09T17:40:35.076Z"
   },
   {
    "duration": 7893,
    "start_time": "2023-06-09T17:40:35.664Z"
   },
   {
    "duration": 4,
    "start_time": "2023-06-09T17:40:43.559Z"
   },
   {
    "duration": 3637,
    "start_time": "2023-06-09T17:40:43.567Z"
   },
   {
    "duration": 151,
    "start_time": "2023-06-09T17:40:47.206Z"
   },
   {
    "duration": 919,
    "start_time": "2023-06-09T17:40:47.359Z"
   },
   {
    "duration": 1223,
    "start_time": "2023-06-09T17:40:48.280Z"
   },
   {
    "duration": 58,
    "start_time": "2023-06-09T17:40:49.505Z"
   },
   {
    "duration": 8,
    "start_time": "2023-06-09T17:40:49.564Z"
   },
   {
    "duration": 32628,
    "start_time": "2023-06-09T17:40:49.574Z"
   },
   {
    "duration": 9077,
    "start_time": "2023-06-09T17:41:22.204Z"
   },
   {
    "duration": 4,
    "start_time": "2023-06-09T17:41:31.283Z"
   },
   {
    "duration": 7,
    "start_time": "2023-06-09T17:41:31.357Z"
   },
   {
    "duration": 397,
    "start_time": "2023-06-09T17:41:31.365Z"
   },
   {
    "duration": 472,
    "start_time": "2023-06-09T17:43:40.992Z"
   },
   {
    "duration": 357,
    "start_time": "2023-06-09T17:43:41.467Z"
   },
   {
    "duration": 304,
    "start_time": "2023-06-09T17:43:41.829Z"
   },
   {
    "duration": 17165,
    "start_time": "2023-06-09T17:43:42.136Z"
   },
   {
    "duration": 11028,
    "start_time": "2023-06-09T17:43:59.358Z"
   },
   {
    "duration": 15798,
    "start_time": "2023-06-09T17:44:10.388Z"
   },
   {
    "duration": 683,
    "start_time": "2023-06-09T17:44:26.188Z"
   },
   {
    "duration": 8697,
    "start_time": "2023-06-09T17:44:26.873Z"
   },
   {
    "duration": 8,
    "start_time": "2023-06-09T17:44:35.571Z"
   },
   {
    "duration": 3902,
    "start_time": "2023-06-09T17:44:35.659Z"
   },
   {
    "duration": 118,
    "start_time": "2023-06-09T17:44:39.563Z"
   },
   {
    "duration": 1111,
    "start_time": "2023-06-09T17:44:39.683Z"
   },
   {
    "duration": 1400,
    "start_time": "2023-06-09T17:44:40.797Z"
   },
   {
    "duration": 64,
    "start_time": "2023-06-09T17:44:42.199Z"
   },
   {
    "duration": 11,
    "start_time": "2023-06-09T17:44:42.266Z"
   },
   {
    "duration": 35607,
    "start_time": "2023-06-09T17:44:42.279Z"
   },
   {
    "duration": 8799,
    "start_time": "2023-06-09T17:45:17.887Z"
   },
   {
    "duration": 6,
    "start_time": "2023-06-09T17:45:26.757Z"
   },
   {
    "duration": 102,
    "start_time": "2023-06-09T17:45:26.765Z"
   },
   {
    "duration": 421,
    "start_time": "2023-06-09T17:45:26.870Z"
   },
   {
    "duration": 479,
    "start_time": "2023-06-09T17:51:15.258Z"
   },
   {
    "duration": 271,
    "start_time": "2023-06-09T17:51:15.740Z"
   },
   {
    "duration": 216,
    "start_time": "2023-06-09T17:51:16.013Z"
   },
   {
    "duration": 16050,
    "start_time": "2023-06-09T17:51:16.231Z"
   },
   {
    "duration": 10375,
    "start_time": "2023-06-09T17:51:32.286Z"
   },
   {
    "duration": 15700,
    "start_time": "2023-06-09T17:51:42.663Z"
   },
   {
    "duration": 729,
    "start_time": "2023-06-09T17:51:58.365Z"
   },
   {
    "duration": 8579,
    "start_time": "2023-06-09T17:51:59.096Z"
   },
   {
    "duration": 4,
    "start_time": "2023-06-09T17:52:07.678Z"
   },
   {
    "duration": 3786,
    "start_time": "2023-06-09T17:52:07.684Z"
   },
   {
    "duration": 188,
    "start_time": "2023-06-09T17:52:11.472Z"
   },
   {
    "duration": 1397,
    "start_time": "2023-06-09T17:52:11.662Z"
   },
   {
    "duration": 1446,
    "start_time": "2023-06-09T17:52:13.061Z"
   },
   {
    "duration": 67,
    "start_time": "2023-06-09T17:52:14.510Z"
   },
   {
    "duration": 10,
    "start_time": "2023-06-09T17:52:14.578Z"
   },
   {
    "duration": 38004,
    "start_time": "2023-06-09T17:52:14.591Z"
   },
   {
    "duration": 9178,
    "start_time": "2023-06-09T17:52:52.598Z"
   },
   {
    "duration": 7,
    "start_time": "2023-06-09T17:53:01.779Z"
   },
   {
    "duration": 71,
    "start_time": "2023-06-09T17:53:01.788Z"
   },
   {
    "duration": 342,
    "start_time": "2023-06-09T17:53:01.861Z"
   },
   {
    "duration": 32,
    "start_time": "2023-06-10T12:05:07.954Z"
   },
   {
    "duration": 65,
    "start_time": "2023-06-10T12:06:34.063Z"
   },
   {
    "duration": 1486,
    "start_time": "2023-06-10T12:06:58.199Z"
   },
   {
    "duration": 117,
    "start_time": "2023-06-10T12:09:39.726Z"
   },
   {
    "duration": 12,
    "start_time": "2023-06-10T12:10:35.225Z"
   },
   {
    "duration": 11,
    "start_time": "2023-06-10T12:10:56.281Z"
   },
   {
    "duration": 20,
    "start_time": "2023-06-10T12:11:10.421Z"
   },
   {
    "duration": 1067,
    "start_time": "2023-06-10T12:11:16.730Z"
   },
   {
    "duration": 54,
    "start_time": "2023-06-10T12:12:12.783Z"
   },
   {
    "duration": 1111,
    "start_time": "2023-06-10T12:12:19.467Z"
   },
   {
    "duration": 38,
    "start_time": "2023-06-10T12:13:28.376Z"
   },
   {
    "duration": 44,
    "start_time": "2023-06-10T12:13:48.902Z"
   },
   {
    "duration": 54,
    "start_time": "2023-06-10T12:14:26.151Z"
   },
   {
    "duration": 60,
    "start_time": "2023-06-10T12:14:38.828Z"
   },
   {
    "duration": 4280,
    "start_time": "2023-06-10T12:14:48.400Z"
   },
   {
    "duration": 37,
    "start_time": "2023-06-10T12:15:43.076Z"
   },
   {
    "duration": 214,
    "start_time": "2023-06-10T12:16:12.201Z"
   },
   {
    "duration": 38,
    "start_time": "2023-06-10T12:17:19.602Z"
   },
   {
    "duration": 54,
    "start_time": "2023-06-10T12:19:21.527Z"
   },
   {
    "duration": 33,
    "start_time": "2023-06-10T12:19:31.901Z"
   },
   {
    "duration": 95,
    "start_time": "2023-06-10T12:19:41.378Z"
   },
   {
    "duration": 3752,
    "start_time": "2023-06-10T12:19:51.105Z"
   },
   {
    "duration": 8106,
    "start_time": "2023-06-10T12:21:42.352Z"
   },
   {
    "duration": 8255,
    "start_time": "2023-06-10T12:22:22.102Z"
   },
   {
    "duration": 52,
    "start_time": "2023-06-10T12:23:19.395Z"
   },
   {
    "duration": 145,
    "start_time": "2023-06-10T12:23:27.204Z"
   },
   {
    "duration": 145,
    "start_time": "2023-06-10T12:26:47.953Z"
   },
   {
    "duration": 151,
    "start_time": "2023-06-10T12:27:07.254Z"
   },
   {
    "duration": 11,
    "start_time": "2023-06-10T12:31:08.004Z"
   },
   {
    "duration": 5,
    "start_time": "2023-06-10T12:31:15.804Z"
   },
   {
    "duration": 6,
    "start_time": "2023-06-10T12:31:33.905Z"
   },
   {
    "duration": 58,
    "start_time": "2023-06-10T12:32:00.204Z"
   },
   {
    "duration": 137,
    "start_time": "2023-06-10T12:32:30.354Z"
   },
   {
    "duration": 11,
    "start_time": "2023-06-10T12:33:27.405Z"
   },
   {
    "duration": 10,
    "start_time": "2023-06-10T12:34:53.829Z"
   },
   {
    "duration": 105,
    "start_time": "2023-06-10T12:35:10.630Z"
   },
   {
    "duration": 114,
    "start_time": "2023-06-10T12:35:35.955Z"
   },
   {
    "duration": 6850,
    "start_time": "2023-06-10T12:36:36.054Z"
   },
   {
    "duration": 4918,
    "start_time": "2023-06-10T12:38:37.999Z"
   },
   {
    "duration": 16,
    "start_time": "2023-06-10T12:38:57.355Z"
   },
   {
    "duration": 3591,
    "start_time": "2023-06-10T12:39:25.469Z"
   },
   {
    "duration": 16,
    "start_time": "2023-06-10T12:39:32.267Z"
   },
   {
    "duration": 649,
    "start_time": "2023-06-10T12:49:24.724Z"
   },
   {
    "duration": 391,
    "start_time": "2023-06-10T12:49:25.375Z"
   },
   {
    "duration": 207,
    "start_time": "2023-06-10T12:49:25.768Z"
   },
   {
    "duration": 22714,
    "start_time": "2023-06-10T12:49:25.977Z"
   },
   {
    "duration": 11365,
    "start_time": "2023-06-10T12:49:48.694Z"
   },
   {
    "duration": 14540,
    "start_time": "2023-06-10T12:50:00.061Z"
   },
   {
    "duration": 704,
    "start_time": "2023-06-10T12:50:14.657Z"
   },
   {
    "duration": 8408,
    "start_time": "2023-06-10T12:50:15.363Z"
   },
   {
    "duration": 5,
    "start_time": "2023-06-10T12:50:23.774Z"
   },
   {
    "duration": 5295,
    "start_time": "2023-06-10T12:50:23.782Z"
   },
   {
    "duration": 179,
    "start_time": "2023-06-10T12:50:29.080Z"
   },
   {
    "duration": 197,
    "start_time": "2023-06-10T12:50:29.261Z"
   },
   {
    "duration": 0,
    "start_time": "2023-06-10T12:50:29.460Z"
   },
   {
    "duration": 0,
    "start_time": "2023-06-10T12:50:29.462Z"
   },
   {
    "duration": 0,
    "start_time": "2023-06-10T12:50:29.464Z"
   },
   {
    "duration": 0,
    "start_time": "2023-06-10T12:50:29.465Z"
   },
   {
    "duration": 0,
    "start_time": "2023-06-10T12:50:29.467Z"
   },
   {
    "duration": 0,
    "start_time": "2023-06-10T12:50:29.468Z"
   },
   {
    "duration": 0,
    "start_time": "2023-06-10T12:50:29.470Z"
   },
   {
    "duration": 0,
    "start_time": "2023-06-10T12:50:29.471Z"
   },
   {
    "duration": 0,
    "start_time": "2023-06-10T12:50:29.473Z"
   },
   {
    "duration": 0,
    "start_time": "2023-06-10T12:50:29.474Z"
   },
   {
    "duration": 424,
    "start_time": "2023-06-10T12:52:56.380Z"
   },
   {
    "duration": 299,
    "start_time": "2023-06-10T12:52:56.806Z"
   },
   {
    "duration": 195,
    "start_time": "2023-06-10T12:52:57.106Z"
   },
   {
    "duration": 16106,
    "start_time": "2023-06-10T12:52:57.303Z"
   },
   {
    "duration": 9281,
    "start_time": "2023-06-10T12:53:13.412Z"
   },
   {
    "duration": 15076,
    "start_time": "2023-06-10T12:53:22.695Z"
   },
   {
    "duration": 600,
    "start_time": "2023-06-10T12:53:37.773Z"
   },
   {
    "duration": 7780,
    "start_time": "2023-06-10T12:53:38.376Z"
   },
   {
    "duration": 3,
    "start_time": "2023-06-10T12:53:46.159Z"
   },
   {
    "duration": 3125,
    "start_time": "2023-06-10T12:53:46.165Z"
   },
   {
    "duration": 86,
    "start_time": "2023-06-10T12:53:49.292Z"
   },
   {
    "duration": 1105,
    "start_time": "2023-06-10T12:53:49.380Z"
   },
   {
    "duration": 1225,
    "start_time": "2023-06-10T12:53:50.488Z"
   },
   {
    "duration": 23,
    "start_time": "2023-06-10T12:53:51.756Z"
   },
   {
    "duration": 8,
    "start_time": "2023-06-10T12:53:51.781Z"
   },
   {
    "duration": 35469,
    "start_time": "2023-06-10T12:53:51.791Z"
   },
   {
    "duration": 9649,
    "start_time": "2023-06-10T12:54:27.262Z"
   },
   {
    "duration": 4,
    "start_time": "2023-06-10T12:54:36.912Z"
   },
   {
    "duration": 45,
    "start_time": "2023-06-10T12:54:36.917Z"
   },
   {
    "duration": 193,
    "start_time": "2023-06-10T12:54:36.965Z"
   },
   {
    "duration": 8208,
    "start_time": "2023-06-10T12:54:37.160Z"
   },
   {
    "duration": 202,
    "start_time": "2023-06-10T12:54:45.370Z"
   },
   {
    "duration": 461,
    "start_time": "2023-06-10T12:56:48.881Z"
   },
   {
    "duration": 260,
    "start_time": "2023-06-10T12:56:49.345Z"
   },
   {
    "duration": 227,
    "start_time": "2023-06-10T12:56:49.606Z"
   },
   {
    "duration": 16554,
    "start_time": "2023-06-10T12:56:49.834Z"
   },
   {
    "duration": 12168,
    "start_time": "2023-06-10T12:57:06.392Z"
   },
   {
    "duration": 16295,
    "start_time": "2023-06-10T12:57:18.563Z"
   },
   {
    "duration": 701,
    "start_time": "2023-06-10T12:57:34.860Z"
   },
   {
    "duration": 8530,
    "start_time": "2023-06-10T12:57:35.563Z"
   },
   {
    "duration": 4,
    "start_time": "2023-06-10T12:57:44.157Z"
   },
   {
    "duration": 3921,
    "start_time": "2023-06-10T12:57:44.163Z"
   },
   {
    "duration": 99,
    "start_time": "2023-06-10T12:57:48.086Z"
   },
   {
    "duration": 1294,
    "start_time": "2023-06-10T12:57:48.186Z"
   },
   {
    "duration": 1290,
    "start_time": "2023-06-10T12:57:49.483Z"
   },
   {
    "duration": 26,
    "start_time": "2023-06-10T12:57:50.778Z"
   },
   {
    "duration": 56,
    "start_time": "2023-06-10T12:57:50.806Z"
   },
   {
    "duration": 37115,
    "start_time": "2023-06-10T12:57:50.864Z"
   },
   {
    "duration": 8796,
    "start_time": "2023-06-10T12:58:27.981Z"
   },
   {
    "duration": 4,
    "start_time": "2023-06-10T12:58:36.780Z"
   },
   {
    "duration": 10,
    "start_time": "2023-06-10T12:58:36.855Z"
   },
   {
    "duration": 393,
    "start_time": "2023-06-10T12:58:36.867Z"
   },
   {
    "duration": 9907,
    "start_time": "2023-06-10T12:58:37.262Z"
   },
   {
    "duration": 194,
    "start_time": "2023-06-10T12:58:47.171Z"
   },
   {
    "duration": 508,
    "start_time": "2023-06-10T13:00:13.116Z"
   },
   {
    "duration": 280,
    "start_time": "2023-06-10T13:00:13.627Z"
   },
   {
    "duration": 259,
    "start_time": "2023-06-10T13:00:13.909Z"
   },
   {
    "duration": 17210,
    "start_time": "2023-06-10T13:00:14.170Z"
   },
   {
    "duration": 10975,
    "start_time": "2023-06-10T13:00:31.382Z"
   },
   {
    "duration": 15524,
    "start_time": "2023-06-10T13:00:42.360Z"
   },
   {
    "duration": 690,
    "start_time": "2023-06-10T13:00:57.887Z"
   },
   {
    "duration": 8383,
    "start_time": "2023-06-10T13:00:58.579Z"
   },
   {
    "duration": 6,
    "start_time": "2023-06-10T13:01:06.965Z"
   },
   {
    "duration": 4092,
    "start_time": "2023-06-10T13:01:06.975Z"
   },
   {
    "duration": 116,
    "start_time": "2023-06-10T13:01:11.069Z"
   },
   {
    "duration": 1194,
    "start_time": "2023-06-10T13:01:11.187Z"
   },
   {
    "duration": 1288,
    "start_time": "2023-06-10T13:01:12.382Z"
   },
   {
    "duration": 25,
    "start_time": "2023-06-10T13:01:13.673Z"
   },
   {
    "duration": 58,
    "start_time": "2023-06-10T13:01:13.700Z"
   },
   {
    "duration": 36896,
    "start_time": "2023-06-10T13:01:13.761Z"
   },
   {
    "duration": 8883,
    "start_time": "2023-06-10T13:01:50.659Z"
   },
   {
    "duration": 3,
    "start_time": "2023-06-10T13:01:59.557Z"
   },
   {
    "duration": 13,
    "start_time": "2023-06-10T13:01:59.562Z"
   },
   {
    "duration": 188,
    "start_time": "2023-06-10T13:01:59.577Z"
   },
   {
    "duration": 9422,
    "start_time": "2023-06-10T13:01:59.767Z"
   },
   {
    "duration": 273,
    "start_time": "2023-06-10T13:02:09.191Z"
   },
   {
    "duration": 423,
    "start_time": "2023-06-10T13:07:47.712Z"
   },
   {
    "duration": 332,
    "start_time": "2023-06-10T13:07:48.138Z"
   },
   {
    "duration": 216,
    "start_time": "2023-06-10T13:07:48.472Z"
   },
   {
    "duration": 16584,
    "start_time": "2023-06-10T13:07:48.690Z"
   },
   {
    "duration": 10987,
    "start_time": "2023-06-10T13:08:05.278Z"
   },
   {
    "duration": 15890,
    "start_time": "2023-06-10T13:08:16.267Z"
   },
   {
    "duration": 624,
    "start_time": "2023-06-10T13:08:32.160Z"
   },
   {
    "duration": 8809,
    "start_time": "2023-06-10T13:08:32.786Z"
   },
   {
    "duration": 3,
    "start_time": "2023-06-10T13:08:41.597Z"
   },
   {
    "duration": 3723,
    "start_time": "2023-06-10T13:08:41.657Z"
   },
   {
    "duration": 115,
    "start_time": "2023-06-10T13:08:45.381Z"
   },
   {
    "duration": 1107,
    "start_time": "2023-06-10T13:08:45.498Z"
   },
   {
    "duration": 1319,
    "start_time": "2023-06-10T13:08:46.607Z"
   },
   {
    "duration": 34,
    "start_time": "2023-06-10T13:08:47.956Z"
   },
   {
    "duration": 7,
    "start_time": "2023-06-10T13:08:47.992Z"
   },
   {
    "duration": 36875,
    "start_time": "2023-06-10T13:08:48.001Z"
   },
   {
    "duration": 9898,
    "start_time": "2023-06-10T13:09:24.878Z"
   },
   {
    "duration": 5,
    "start_time": "2023-06-10T13:09:34.779Z"
   },
   {
    "duration": 76,
    "start_time": "2023-06-10T13:09:34.787Z"
   },
   {
    "duration": 417,
    "start_time": "2023-06-10T13:09:34.865Z"
   },
   {
    "duration": 9101,
    "start_time": "2023-06-10T13:09:35.285Z"
   },
   {
    "duration": 211,
    "start_time": "2023-06-10T13:09:44.388Z"
   },
   {
    "duration": 15,
    "start_time": "2023-06-10T17:33:24.913Z"
   },
   {
    "duration": 18,
    "start_time": "2023-06-10T17:33:48.374Z"
   },
   {
    "duration": 10,
    "start_time": "2023-06-10T17:33:56.711Z"
   },
   {
    "duration": 12,
    "start_time": "2023-06-10T17:34:29.721Z"
   },
   {
    "duration": 128,
    "start_time": "2023-06-10T17:34:53.808Z"
   },
   {
    "duration": 141,
    "start_time": "2023-06-10T17:35:14.980Z"
   },
   {
    "duration": 8,
    "start_time": "2023-06-10T17:35:37.885Z"
   },
   {
    "duration": 146,
    "start_time": "2023-06-10T17:35:43.789Z"
   },
   {
    "duration": 297,
    "start_time": "2023-06-10T17:38:31.077Z"
   },
   {
    "duration": 242,
    "start_time": "2023-06-10T17:40:07.804Z"
   },
   {
    "duration": 13,
    "start_time": "2023-06-10T17:41:58.038Z"
   },
   {
    "duration": 211,
    "start_time": "2023-06-10T17:42:06.412Z"
   },
   {
    "duration": 183,
    "start_time": "2023-06-10T17:45:06.676Z"
   },
   {
    "duration": 322,
    "start_time": "2023-06-10T17:46:01.778Z"
   },
   {
    "duration": 208,
    "start_time": "2023-06-10T17:46:10.289Z"
   },
   {
    "duration": 211,
    "start_time": "2023-06-10T17:46:31.889Z"
   },
   {
    "duration": 220,
    "start_time": "2023-06-10T17:48:10.791Z"
   },
   {
    "duration": 206,
    "start_time": "2023-06-10T17:50:11.289Z"
   },
   {
    "duration": 14,
    "start_time": "2023-06-10T17:52:13.774Z"
   },
   {
    "duration": 185,
    "start_time": "2023-06-10T17:52:16.507Z"
   },
   {
    "duration": 190,
    "start_time": "2023-06-10T17:58:16.107Z"
   },
   {
    "duration": 231,
    "start_time": "2023-06-10T18:00:09.352Z"
   },
   {
    "duration": 255,
    "start_time": "2023-06-10T18:00:49.054Z"
   },
   {
    "duration": 187,
    "start_time": "2023-06-10T18:01:08.318Z"
   },
   {
    "duration": 211,
    "start_time": "2023-06-10T18:02:34.889Z"
   },
   {
    "duration": 303,
    "start_time": "2023-06-10T18:02:51.518Z"
   },
   {
    "duration": 206,
    "start_time": "2023-06-10T18:03:30.520Z"
   },
   {
    "duration": 207,
    "start_time": "2023-06-10T18:03:41.974Z"
   },
   {
    "duration": 204,
    "start_time": "2023-06-10T18:04:12.018Z"
   },
   {
    "duration": 173,
    "start_time": "2023-06-11T11:54:13.048Z"
   },
   {
    "duration": 164,
    "start_time": "2023-06-11T11:54:42.926Z"
   },
   {
    "duration": 165,
    "start_time": "2023-06-11T11:55:30.273Z"
   },
   {
    "duration": 177,
    "start_time": "2023-06-11T11:56:01.074Z"
   },
   {
    "duration": 185,
    "start_time": "2023-06-11T11:56:24.298Z"
   },
   {
    "duration": 9,
    "start_time": "2023-06-11T11:58:20.425Z"
   },
   {
    "duration": 3477,
    "start_time": "2023-06-11T11:58:28.473Z"
   },
   {
    "duration": 10,
    "start_time": "2023-06-11T12:00:12.950Z"
   },
   {
    "duration": 9,
    "start_time": "2023-06-11T12:02:38.310Z"
   },
   {
    "duration": 4,
    "start_time": "2023-06-11T12:10:49.900Z"
   },
   {
    "duration": 3,
    "start_time": "2023-06-11T12:11:04.601Z"
   },
   {
    "duration": 5,
    "start_time": "2023-06-11T12:11:11.425Z"
   },
   {
    "duration": 5,
    "start_time": "2023-06-11T12:11:30.427Z"
   },
   {
    "duration": 54,
    "start_time": "2023-06-11T12:16:29.103Z"
   },
   {
    "duration": 4,
    "start_time": "2023-06-11T12:16:37.677Z"
   },
   {
    "duration": 73,
    "start_time": "2023-06-11T17:19:45.691Z"
   },
   {
    "duration": 11,
    "start_time": "2023-06-11T17:20:00.976Z"
   },
   {
    "duration": 430,
    "start_time": "2023-06-11T17:20:06.090Z"
   },
   {
    "duration": 273,
    "start_time": "2023-06-11T17:20:06.524Z"
   },
   {
    "duration": 209,
    "start_time": "2023-06-11T17:20:06.799Z"
   },
   {
    "duration": 16373,
    "start_time": "2023-06-11T17:20:07.010Z"
   },
   {
    "duration": 10588,
    "start_time": "2023-06-11T17:20:23.385Z"
   },
   {
    "duration": 14214,
    "start_time": "2023-06-11T17:20:33.975Z"
   },
   {
    "duration": 618,
    "start_time": "2023-06-11T17:20:48.256Z"
   },
   {
    "duration": 8012,
    "start_time": "2023-06-11T17:20:48.876Z"
   },
   {
    "duration": 5,
    "start_time": "2023-06-11T17:20:56.890Z"
   },
   {
    "duration": 3345,
    "start_time": "2023-06-11T17:20:56.957Z"
   },
   {
    "duration": 122,
    "start_time": "2023-06-11T17:21:00.356Z"
   },
   {
    "duration": 1419,
    "start_time": "2023-06-11T17:21:00.480Z"
   },
   {
    "duration": 1315,
    "start_time": "2023-06-11T17:21:01.903Z"
   },
   {
    "duration": 67,
    "start_time": "2023-06-11T17:21:03.220Z"
   },
   {
    "duration": 76,
    "start_time": "2023-06-11T17:21:03.289Z"
   },
   {
    "duration": 8192,
    "start_time": "2023-06-11T17:21:03.368Z"
   },
   {
    "duration": 0,
    "start_time": "2023-06-11T17:21:11.562Z"
   },
   {
    "duration": 0,
    "start_time": "2023-06-11T17:21:11.563Z"
   },
   {
    "duration": 0,
    "start_time": "2023-06-11T17:21:11.565Z"
   },
   {
    "duration": 0,
    "start_time": "2023-06-11T17:21:11.565Z"
   },
   {
    "duration": 0,
    "start_time": "2023-06-11T17:21:11.567Z"
   },
   {
    "duration": 472,
    "start_time": "2023-06-11T17:24:05.742Z"
   },
   {
    "duration": 283,
    "start_time": "2023-06-11T17:24:06.216Z"
   },
   {
    "duration": 243,
    "start_time": "2023-06-11T17:24:06.502Z"
   },
   {
    "duration": 16615,
    "start_time": "2023-06-11T17:24:06.747Z"
   },
   {
    "duration": 10291,
    "start_time": "2023-06-11T17:24:23.366Z"
   },
   {
    "duration": 15034,
    "start_time": "2023-06-11T17:24:33.659Z"
   },
   {
    "duration": 684,
    "start_time": "2023-06-11T17:24:48.695Z"
   },
   {
    "duration": 7875,
    "start_time": "2023-06-11T17:24:49.381Z"
   },
   {
    "duration": 6,
    "start_time": "2023-06-11T17:24:57.259Z"
   },
   {
    "duration": 3933,
    "start_time": "2023-06-11T17:24:57.267Z"
   },
   {
    "duration": 174,
    "start_time": "2023-06-11T17:25:01.203Z"
   },
   {
    "duration": 1196,
    "start_time": "2023-06-11T17:25:01.379Z"
   },
   {
    "duration": 1201,
    "start_time": "2023-06-11T17:25:02.577Z"
   },
   {
    "duration": 36,
    "start_time": "2023-06-11T17:25:03.782Z"
   },
   {
    "duration": 9,
    "start_time": "2023-06-11T17:25:03.857Z"
   },
   {
    "duration": 36689,
    "start_time": "2023-06-11T17:25:03.868Z"
   },
   {
    "duration": 7424,
    "start_time": "2023-06-11T17:25:40.559Z"
   },
   {
    "duration": 73,
    "start_time": "2023-06-11T17:25:47.985Z"
   },
   {
    "duration": 8,
    "start_time": "2023-06-11T17:25:48.059Z"
   },
   {
    "duration": 961,
    "start_time": "2023-06-11T17:25:48.069Z"
   },
   {
    "duration": 0,
    "start_time": "2023-06-11T17:25:49.032Z"
   },
   {
    "duration": 247,
    "start_time": "2023-06-11T17:27:27.302Z"
   },
   {
    "duration": 46,
    "start_time": "2023-06-11T17:27:57.756Z"
   },
   {
    "duration": 211,
    "start_time": "2023-06-11T17:28:03.506Z"
   },
   {
    "duration": 208,
    "start_time": "2023-06-11T17:28:23.355Z"
   },
   {
    "duration": 216,
    "start_time": "2023-06-11T17:28:39.630Z"
   },
   {
    "duration": 209,
    "start_time": "2023-06-11T17:28:49.541Z"
   },
   {
    "duration": 284,
    "start_time": "2023-06-11T17:29:23.306Z"
   },
   {
    "duration": 205,
    "start_time": "2023-06-11T17:29:50.294Z"
   },
   {
    "duration": 240,
    "start_time": "2023-06-11T17:30:11.995Z"
   },
   {
    "duration": 223,
    "start_time": "2023-06-11T17:31:02.456Z"
   },
   {
    "duration": 330,
    "start_time": "2023-06-11T17:31:12.856Z"
   },
   {
    "duration": 203,
    "start_time": "2023-06-11T17:34:45.276Z"
   },
   {
    "duration": 206,
    "start_time": "2023-06-11T17:35:11.633Z"
   },
   {
    "duration": 228,
    "start_time": "2023-06-11T17:36:50.981Z"
   },
   {
    "duration": 232,
    "start_time": "2023-06-11T17:37:14.358Z"
   },
   {
    "duration": 204,
    "start_time": "2023-06-11T17:38:39.539Z"
   },
   {
    "duration": 229,
    "start_time": "2023-06-11T17:38:50.358Z"
   },
   {
    "duration": 218,
    "start_time": "2023-06-11T17:38:59.240Z"
   },
   {
    "duration": 213,
    "start_time": "2023-06-11T17:39:22.410Z"
   },
   {
    "duration": 447,
    "start_time": "2023-06-11T17:40:22.852Z"
   },
   {
    "duration": 303,
    "start_time": "2023-06-11T17:40:23.301Z"
   },
   {
    "duration": 201,
    "start_time": "2023-06-11T17:40:23.606Z"
   },
   {
    "duration": 15387,
    "start_time": "2023-06-11T17:40:23.809Z"
   },
   {
    "duration": 9756,
    "start_time": "2023-06-11T17:40:39.201Z"
   },
   {
    "duration": 14108,
    "start_time": "2023-06-11T17:40:48.960Z"
   },
   {
    "duration": 597,
    "start_time": "2023-06-11T17:41:03.070Z"
   },
   {
    "duration": 7290,
    "start_time": "2023-06-11T17:41:03.670Z"
   },
   {
    "duration": 5,
    "start_time": "2023-06-11T17:41:10.962Z"
   },
   {
    "duration": 3353,
    "start_time": "2023-06-11T17:41:10.969Z"
   },
   {
    "duration": 68,
    "start_time": "2023-06-11T17:41:14.324Z"
   },
   {
    "duration": 1115,
    "start_time": "2023-06-11T17:41:14.393Z"
   },
   {
    "duration": 1162,
    "start_time": "2023-06-11T17:41:15.510Z"
   },
   {
    "duration": 28,
    "start_time": "2023-06-11T17:41:16.675Z"
   },
   {
    "duration": 53,
    "start_time": "2023-06-11T17:41:16.705Z"
   },
   {
    "duration": 32109,
    "start_time": "2023-06-11T17:41:16.760Z"
   },
   {
    "duration": 6300,
    "start_time": "2023-06-11T17:41:48.871Z"
   },
   {
    "duration": 5,
    "start_time": "2023-06-11T17:41:55.173Z"
   },
   {
    "duration": 10,
    "start_time": "2023-06-11T17:41:55.180Z"
   },
   {
    "duration": 282,
    "start_time": "2023-06-11T17:41:55.192Z"
   },
   {
    "duration": 1971,
    "start_time": "2023-06-11T17:44:29.909Z"
   },
   {
    "duration": 420,
    "start_time": "2023-06-11T17:44:38.293Z"
   },
   {
    "duration": 304,
    "start_time": "2023-06-11T17:44:38.715Z"
   },
   {
    "duration": 239,
    "start_time": "2023-06-11T17:44:39.021Z"
   },
   {
    "duration": 15615,
    "start_time": "2023-06-11T17:44:39.262Z"
   },
   {
    "duration": 9903,
    "start_time": "2023-06-11T17:44:54.881Z"
   },
   {
    "duration": 13806,
    "start_time": "2023-06-11T17:45:04.786Z"
   },
   {
    "duration": 658,
    "start_time": "2023-06-11T17:45:18.657Z"
   },
   {
    "duration": 7630,
    "start_time": "2023-06-11T17:45:19.357Z"
   },
   {
    "duration": 5,
    "start_time": "2023-06-11T17:45:27.056Z"
   },
   {
    "duration": 3525,
    "start_time": "2023-06-11T17:45:27.062Z"
   },
   {
    "duration": 191,
    "start_time": "2023-06-11T17:45:30.589Z"
   },
   {
    "duration": 1296,
    "start_time": "2023-06-11T17:45:30.782Z"
   },
   {
    "duration": 1110,
    "start_time": "2023-06-11T17:45:32.080Z"
   },
   {
    "duration": 86,
    "start_time": "2023-06-11T17:45:33.193Z"
   },
   {
    "duration": 8,
    "start_time": "2023-06-11T17:45:33.281Z"
   },
   {
    "duration": 33788,
    "start_time": "2023-06-11T17:45:33.290Z"
   },
   {
    "duration": 6811,
    "start_time": "2023-06-11T17:46:07.079Z"
   },
   {
    "duration": 5,
    "start_time": "2023-06-11T17:46:13.956Z"
   },
   {
    "duration": 13,
    "start_time": "2023-06-11T17:46:13.963Z"
   },
   {
    "duration": 578,
    "start_time": "2023-06-11T17:46:13.978Z"
   },
   {
    "duration": 262,
    "start_time": "2023-06-11T17:52:36.742Z"
   },
   {
    "duration": 229,
    "start_time": "2023-06-11T17:53:34.850Z"
   },
   {
    "duration": 5788,
    "start_time": "2023-06-11T17:57:32.173Z"
   },
   {
    "duration": 3498,
    "start_time": "2023-06-11T17:58:17.862Z"
   },
   {
    "duration": 431,
    "start_time": "2023-06-11T17:59:22.573Z"
   },
   {
    "duration": 300,
    "start_time": "2023-06-11T17:59:23.006Z"
   },
   {
    "duration": 197,
    "start_time": "2023-06-11T17:59:23.307Z"
   },
   {
    "duration": 16062,
    "start_time": "2023-06-11T17:59:23.507Z"
   },
   {
    "duration": 9722,
    "start_time": "2023-06-11T17:59:39.572Z"
   },
   {
    "duration": 15462,
    "start_time": "2023-06-11T17:59:49.297Z"
   },
   {
    "duration": 596,
    "start_time": "2023-06-11T18:00:04.761Z"
   },
   {
    "duration": 8101,
    "start_time": "2023-06-11T18:00:05.360Z"
   },
   {
    "duration": 3,
    "start_time": "2023-06-11T18:00:13.463Z"
   },
   {
    "duration": 3328,
    "start_time": "2023-06-11T18:00:13.469Z"
   },
   {
    "duration": 176,
    "start_time": "2023-06-11T18:00:16.799Z"
   },
   {
    "duration": 1211,
    "start_time": "2023-06-11T18:00:16.978Z"
   },
   {
    "duration": 1279,
    "start_time": "2023-06-11T18:00:18.190Z"
   },
   {
    "duration": 32,
    "start_time": "2023-06-11T18:00:19.471Z"
   },
   {
    "duration": 7,
    "start_time": "2023-06-11T18:00:19.505Z"
   },
   {
    "duration": 33908,
    "start_time": "2023-06-11T18:00:19.556Z"
   },
   {
    "duration": 7120,
    "start_time": "2023-06-11T18:00:53.467Z"
   },
   {
    "duration": 4,
    "start_time": "2023-06-11T18:01:00.589Z"
   },
   {
    "duration": 68,
    "start_time": "2023-06-11T18:01:00.594Z"
   },
   {
    "duration": 269,
    "start_time": "2023-06-11T18:01:00.665Z"
   },
   {
    "duration": 4045,
    "start_time": "2023-06-11T18:01:00.936Z"
   },
   {
    "duration": 1417,
    "start_time": "2023-06-11T18:08:27.945Z"
   },
   {
    "duration": 437,
    "start_time": "2023-06-11T18:09:10.391Z"
   },
   {
    "duration": 276,
    "start_time": "2023-06-11T18:09:10.830Z"
   },
   {
    "duration": 199,
    "start_time": "2023-06-11T18:09:11.108Z"
   },
   {
    "duration": 15202,
    "start_time": "2023-06-11T18:09:11.309Z"
   },
   {
    "duration": 9360,
    "start_time": "2023-06-11T18:09:26.513Z"
   },
   {
    "duration": 13915,
    "start_time": "2023-06-11T18:09:35.875Z"
   },
   {
    "duration": 600,
    "start_time": "2023-06-11T18:09:49.791Z"
   },
   {
    "duration": 7701,
    "start_time": "2023-06-11T18:09:50.392Z"
   },
   {
    "duration": 66,
    "start_time": "2023-06-11T18:09:58.095Z"
   },
   {
    "duration": 3448,
    "start_time": "2023-06-11T18:09:58.164Z"
   },
   {
    "duration": 157,
    "start_time": "2023-06-11T18:10:01.614Z"
   },
   {
    "duration": 1182,
    "start_time": "2023-06-11T18:10:01.774Z"
   },
   {
    "duration": 1306,
    "start_time": "2023-06-11T18:10:02.959Z"
   },
   {
    "duration": 30,
    "start_time": "2023-06-11T18:10:04.267Z"
   },
   {
    "duration": 9,
    "start_time": "2023-06-11T18:10:04.298Z"
   },
   {
    "duration": 32573,
    "start_time": "2023-06-11T18:10:04.309Z"
   },
   {
    "duration": 6790,
    "start_time": "2023-06-11T18:10:36.884Z"
   },
   {
    "duration": 5,
    "start_time": "2023-06-11T18:10:43.676Z"
   },
   {
    "duration": 139,
    "start_time": "2023-06-11T18:10:43.682Z"
   },
   {
    "duration": 540,
    "start_time": "2023-06-11T18:10:43.823Z"
   },
   {
    "duration": 4413,
    "start_time": "2023-06-11T18:10:44.365Z"
   },
   {
    "duration": 1322,
    "start_time": "2023-06-11T18:10:48.780Z"
   },
   {
    "duration": 86,
    "start_time": "2023-06-11T18:21:55.371Z"
   },
   {
    "duration": 4,
    "start_time": "2023-06-11T18:23:12.292Z"
   },
   {
    "duration": 7,
    "start_time": "2023-06-11T18:25:58.810Z"
   },
   {
    "duration": 65,
    "start_time": "2023-06-11T18:28:36.973Z"
   },
   {
    "duration": 453,
    "start_time": "2023-06-11T19:25:52.331Z"
   },
   {
    "duration": 314,
    "start_time": "2023-06-11T19:25:52.786Z"
   },
   {
    "duration": 214,
    "start_time": "2023-06-11T19:25:53.101Z"
   },
   {
    "duration": 15157,
    "start_time": "2023-06-11T19:25:53.317Z"
   },
   {
    "duration": 9211,
    "start_time": "2023-06-11T19:26:08.476Z"
   },
   {
    "duration": 14680,
    "start_time": "2023-06-11T19:26:17.689Z"
   },
   {
    "duration": 88,
    "start_time": "2023-06-11T19:26:32.371Z"
   },
   {
    "duration": 0,
    "start_time": "2023-06-11T19:26:32.461Z"
   },
   {
    "duration": 0,
    "start_time": "2023-06-11T19:26:32.463Z"
   },
   {
    "duration": 0,
    "start_time": "2023-06-11T19:26:32.464Z"
   },
   {
    "duration": 0,
    "start_time": "2023-06-11T19:26:32.465Z"
   },
   {
    "duration": 0,
    "start_time": "2023-06-11T19:26:32.467Z"
   },
   {
    "duration": 0,
    "start_time": "2023-06-11T19:26:32.468Z"
   },
   {
    "duration": 0,
    "start_time": "2023-06-11T19:26:32.470Z"
   },
   {
    "duration": 0,
    "start_time": "2023-06-11T19:26:32.471Z"
   },
   {
    "duration": 0,
    "start_time": "2023-06-11T19:26:32.473Z"
   },
   {
    "duration": 0,
    "start_time": "2023-06-11T19:26:32.474Z"
   },
   {
    "duration": 0,
    "start_time": "2023-06-11T19:26:32.476Z"
   },
   {
    "duration": 0,
    "start_time": "2023-06-11T19:26:32.477Z"
   },
   {
    "duration": 0,
    "start_time": "2023-06-11T19:26:32.478Z"
   },
   {
    "duration": 0,
    "start_time": "2023-06-11T19:26:32.480Z"
   },
   {
    "duration": 0,
    "start_time": "2023-06-11T19:26:32.481Z"
   },
   {
    "duration": 0,
    "start_time": "2023-06-11T19:26:32.483Z"
   },
   {
    "duration": 0,
    "start_time": "2023-06-11T19:26:32.485Z"
   },
   {
    "duration": 0,
    "start_time": "2023-06-11T19:26:32.486Z"
   },
   {
    "duration": 567,
    "start_time": "2023-06-11T19:28:07.094Z"
   },
   {
    "duration": 429,
    "start_time": "2023-06-11T19:29:06.661Z"
   },
   {
    "duration": 311,
    "start_time": "2023-06-11T19:29:07.092Z"
   },
   {
    "duration": 198,
    "start_time": "2023-06-11T19:29:07.404Z"
   },
   {
    "duration": 15163,
    "start_time": "2023-06-11T19:29:07.604Z"
   },
   {
    "duration": 8988,
    "start_time": "2023-06-11T19:29:22.769Z"
   },
   {
    "duration": 13328,
    "start_time": "2023-06-11T19:29:31.759Z"
   },
   {
    "duration": 589,
    "start_time": "2023-06-11T19:29:45.088Z"
   },
   {
    "duration": 6781,
    "start_time": "2023-06-11T19:29:45.679Z"
   },
   {
    "duration": 4,
    "start_time": "2023-06-11T19:29:52.462Z"
   },
   {
    "duration": 2985,
    "start_time": "2023-06-11T19:29:52.473Z"
   },
   {
    "duration": 116,
    "start_time": "2023-06-11T19:29:55.460Z"
   },
   {
    "duration": 1011,
    "start_time": "2023-06-11T19:29:55.578Z"
   },
   {
    "duration": 47,
    "start_time": "2023-06-11T19:29:56.591Z"
   },
   {
    "duration": 0,
    "start_time": "2023-06-11T19:29:56.640Z"
   },
   {
    "duration": 0,
    "start_time": "2023-06-11T19:29:56.643Z"
   },
   {
    "duration": 0,
    "start_time": "2023-06-11T19:29:56.644Z"
   },
   {
    "duration": 0,
    "start_time": "2023-06-11T19:29:56.646Z"
   },
   {
    "duration": 0,
    "start_time": "2023-06-11T19:29:56.648Z"
   },
   {
    "duration": 0,
    "start_time": "2023-06-11T19:29:56.656Z"
   },
   {
    "duration": 0,
    "start_time": "2023-06-11T19:29:56.658Z"
   },
   {
    "duration": 0,
    "start_time": "2023-06-11T19:29:56.659Z"
   },
   {
    "duration": 0,
    "start_time": "2023-06-11T19:29:56.660Z"
   },
   {
    "duration": 0,
    "start_time": "2023-06-11T19:29:56.662Z"
   },
   {
    "duration": 438,
    "start_time": "2023-06-11T19:31:00.554Z"
   },
   {
    "duration": 307,
    "start_time": "2023-06-11T19:31:00.994Z"
   },
   {
    "duration": 199,
    "start_time": "2023-06-11T19:31:01.303Z"
   },
   {
    "duration": 15156,
    "start_time": "2023-06-11T19:31:01.505Z"
   },
   {
    "duration": 8797,
    "start_time": "2023-06-11T19:31:16.663Z"
   },
   {
    "duration": 13199,
    "start_time": "2023-06-11T19:31:25.462Z"
   },
   {
    "duration": 605,
    "start_time": "2023-06-11T19:31:38.663Z"
   },
   {
    "duration": 6930,
    "start_time": "2023-06-11T19:31:39.269Z"
   },
   {
    "duration": 5,
    "start_time": "2023-06-11T19:31:46.257Z"
   },
   {
    "duration": 3502,
    "start_time": "2023-06-11T19:31:46.264Z"
   },
   {
    "duration": 122,
    "start_time": "2023-06-11T19:31:49.768Z"
   },
   {
    "duration": 1088,
    "start_time": "2023-06-11T19:31:49.891Z"
   },
   {
    "duration": 1111,
    "start_time": "2023-06-11T19:31:50.981Z"
   },
   {
    "duration": 82,
    "start_time": "2023-06-11T19:31:52.093Z"
   },
   {
    "duration": 7,
    "start_time": "2023-06-11T19:31:52.177Z"
   },
   {
    "duration": 32305,
    "start_time": "2023-06-11T19:31:52.186Z"
   },
   {
    "duration": 6991,
    "start_time": "2023-06-11T19:32:24.493Z"
   },
   {
    "duration": 74,
    "start_time": "2023-06-11T19:32:31.487Z"
   },
   {
    "duration": 53,
    "start_time": "2023-06-11T19:32:31.563Z"
   },
   {
    "duration": 568,
    "start_time": "2023-06-11T19:32:31.619Z"
   },
   {
    "duration": 4168,
    "start_time": "2023-06-11T19:32:32.189Z"
   },
   {
    "duration": 1303,
    "start_time": "2023-06-11T19:32:36.359Z"
   },
   {
    "duration": 69,
    "start_time": "2023-06-12T16:01:50.742Z"
   },
   {
    "duration": 449,
    "start_time": "2023-06-12T16:02:24.975Z"
   },
   {
    "duration": 278,
    "start_time": "2023-06-12T16:02:25.426Z"
   },
   {
    "duration": 407,
    "start_time": "2023-06-12T16:02:25.706Z"
   },
   {
    "duration": 21423,
    "start_time": "2023-06-12T16:02:26.115Z"
   },
   {
    "duration": 10150,
    "start_time": "2023-06-12T16:02:47.540Z"
   },
   {
    "duration": 14584,
    "start_time": "2023-06-12T16:02:57.692Z"
   },
   {
    "duration": 599,
    "start_time": "2023-06-12T16:03:12.278Z"
   },
   {
    "duration": 8276,
    "start_time": "2023-06-12T16:03:12.880Z"
   },
   {
    "duration": 6,
    "start_time": "2023-06-12T16:03:21.159Z"
   },
   {
    "duration": 4884,
    "start_time": "2023-06-12T16:03:21.167Z"
   },
   {
    "duration": 115,
    "start_time": "2023-06-12T16:03:26.057Z"
   },
   {
    "duration": 1222,
    "start_time": "2023-06-12T16:03:26.174Z"
   },
   {
    "duration": 502,
    "start_time": "2023-06-12T16:03:42.495Z"
   },
   {
    "duration": 104,
    "start_time": "2023-06-12T16:04:33.706Z"
   },
   {
    "duration": 21,
    "start_time": "2023-06-12T16:08:00.164Z"
   },
   {
    "duration": 380,
    "start_time": "2023-06-12T16:08:16.888Z"
   },
   {
    "duration": 10,
    "start_time": "2023-06-12T16:08:30.464Z"
   },
   {
    "duration": 304,
    "start_time": "2023-06-12T16:09:26.683Z"
   },
   {
    "duration": 8,
    "start_time": "2023-06-12T16:09:57.332Z"
   },
   {
    "duration": 14,
    "start_time": "2023-06-12T16:11:38.259Z"
   },
   {
    "duration": 8,
    "start_time": "2023-06-12T16:12:05.034Z"
   },
   {
    "duration": 8,
    "start_time": "2023-06-12T16:12:37.813Z"
   },
   {
    "duration": 18,
    "start_time": "2023-06-12T16:12:44.508Z"
   },
   {
    "duration": 223,
    "start_time": "2023-06-12T16:12:54.584Z"
   },
   {
    "duration": 9,
    "start_time": "2023-06-12T16:13:30.884Z"
   },
   {
    "duration": 4,
    "start_time": "2023-06-12T16:15:02.468Z"
   },
   {
    "duration": 8,
    "start_time": "2023-06-12T16:18:28.484Z"
   },
   {
    "duration": 8,
    "start_time": "2023-06-12T16:19:25.410Z"
   },
   {
    "duration": 46,
    "start_time": "2023-06-12T16:23:14.625Z"
   },
   {
    "duration": 401,
    "start_time": "2023-06-12T16:23:20.268Z"
   },
   {
    "duration": 297,
    "start_time": "2023-06-12T16:23:56.471Z"
   },
   {
    "duration": 195,
    "start_time": "2023-06-12T16:28:39.802Z"
   },
   {
    "duration": 321,
    "start_time": "2023-06-12T16:28:52.651Z"
   },
   {
    "duration": 232,
    "start_time": "2023-06-12T16:29:10.026Z"
   },
   {
    "duration": 12,
    "start_time": "2023-06-12T16:30:48.531Z"
   },
   {
    "duration": 19,
    "start_time": "2023-06-12T16:31:04.543Z"
   },
   {
    "duration": 28,
    "start_time": "2023-06-12T16:31:14.878Z"
   },
   {
    "duration": 39,
    "start_time": "2023-06-12T16:37:01.702Z"
   },
   {
    "duration": 597,
    "start_time": "2023-06-12T16:37:41.295Z"
   },
   {
    "duration": 5452,
    "start_time": "2023-06-12T16:39:04.105Z"
   },
   {
    "duration": 485,
    "start_time": "2023-06-12T16:41:53.439Z"
   },
   {
    "duration": 278,
    "start_time": "2023-06-12T16:41:53.928Z"
   },
   {
    "duration": 217,
    "start_time": "2023-06-12T16:41:54.211Z"
   },
   {
    "duration": 15671,
    "start_time": "2023-06-12T16:41:54.430Z"
   },
   {
    "duration": 9461,
    "start_time": "2023-06-12T16:42:10.103Z"
   },
   {
    "duration": 13809,
    "start_time": "2023-06-12T16:42:19.566Z"
   },
   {
    "duration": 686,
    "start_time": "2023-06-12T16:42:33.377Z"
   },
   {
    "duration": 7817,
    "start_time": "2023-06-12T16:42:34.065Z"
   },
   {
    "duration": 75,
    "start_time": "2023-06-12T16:42:41.885Z"
   },
   {
    "duration": 3371,
    "start_time": "2023-06-12T16:42:41.961Z"
   },
   {
    "duration": 142,
    "start_time": "2023-06-12T16:42:45.334Z"
   },
   {
    "duration": 1113,
    "start_time": "2023-06-12T16:42:45.477Z"
   },
   {
    "duration": 705,
    "start_time": "2023-06-12T16:42:46.592Z"
   },
   {
    "duration": 1465,
    "start_time": "2023-06-12T16:42:47.299Z"
   },
   {
    "duration": 30,
    "start_time": "2023-06-12T16:42:48.765Z"
   },
   {
    "duration": 8,
    "start_time": "2023-06-12T16:42:48.797Z"
   },
   {
    "duration": 29290,
    "start_time": "2023-06-12T16:42:48.807Z"
   },
   {
    "duration": 0,
    "start_time": "2023-06-12T16:43:18.098Z"
   },
   {
    "duration": 0,
    "start_time": "2023-06-12T16:43:18.100Z"
   },
   {
    "duration": 0,
    "start_time": "2023-06-12T16:43:18.101Z"
   },
   {
    "duration": 0,
    "start_time": "2023-06-12T16:43:18.103Z"
   },
   {
    "duration": 0,
    "start_time": "2023-06-12T16:43:18.104Z"
   },
   {
    "duration": 0,
    "start_time": "2023-06-12T16:43:18.105Z"
   },
   {
    "duration": 0,
    "start_time": "2023-06-12T16:43:18.107Z"
   },
   {
    "duration": 562,
    "start_time": "2023-06-12T16:51:01.330Z"
   },
   {
    "duration": 329,
    "start_time": "2023-06-12T16:51:01.898Z"
   },
   {
    "duration": 323,
    "start_time": "2023-06-12T16:51:02.229Z"
   },
   {
    "duration": 17246,
    "start_time": "2023-06-12T16:51:02.554Z"
   },
   {
    "duration": 11382,
    "start_time": "2023-06-12T16:51:19.802Z"
   },
   {
    "duration": 16174,
    "start_time": "2023-06-12T16:51:31.186Z"
   },
   {
    "duration": 609,
    "start_time": "2023-06-12T16:51:47.368Z"
   },
   {
    "duration": 7895,
    "start_time": "2023-06-12T16:51:47.979Z"
   },
   {
    "duration": 12,
    "start_time": "2023-06-12T16:51:55.875Z"
   },
   {
    "duration": 3788,
    "start_time": "2023-06-12T16:51:55.893Z"
   },
   {
    "duration": 199,
    "start_time": "2023-06-12T16:51:59.684Z"
   },
   {
    "duration": 1302,
    "start_time": "2023-06-12T16:51:59.885Z"
   },
   {
    "duration": 887,
    "start_time": "2023-06-12T16:52:01.189Z"
   },
   {
    "duration": 1617,
    "start_time": "2023-06-12T16:52:02.079Z"
   },
   {
    "duration": 70,
    "start_time": "2023-06-12T16:52:03.698Z"
   },
   {
    "duration": 10,
    "start_time": "2023-06-12T16:52:03.770Z"
   },
   {
    "duration": 41800,
    "start_time": "2023-06-12T16:52:03.783Z"
   },
   {
    "duration": 8575,
    "start_time": "2023-06-12T16:52:45.587Z"
   },
   {
    "duration": 6,
    "start_time": "2023-06-12T16:52:54.163Z"
   },
   {
    "duration": 29,
    "start_time": "2023-06-12T16:52:54.171Z"
   },
   {
    "duration": 673,
    "start_time": "2023-06-12T16:52:54.202Z"
   },
   {
    "duration": 5130,
    "start_time": "2023-06-12T16:52:54.880Z"
   },
   {
    "duration": 1610,
    "start_time": "2023-06-12T16:53:00.012Z"
   },
   {
    "duration": 996,
    "start_time": "2023-06-12T16:53:01.624Z"
   },
   {
    "duration": 467,
    "start_time": "2023-06-12T18:33:07.796Z"
   },
   {
    "duration": 358,
    "start_time": "2023-06-12T18:33:08.265Z"
   },
   {
    "duration": 360,
    "start_time": "2023-06-12T18:33:08.625Z"
   },
   {
    "duration": 15773,
    "start_time": "2023-06-12T18:33:08.987Z"
   },
   {
    "duration": 9090,
    "start_time": "2023-06-12T18:33:24.762Z"
   },
   {
    "duration": 11997,
    "start_time": "2023-06-12T18:33:33.854Z"
   },
   {
    "duration": 573,
    "start_time": "2023-06-12T18:33:45.853Z"
   },
   {
    "duration": 5811,
    "start_time": "2023-06-12T18:33:46.428Z"
   },
   {
    "duration": 5,
    "start_time": "2023-06-12T18:33:52.240Z"
   },
   {
    "duration": 3922,
    "start_time": "2023-06-12T18:33:52.250Z"
   },
   {
    "duration": 70,
    "start_time": "2023-06-12T18:33:56.173Z"
   },
   {
    "duration": 900,
    "start_time": "2023-06-12T18:33:56.246Z"
   },
   {
    "duration": 582,
    "start_time": "2023-06-12T18:33:57.148Z"
   },
   {
    "duration": 1031,
    "start_time": "2023-06-12T18:33:57.732Z"
   },
   {
    "duration": 61,
    "start_time": "2023-06-12T18:33:58.764Z"
   },
   {
    "duration": 8,
    "start_time": "2023-06-12T18:33:58.828Z"
   },
   {
    "duration": 30091,
    "start_time": "2023-06-12T18:33:58.837Z"
   },
   {
    "duration": 6500,
    "start_time": "2023-06-12T18:34:28.929Z"
   },
   {
    "duration": 5,
    "start_time": "2023-06-12T18:34:35.431Z"
   },
   {
    "duration": 91,
    "start_time": "2023-06-12T18:34:35.438Z"
   },
   {
    "duration": 513,
    "start_time": "2023-06-12T18:34:35.531Z"
   },
   {
    "duration": 4179,
    "start_time": "2023-06-12T18:34:36.046Z"
   },
   {
    "duration": 1326,
    "start_time": "2023-06-12T18:34:40.227Z"
   },
   {
    "duration": 999,
    "start_time": "2023-06-12T18:34:41.555Z"
   },
   {
    "duration": 408,
    "start_time": "2023-06-13T13:53:42.327Z"
   },
   {
    "duration": 246,
    "start_time": "2023-06-13T13:53:42.822Z"
   },
   {
    "duration": 323,
    "start_time": "2023-06-13T13:53:43.292Z"
   },
   {
    "duration": 14198,
    "start_time": "2023-06-13T13:53:47.023Z"
   },
   {
    "duration": 7818,
    "start_time": "2023-06-13T13:54:01.223Z"
   },
   {
    "duration": 12194,
    "start_time": "2023-06-13T13:54:09.043Z"
   },
   {
    "duration": 91,
    "start_time": "2023-06-13T13:56:18.034Z"
   },
   {
    "duration": 8,
    "start_time": "2023-06-13T13:59:00.534Z"
   },
   {
    "duration": 7,
    "start_time": "2023-06-13T13:59:46.249Z"
   },
   {
    "duration": 8,
    "start_time": "2023-06-13T14:00:20.927Z"
   },
   {
    "duration": 7,
    "start_time": "2023-06-13T14:03:16.626Z"
   },
   {
    "duration": 7,
    "start_time": "2023-06-13T14:03:30.253Z"
   },
   {
    "duration": 3,
    "start_time": "2023-06-13T14:05:21.423Z"
   },
   {
    "duration": 6,
    "start_time": "2023-06-13T14:10:34.582Z"
   },
   {
    "duration": 8,
    "start_time": "2023-06-13T14:11:03.331Z"
   },
   {
    "duration": 6,
    "start_time": "2023-06-13T14:11:16.423Z"
   },
   {
    "duration": 426,
    "start_time": "2024-02-08T15:33:12.454Z"
   },
   {
    "duration": 277,
    "start_time": "2024-02-08T15:33:12.882Z"
   },
   {
    "duration": 357,
    "start_time": "2024-02-08T15:33:13.161Z"
   },
   {
    "duration": 15125,
    "start_time": "2024-02-08T15:33:13.520Z"
   },
   {
    "duration": 8317,
    "start_time": "2024-02-08T15:33:28.648Z"
   },
   {
    "duration": 13111,
    "start_time": "2024-02-08T15:33:37.017Z"
   },
   {
    "duration": 522,
    "start_time": "2024-02-08T15:33:50.131Z"
   },
   {
    "duration": 6366,
    "start_time": "2024-02-08T15:33:50.654Z"
   },
   {
    "duration": 4,
    "start_time": "2024-02-08T15:33:57.022Z"
   },
   {
    "duration": 3323,
    "start_time": "2024-02-08T15:33:57.027Z"
   },
   {
    "duration": 87,
    "start_time": "2024-02-08T15:34:00.352Z"
   },
   {
    "duration": 1192,
    "start_time": "2024-02-08T15:34:00.440Z"
   },
   {
    "duration": 687,
    "start_time": "2024-02-08T15:34:01.634Z"
   },
   {
    "duration": 1328,
    "start_time": "2024-02-08T15:34:02.324Z"
   },
   {
    "duration": 64,
    "start_time": "2024-02-08T15:34:03.654Z"
   },
   {
    "duration": 8,
    "start_time": "2024-02-08T15:34:03.721Z"
   },
   {
    "duration": 33113,
    "start_time": "2024-02-08T15:34:03.730Z"
   },
   {
    "duration": 7112,
    "start_time": "2024-02-08T15:34:36.917Z"
   },
   {
    "duration": 4,
    "start_time": "2024-02-08T15:34:44.032Z"
   },
   {
    "duration": 6,
    "start_time": "2024-02-08T15:34:44.038Z"
   },
   {
    "duration": 518,
    "start_time": "2024-02-08T15:34:44.045Z"
   },
   {
    "duration": 4214,
    "start_time": "2024-02-08T15:34:44.617Z"
   },
   {
    "duration": 1389,
    "start_time": "2024-02-08T15:34:48.833Z"
   },
   {
    "duration": 982,
    "start_time": "2024-02-08T15:34:50.224Z"
   }
  ],
  "colab": {
   "name": "PySparkSprint.ipynb",
   "provenance": []
  },
  "kernelspec": {
   "display_name": "Python 3 (ipykernel)",
   "language": "python",
   "name": "python3"
  },
  "language_info": {
   "codemirror_mode": {
    "name": "ipython",
    "version": 3
   },
   "file_extension": ".py",
   "mimetype": "text/x-python",
   "name": "python",
   "nbconvert_exporter": "python",
   "pygments_lexer": "ipython3",
   "version": "3.9.16"
  },
  "toc": {
   "base_numbering": 1,
   "nav_menu": {},
   "number_sections": true,
   "sideBar": true,
   "skip_h1_title": true,
   "title_cell": "Table of Contents",
   "title_sidebar": "Contents",
   "toc_cell": false,
   "toc_position": {},
   "toc_section_display": true,
   "toc_window_display": false
  }
 },
 "nbformat": 4,
 "nbformat_minor": 5
}
