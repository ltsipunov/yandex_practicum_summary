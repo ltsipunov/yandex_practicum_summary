{
 "cells": [
  {
   "cell_type": "code",
   "execution_count": 1,
   "id": "849a89ad",
   "metadata": {},
   "outputs": [],
   "source": [
    "# from utils import X,y,cat_cols,fillna,normalize,skew,encode\n",
    "from task import *\n",
    "import gc\n",
    "import time\n"
   ]
  },
  {
   "cell_type": "code",
   "execution_count": 2,
   "id": "fe7e4fea",
   "metadata": {},
   "outputs": [],
   "source": [
    "def data():\n",
    "    tr = pd.read_csv('datasets/train.csv' )\n",
    "    te = pd.read_csv('datasets/test.csv' )\n",
    "    return( (tr,te) )  \n",
    "\n"
   ]
  },
  {
   "cell_type": "code",
   "execution_count": 3,
   "id": "8bab62dd",
   "metadata": {},
   "outputs": [],
   "source": [
    "class Submitter(Task):\n",
    "\n",
    "    def __init__(self, data, params = {}):\n",
    "        super().__init__( data, params)\n",
    "        self.ds = SubmissionSet( data[0],data[1] ,params=self.params)  \n",
    "\n",
    "    def process(self,ds = None ):\n",
    "        if ds==None:\n",
    "            ds = self.ds\n",
    "        ds.set_encoder( self.new_encoder() ).set_model(self.new_model() )\n",
    "        ds.prepare().fit().predict()    \n",
    "    "
   ]
  },
  {
   "cell_type": "code",
   "execution_count": 4,
   "id": "74160411",
   "metadata": {
    "scrolled": true
   },
   "outputs": [
    {
     "name": "stdout",
     "output_type": "stream",
     "text": [
      "\n"
     ]
    }
   ],
   "source": [
    "params = { \n",
    "        'rounding': {'odometer': 1000, 'condition': 1, 'prefix_size': 10}, \n",
    "        'model': {'criterion': 'poisson', 'n_estimators': 64, 'max_depth': 32, 'min_samples_leaf': 2, 'max_features': 16},\n",
    "        'slice': {\n",
    "            'cat_cols': ['make', 'model', 'trim', 'body', 'transmission', 'state', 'seller', 'year', 'odometer', 'condition']\n",
    "                }, \n",
    "        'model_class': RandomForestRegressor,\n",
    "        'encoder_class': TargetEncoder,\n",
    "        'encoder': {'min_samples_leaf': 2, 'smoothing': 5},\n",
    "        'sellers': {'stages': 6} \n",
    "        }\n",
    "v = Submitter( data() ,params=params)\n",
    "v.process()\n",
    "print(v.log)\n",
    "time.sleep(10)\n",
    "del v"
   ]
  },
  {
   "cell_type": "markdown",
   "id": "2eabc24a",
   "metadata": {},
   "source": [
    "<b>Kaggle (private/public) score 16.67/16.59</b>"
   ]
  },
  {
   "cell_type": "code",
   "execution_count": 5,
   "id": "85712c98",
   "metadata": {
    "scrolled": true
   },
   "outputs": [
    {
     "data": {
      "text/plain": [
       "1182"
      ]
     },
     "execution_count": 5,
     "metadata": {},
     "output_type": "execute_result"
    }
   ],
   "source": [
    "import gc\n",
    "import time\n",
    "time.sleep(10)\n",
    "gc.collect()"
   ]
  }
 ],
 "metadata": {
  "kernelspec": {
   "display_name": "Python 3 (ipykernel)",
   "language": "python",
   "name": "python3"
  },
  "language_info": {
   "codemirror_mode": {
    "name": "ipython",
    "version": 3
   },
   "file_extension": ".py",
   "mimetype": "text/x-python",
   "name": "python",
   "nbconvert_exporter": "python",
   "pygments_lexer": "ipython3",
   "version": "3.9.16"
  }
 },
 "nbformat": 4,
 "nbformat_minor": 5
}
