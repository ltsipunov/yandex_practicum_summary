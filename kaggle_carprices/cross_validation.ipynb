{
 "cells": [
  {
   "cell_type": "markdown",
   "id": "35a9c60f",
   "metadata": {},
   "source": [
    "## Блокнот для кроссвалидации\n",
    "Из-за ограничений по объему памяти и времени выполнения  проверяем только лучший  вариант"
   ]
  },
  {
   "cell_type": "code",
   "execution_count": 1,
   "id": "849a89ad",
   "metadata": {
    "scrolled": false
   },
   "outputs": [],
   "source": [
    "from task import * \n",
    "# from utils import X,y,cat_cols,fillna,normalize,skew,encode"
   ]
  },
  {
   "cell_type": "markdown",
   "id": "1312b2d9",
   "metadata": {},
   "source": [
    "## Загрузка данных"
   ]
  },
  {
   "cell_type": "code",
   "execution_count": 2,
   "id": "fe7e4fea",
   "metadata": {},
   "outputs": [],
   "source": [
    "def data():\n",
    "    return ( pd.read_csv('datasets/train.csv') )\n",
    "\n",
    "def cross_valid_sets():\n",
    "    df0 = data()\n",
    "    df0,df2 = train_test_split(df0,test_size=.5)\n",
    "    df0,df1 = train_test_split(df0,test_size=.5)\n",
    "    df2,df3 = train_test_split(df2,test_size=.5)\n",
    "    return([df0,df1,df2,df3])\n"
   ]
  },
  {
   "cell_type": "markdown",
   "id": "1f35cb95",
   "metadata": {},
   "source": [
    "### Класс для кроссвалидации коррекций данных и гиперпараметров\n",
    " "
   ]
  },
  {
   "cell_type": "code",
   "execution_count": 3,
   "id": "8bab62dd",
   "metadata": {},
   "outputs": [],
   "source": [
    "class CrossValidator(Task):\n",
    "\n",
    "    def __init__(self, dfs,params = {}):\n",
    "        super().__init__(dfs,params)\n",
    "        self.datasets = []\n",
    "        for i in [0,1,2,3]:\n",
    "            dx = shuffle(pd.concat( dfs[:i]+dfs[(i+1):] ,axis=0 )).copy()\n",
    "            self.datasets.append(ScoreSet( dx, dfs[i].copy(),params=self.params) ) \n",
    "# Training dataset  combined from 4 base dataframes to 4 folds in all possible combinations 3:1  \n",
    "\n",
    "    def process_fold(self,f):\n",
    "        self.log +=(f\"{f.log} \\n\")  \n",
    "        f.set_encoder( self.new_encoder() ).set_model(self.new_model() )\n",
    "        f.prepare().fit().predict()\n",
    "        self.log +=(f\"{f.log} \\n\")  \n",
    "# Then run validation on each fold \n",
    "        \n",
    "    def process(self):\n",
    "        for f in self.datasets: \n",
    "            self.process_fold(f) \n",
    "        logging.debug(f\"cross-validation finished: {self.log}\")\n",
    "        self.score = self.mean_score()      \n",
    "        print(f\"MAPE mean: {self.score}\")\n",
    "        logging.info(f\"MAPE mean: {self.score}\")        \n",
    "        return(self)\n",
    "    \n",
    "    def mean_score(self):\n",
    "        return sum( [ds.scores() for ds in self.datasets ])/len(self.datasets)\n",
    "    "
   ]
  },
  {
   "cell_type": "markdown",
   "id": "10a14a26",
   "metadata": {},
   "source": [
    "<div class=\"alert alert-warning\">\n",
    "<b>Комментарий ревьюера ⚠️\n",
    "</div>\n",
    "\n",
    "> Не могу не отметить высокое качество написание кода, но почему мы не смогли реализовать решение кросс-валидации с применением стандартной библиотеки Scikit Learn? Если принимаешь решение использовать свою кастомную кросс-валидацию очень неплохо бы получить комментарии по целесообразности этого вороса.\n",
    "    "
   ]
  },
  {
   "cell_type": "code",
   "execution_count": 4,
   "id": "7eab1dca",
   "metadata": {},
   "outputs": [],
   "source": [
    "params = { \n",
    "        'rounding': {'odometer': 1000, 'condition': 1, 'prefix_size': 10}, \n",
    "        'model': {'criterion': 'poisson', 'n_estimators': 64, 'max_depth': 32, 'min_samples_leaf': 2, 'max_features': 16},\n",
    "        'slice': {\n",
    "            'cat_cols': ['make', 'model', 'trim', 'body', 'transmission', 'state', 'seller', 'year', 'odometer', 'condition']\n",
    "                }, \n",
    "        'model_class': RandomForestRegressor,\n",
    "        'encoder_class': TargetEncoder,\n",
    "        'encoder': {'min_samples_leaf': 2, 'smoothing': 5},\n",
    "        'sellers': {'stages': 6}\n",
    "        }\n",
    "cv = CrossValidator( cross_valid_sets() ,params=params)\n",
    "cv.process()\n",
    "import time\n",
    "time.sleep(10)\n",
    "del cv"
   ]
  },
  {
   "cell_type": "markdown",
   "id": "158025c2",
   "metadata": {},
   "source": [
    "MAPE values from log </br>\n",
    "2023-06-01 20:43:16,109 - INFO:  model: MAPE= 0.1321936717184024  </br>\n",
    "2023-06-01 20:48:28,045 - INFO:  model: MAPE= 0.13226218671855258  </br>\n",
    "2023-06-01 20:54:02,861 - INFO:  model: MAPE= 0.13184536203222288  </br>\n",
    "2023-06-01 20:59:39,121 - INFO:  model: MAPE= 0.13037589789014575  </br>\n",
    "<b>MAPE MEAN 0.131669279589831</b> </br>\n",
    "Результат предварительного теста в общем подтвреждён кросс-валидацией (при вдвое меньшем числе деревьев)"
   ]
  },
  {
   "cell_type": "code",
   "execution_count": 5,
   "id": "85712c98",
   "metadata": {
    "scrolled": true
   },
   "outputs": [],
   "source": [
    "import gc\n",
    "gc.collect()"
   ]
  }
 ],
 "metadata": {
  "kernelspec": {
   "display_name": "Python 3 (ipykernel)",
   "language": "python",
   "name": "python3"
  },
  "language_info": {
   "codemirror_mode": {
    "name": "ipython",
    "version": 3
   },
   "file_extension": ".py",
   "mimetype": "text/x-python",
   "name": "python",
   "nbconvert_exporter": "python",
   "pygments_lexer": "ipython3",
   "version": "3.9.16"
  }
 },
 "nbformat": 4,
 "nbformat_minor": 5
}
