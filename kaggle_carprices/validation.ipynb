{
 "cells": [
  {
   "cell_type": "markdown",
   "id": "ca4943b1",
   "metadata": {},
   "source": [
    "## Блокнот для прикидки влияния отдельных параметров\n"
   ]
  },
  {
   "cell_type": "code",
   "execution_count": 1,
   "id": "849a89ad",
   "metadata": {
    "scrolled": true
   },
   "outputs": [
    {
     "data": {
      "text/plain": [
       "1131"
      ]
     },
     "execution_count": 1,
     "metadata": {},
     "output_type": "execute_result"
    }
   ],
   "source": [
    "# from utils import X,y,cat_cols,fillna,normalize,skew,encode\n",
    "from task import *\n",
    "import gc\n",
    "gc.collect()"
   ]
  },
  {
   "cell_type": "markdown",
   "id": "a0b19b77",
   "metadata": {},
   "source": [
    "### Для тестирования используется тренировочный набор\n",
    "Набор разделён на обучающий и тестовый  в соотношении 3:1 без перемешивания "
   ]
  },
  {
   "cell_type": "code",
   "execution_count": 2,
   "id": "fe7e4fea",
   "metadata": {},
   "outputs": [],
   "source": [
    "def data():\n",
    "    split = 300_000\n",
    "    maxlines = 500_000\n",
    "    d2 = pd.read_csv('datasets/train.csv',skiprows= range(1,split) )\n",
    "    d1 = pd.read_csv('datasets/train.csv',skiprows= range(split,maxlines) )\n",
    "    return(d1,d2)  \n"
   ]
  },
  {
   "cell_type": "markdown",
   "id": "ff8ad1b1",
   "metadata": {},
   "source": [
    "### Класс для прогона тестов\n",
    "На экран выводится метрика MAPE на тетсовом наборе \n",
    "Кроме того, базовый класс записывает метрику в лог, откуда её можно извлечь"
   ]
  },
  {
   "cell_type": "code",
   "execution_count": 3,
   "id": "8bab62dd",
   "metadata": {},
   "outputs": [],
   "source": [
    "class Validator(Task):\n",
    "\n",
    "    def __init__( self, data, params = {}):\n",
    "        super().__init__(data, params)\n",
    "        self.ds = ScoreSet( data[0],data[1] ,params=self.params)\n",
    "\n",
    "    def process(self,ds = None ):\n",
    "        if ds==None:\n",
    "            ds = self.ds\n",
    "        ds.set_encoder( self.new_encoder() ).set_model(self.new_model() )\n",
    "        ds.prepare().fit().predict()\n",
    "        self.log +=(f\"{ds.log}\\t MAPE:{ds.scores()}\\n\")          \n",
    "\n",
    "    "
   ]
  },
  {
   "cell_type": "markdown",
   "id": "2183844f",
   "metadata": {},
   "source": [
    "<div class=\"alert alert-success\">\n",
    "<b>Комментарий ревьюера ✔️:</b>\n",
    "</div>\n",
    "\n",
    "> Мне очень нравится качество решения и написанного кода! Но я переживаю за то, что ты используешь ООП слишком часто и не всегда обоснованно. Ведь если быть честным, такую маленькую задачу как выше можно решить с использованием простой функции. Мой искренний совет стараться писать в функциональным стиле программирования, так как на нём как правило пишется весь промышленный код в компании. К классам прибегать когда есть много методов, нужно реализовать наследование и т.д."
   ]
  },
  {
   "cell_type": "markdown",
   "id": "df17728e",
   "metadata": {},
   "source": [
    "### Подбор параметров в цикле"
   ]
  },
  {
   "cell_type": "code",
   "execution_count": 5,
   "id": "ddb6435f",
   "metadata": {
    "scrolled": false
   },
   "outputs": [
    {
     "name": "stdout",
     "output_type": "stream",
     "text": [
      "\t MAPE:0.1335834757683081\n",
      "\n",
      "\t MAPE:0.13357836349610447\n",
      "\n",
      "\t MAPE:0.13364865749492688\n",
      "\n",
      "\t MAPE:0.13231045369323488\n",
      "\n",
      "\t MAPE:0.13205915785455016\n",
      "\n",
      "\t MAPE:0.1321691282272522\n",
      "\n",
      "\t MAPE:0.13149478847831372\n",
      "\n",
      "\t MAPE:0.13204396519648323\n",
      "\n",
      "\t MAPE:0.13227864388914465\n",
      "\n",
      "\t MAPE:0.133329046879516\n",
      "\n",
      "\t MAPE:0.1339745823368105\n",
      "\n",
      "\t MAPE:0.1348661915155183\n",
      "\n",
      "\t MAPE:0.13461268963445164\n",
      "\n",
      "\t MAPE:0.13544794174208244\n",
      "\n",
      "\t MAPE:0.1362038155302887\n",
      "\n",
      "\t MAPE:0.13560442976460338\n",
      "\n",
      "\t MAPE:0.1367956188365341\n",
      "\n",
      "\t MAPE:0.1374075418680119\n",
      "\n",
      "\t MAPE:0.14003545305790321\n",
      "\n",
      "\t MAPE:0.14074428819333681\n",
      "\n",
      "\t MAPE:0.14225734600275192\n",
      "\n",
      "\t MAPE:0.14161572035102576\n",
      "\n",
      "\t MAPE:0.1429499305886468\n",
      "\n",
      "\t MAPE:0.14390471452893713\n",
      "\n",
      "\t MAPE:0.14358121163224113\n",
      "\n",
      "\t MAPE:0.14434289921913215\n",
      "\n",
      "\t MAPE:0.14476838935045666\n",
      "\n"
     ]
    }
   ],
   "source": [
    "X = ['year','make','model','trim','body','transmission','state','seller','condition','odometer']\n",
    "cat_cols = ['make','model','trim','body','transmission','state','seller','year','odometer','condition'] \n",
    "params = { \n",
    "            'rounding': { 'odometer':3000,'condition':1},\n",
    "            'model':{  'criterion':'poisson','n_estimators':128, 'max_depth':32, 'min_samples_leaf':2, 'max_features':16},\n",
    "            'slice':{'cat_cols':['make','model','trim','body','transmission','state','seller','year','odometer','condition']}\n",
    "        }\n",
    "mc = RandomForestRegressor\n",
    "ec = TargetEncoder\n",
    "for odo in [1000,3000,600]:\n",
    "    for st  in [4,5,6]:\n",
    "        for ps in [10,12,15]:\n",
    "            params.update({'rounding': { 'odometer':odo,'condition':1,'prefix_size':ps}, \n",
    " #                          'skew': {'threshold':th,'mult':mult },\n",
    "                           'model_class': mc, 'encoder_class': ec,    \n",
    "                           'encoder': {'min_samples_leaf':2,'smoothing':5} ,\n",
    "                           'sellers':{'stages':st}\n",
    "                          })\n",
    "            v = Validator( data() ,params=params)\n",
    "            v.process()\n",
    "            print(v.log)            \n",
    "            "
   ]
  },
  {
   "cell_type": "markdown",
   "id": "3e14e3f2",
   "metadata": {},
   "source": [
    "лучший результат MAPE:0.13149478847831372 достигнут при \n",
    "\n",
    "'rounding': {'odometer': 1000, 'condition': 1, 'prefix_size': 10}, 'model': {'criterion': 'poisson', 'n_estimators': 128, 'max_depth': 32, 'min_samples_leaf': 2, 'max_features': 16}, 'slice': {'cat_cols': ['make', 'model', 'trim', 'body', 'transmission', 'state', 'seller', 'year', 'odometer', 'condition']}, 'model_class': <class 'sklearn.ensemble._forest.RandomForestRegressor'>, 'encoder_class': <class 'category_encoders.target_encoder.TargetEncoder'>, 'encoder': {'min_samples_leaf': 2, 'smoothing': 5}, 'sellers': {'stages': 6}"
   ]
  },
  {
   "cell_type": "code",
   "execution_count": null,
   "id": "fe90a0d0",
   "metadata": {},
   "outputs": [],
   "source": []
  }
 ],
 "metadata": {
  "kernelspec": {
   "display_name": "Python 3 (ipykernel)",
   "language": "python",
   "name": "python3"
  },
  "language_info": {
   "codemirror_mode": {
    "name": "ipython",
    "version": 3
   },
   "file_extension": ".py",
   "mimetype": "text/x-python",
   "name": "python",
   "nbconvert_exporter": "python",
   "pygments_lexer": "ipython3",
   "version": "3.9.16"
  }
 },
 "nbformat": 4,
 "nbformat_minor": 5
}
